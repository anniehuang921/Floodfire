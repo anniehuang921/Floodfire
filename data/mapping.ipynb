{
 "cells": [
  {
   "cell_type": "code",
   "execution_count": 7,
   "metadata": {
    "collapsed": true
   },
   "outputs": [],
   "source": [
    "properties={\n",
    "'platform':{ 'type': 'string'  },\n",
    "'content':{ 'type': 'string'  },\n",
    "'uri':{ 'type': 'string'  },\n",
    "'time':{'type':   'date',\n",
    "        'format': \"strict_date_optional_time||epoch_millis\"  },\n",
    "'content_language':{ 'type': 'string'  },\n",
    "'comments_count':{ 'type': 'integer'  },\n",
    "'event':{ 'type': 'string'  },\n",
    "'favorite_count':{ 'type': 'integer'  },\n",
    "'from_parent_id':{ 'type': 'string'  },## 用 string 即可(原設計 array)，參考 https://goo.gl/xw89hR\n",
    "'media_id':{ 'type': 'string'  },\n",
    "'media_name':{ 'type': 'string'  },\n",
    "'media_like_count':{ 'type': 'integer'  },\n",
    "'from_user_category':{ 'type': 'string'  },\n",
    "'from_user_id':{ 'type': 'string'  },\n",
    "'from_user_like_count':{ 'type': 'integer'  },\n",
    "'from_user_language':{ 'type': 'string'  },\n",
    "'from_user_location':{ 'type': 'string'  },\n",
    "'from_user_name':{ 'type': 'string'  },\n",
    "'from_user_nick':{ 'type': 'string'  },\n",
    "'from_user_realname':{ 'type': 'string'  },\n",
    "'geo':{ 'type': 'geo_point'  },\n",
    "'twi_hashtags':{ 'type': 'string'  },# array\n",
    "'fb_hashtags':{ 'type': 'string'  },# array\n",
    "'like_count':{ 'type': 'integer'  },\n",
    "'post_type':{ 'type': 'string'  },\n",
    "'share_target_uri':{ 'type': 'string'  },# array\n",
    "'share_target_title':{ 'type': 'string'  },# array\n",
    "'shared_domain':{ 'type': 'string'  },\n",
    "'shared_initial_uri':{ 'type': 'string'  },\n",
    "'shared_title':{ 'type': 'string'  },# array\n",
    "'shared_uri':{ 'type': 'string'  },# array\n",
    "'shares_count':{ 'type': 'integer'  },\n",
    "'status_type':{ 'type': 'string'  },\n",
    "'story_tag':{ 'type': 'string'  },#\n",
    "'tags_id':{ 'type': 'string'  },#\n",
    "'tags_name':{ 'type': 'string'  },#\n",
    "'title':{ 'type': 'string'  },\n",
    "'update_time':{'type':   'date',\n",
    "               'format': \"strict_date_optional_time||epoch_millis\"  }\n",
    "                }"
   ]
  },
  {
   "cell_type": "code",
   "execution_count": 8,
   "metadata": {
    "collapsed": false
   },
   "outputs": [
    {
     "data": {
      "text/plain": [
       "dict"
      ]
     },
     "execution_count": 8,
     "metadata": {},
     "output_type": "execute_result"
    }
   ],
   "source": [
    "type(properties)"
   ]
  },
  {
   "cell_type": "code",
   "execution_count": 2,
   "metadata": {
    "collapsed": true
   },
   "outputs": [],
   "source": [
    "properties = str(properties)"
   ]
  },
  {
   "cell_type": "code",
   "execution_count": 4,
   "metadata": {
    "collapsed": false
   },
   "outputs": [
    {
     "data": {
      "text/plain": [
       "'{\"tags_id\": {\"type\": \"string\"}, \"content\": {\"type\": \"string\"}, \"from_user_location\": {\"type\": \"string\"}, \"content_language\": {\"type\": \"string\"}, \"media_name\": {\"type\": \"string\"}, \"shared_uri\": {\"type\": \"string\"}, \"like_count\": {\"type\": \"integer\"}, \"tags_name\": {\"type\": \"string\"}, \"share_target_title\": {\"type\": \"string\"}, \"share_target_uri\": {\"type\": \"string\"}, \"media_id\": {\"type\": \"string\"}, \"comments_count\": {\"type\": \"integer\"}, \"from_user_realname\": {\"type\": \"string\"}, \"from_user_name\": {\"type\": \"string\"}, \"time\": {\"type\": \"date\", \"format\": \"strict_date_optional_time||epoch_millis\"}, \"shared_initial_uri\": {\"type\": \"string\"}, \"uri\": {\"type\": \"string\"}, \"media_like_count\": {\"type\": \"integer\"}, \"shares_count\": {\"type\": \"integer\"}, \"from_user_language\": {\"type\": \"string\"}, \"update_time\": {\"type\": \"date\", \"format\": \"strict_date_optional_time||epoch_millis\"}, \"from_user_category\": {\"type\": \"string\"}, \"from_user_like_count\": {\"type\": \"integer\"}, \"twi_hashtags\": {\"type\": \"string\"}, \"post_type\": {\"type\": \"string\"}, \"shared_title\": {\"type\": \"string\"}, \"shared_domain\": {\"type\": \"string\"}, \"story_tag\": {\"type\": \"string\"}, \"title\": {\"type\": \"string\"}, \"geo\": {\"type\": \"geo_point\"}, \"from_user_nick\": {\"type\": \"string\"}, \"platform\": {\"type\": \"string\"}, \"from_user_id\": {\"type\": \"string\"}, \"status_type\": {\"type\": \"string\"}, \"from_parent_id\": {\"type\": \"string\"}, \"favorite_count\": {\"type\": \"integer\"}, \"event\": {\"type\": \"string\"}, \"fb_hashtags\": {\"type\": \"string\"}}'"
      ]
     },
     "execution_count": 4,
     "metadata": {},
     "output_type": "execute_result"
    }
   ],
   "source": [
    "properties.replace(\"'\",\"\\\"\")"
   ]
  },
  {
   "cell_type": "code",
   "execution_count": 5,
   "metadata": {
    "collapsed": true
   },
   "outputs": [],
   "source": [
    "import json"
   ]
  },
  {
   "cell_type": "code",
   "execution_count": 9,
   "metadata": {
    "collapsed": false
   },
   "outputs": [],
   "source": [
    "properties = {\"tags_id\": {\"type\": \"string\"}, \"content\": {\"type\": \"string\"}, \"from_user_location\": {\"type\": \"string\"}, \"content_language\": {\"type\": \"string\"}, \"media_name\": {\"type\": \"string\"}, \"shared_uri\": {\"type\": \"string\"}, \"like_count\": {\"type\": \"integer\"}, \"tags_name\": {\"type\": \"string\"}, \"share_target_title\": {\"type\": \"string\"}, \"share_target_uri\": {\"type\": \"string\"}, \"media_id\": {\"type\": \"string\"}, \"comments_count\": {\"type\": \"integer\"}, \"from_user_realname\": {\"type\": \"string\"}, \"from_user_name\": {\"type\": \"string\"}, \"time\": {\"type\": \"date\", \"format\": \"strict_date_optional_time||epoch_millis\"}, \"shared_initial_uri\": {\"type\": \"string\"}, \"uri\": {\"type\": \"string\"}, \"media_like_count\": {\"type\": \"integer\"}, \"shares_count\": {\"type\": \"integer\"}, \"from_user_language\": {\"type\": \"string\"}, \"update_time\": {\"type\": \"date\", \"format\": \"strict_date_optional_time||epoch_millis\"}, \"from_user_category\": {\"type\": \"string\"}, \"from_user_like_count\": {\"type\": \"integer\"}, \"twi_hashtags\": {\"type\": \"string\"}, \"post_type\": {\"type\": \"string\"}, \"shared_title\": {\"type\": \"string\"}, \"shared_domain\": {\"type\": \"string\"}, \"story_tag\": {\"type\": \"string\"}, \"title\": {\"type\": \"string\"}, \"geo\": {\"type\": \"geo_point\"}, \"from_user_nick\": {\"type\": \"string\"}, \"platform\": {\"type\": \"string\"}, \"from_user_id\": {\"type\": \"string\"}, \"status_type\": {\"type\": \"string\"}, \"from_parent_id\": {\"type\": \"string\"}, \"favorite_count\": {\"type\": \"integer\"}, \"event\": {\"type\": \"string\"}, \"fb_hashtags\": {\"type\": \"string\"}}"
   ]
  },
  {
   "cell_type": "code",
   "execution_count": null,
   "metadata": {
    "collapsed": true
   },
   "outputs": [],
   "source": []
  }
 ],
 "metadata": {
  "kernelspec": {
   "display_name": "Python 3",
   "language": "python",
   "name": "python3"
  },
  "language_info": {
   "codemirror_mode": {
    "name": "ipython",
    "version": 3
   },
   "file_extension": ".py",
   "mimetype": "text/x-python",
   "name": "python",
   "nbconvert_exporter": "python",
   "pygments_lexer": "ipython3",
   "version": "3.4.3"
  }
 },
 "nbformat": 4,
 "nbformat_minor": 0
}
