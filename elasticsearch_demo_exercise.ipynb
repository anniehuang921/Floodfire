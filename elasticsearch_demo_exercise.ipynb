{
 "cells": [
  {
   "cell_type": "markdown",
   "metadata": {},
   "source": [
    "http://blog.tryolabs.com/2015/02/17/python-elasticsearch-first-steps/"
   ]
  },
  {
   "cell_type": "code",
   "execution_count": 2,
   "metadata": {
    "collapsed": false
   },
   "outputs": [
    {
     "name": "stdout",
     "output_type": "stream",
     "text": [
      "{\n",
      "  \"name\" : \"Wasp\",\n",
      "  \"cluster_name\" : \"elasticsearch_huangming-yi\",\n",
      "  \"version\" : {\n",
      "    \"number\" : \"2.1.1\",\n",
      "    \"build_hash\" : \"40e2c53a6b6c2972b3d13846e450e66f4375bd71\",\n",
      "    \"build_timestamp\" : \"2015-12-15T13:05:55Z\",\n",
      "    \"build_snapshot\" : false,\n",
      "    \"lucene_version\" : \"5.3.1\"\n",
      "  },\n",
      "  \"tagline\" : \"You Know, for Search\"\n",
      "}\n",
      "\n"
     ]
    }
   ],
   "source": [
    "# make sure ES is up and running\n",
    "import requests\n",
    "res = requests.get('http://localhost:9200')\n",
    "print(res.content)"
   ]
  },
  {
   "cell_type": "code",
   "execution_count": 3,
   "metadata": {
    "collapsed": true
   },
   "outputs": [],
   "source": [
    "#connect to our cluster\n",
    "from elasticsearch import Elasticsearch\n",
    "es = Elasticsearch([{'host': 'localhost', 'port': 9200}])"
   ]
  },
  {
   "cell_type": "code",
   "execution_count": 4,
   "metadata": {
    "collapsed": false
   },
   "outputs": [
    {
     "name": "stdout",
     "output_type": "stream",
     "text": [
      "18\n"
     ]
    }
   ],
   "source": [
    "#let's iterate over swapi people documents and index them\n",
    "import json\n",
    "r = requests.get('http://localhost:9200') \n",
    "i = 1\n",
    "while r.status_code == 200:\n",
    "    r = requests.get('http://swapi.co/api/people/'+ str(i))\n",
    "    es.index(index='sw', doc_type='people', id=i, body=json.loads(r.content))\n",
    "    i=i+1\n",
    "print(i)"
   ]
  },
  {
   "cell_type": "code",
   "execution_count": 5,
   "metadata": {
    "collapsed": false
   },
   "outputs": [
    {
     "data": {
      "text/plain": [
       "{u'_id': u'5',\n",
       " u'_index': u'sw',\n",
       " u'_source': {u'birth_year': u'19BBY',\n",
       "  u'created': u'2014-12-10T15:20:09.791000Z',\n",
       "  u'edited': u'2014-12-20T21:17:50.315000Z',\n",
       "  u'eye_color': u'brown',\n",
       "  u'films': [u'http://swapi.co/api/films/6/',\n",
       "   u'http://swapi.co/api/films/3/',\n",
       "   u'http://swapi.co/api/films/2/',\n",
       "   u'http://swapi.co/api/films/1/',\n",
       "   u'http://swapi.co/api/films/7/'],\n",
       "  u'gender': u'female',\n",
       "  u'hair_color': u'brown',\n",
       "  u'height': u'150',\n",
       "  u'homeworld': u'http://swapi.co/api/planets/2/',\n",
       "  u'mass': u'49',\n",
       "  u'name': u'Leia Organa',\n",
       "  u'skin_color': u'light',\n",
       "  u'species': [u'http://swapi.co/api/species/1/'],\n",
       "  u'starships': [],\n",
       "  u'url': u'http://swapi.co/api/people/5/',\n",
       "  u'vehicles': [u'http://swapi.co/api/vehicles/30/']},\n",
       " u'_type': u'people',\n",
       " u'_version': 1,\n",
       " u'found': True}"
      ]
     },
     "execution_count": 5,
     "metadata": {},
     "output_type": "execute_result"
    }
   ],
   "source": [
    "es.get(index='sw', doc_type='people', id=5)"
   ]
  },
  {
   "cell_type": "markdown",
   "metadata": {},
   "source": [
    "新增 node \n",
    "```\n",
    "elasticsearch -Des.node.name=Node-2\n",
    "```"
   ]
  },
  {
   "cell_type": "code",
   "execution_count": 11,
   "metadata": {
    "collapsed": false
   },
   "outputs": [],
   "source": [
    "r = requests.get('http://localhost:9201')\n",
    "i = 18\n",
    "while r.status_code == 200:\n",
    "    r = requests.get('http://swapi.co/api/people/'+ str(i))\n",
    "    es.index(index='sw', doc_type='people', id=i,     body=json.loads(r.content))\n",
    "    i=i+1"
   ]
  },
  {
   "cell_type": "markdown",
   "metadata": {},
   "source": [
    "### name 是 Darth Vader"
   ]
  },
  {
   "cell_type": "code",
   "execution_count": 12,
   "metadata": {
    "collapsed": false
   },
   "outputs": [
    {
     "data": {
      "text/plain": [
       "{u'_shards': {u'failed': 0, u'successful': 5, u'total': 5},\n",
       " u'hits': {u'hits': [{u'_id': u'4',\n",
       "    u'_index': u'sw',\n",
       "    u'_score': 2.7218676,\n",
       "    u'_source': {u'birth_year': u'41.9BBY',\n",
       "     u'created': u'2014-12-10T15:18:20.704000Z',\n",
       "     u'edited': u'2014-12-20T21:17:50.313000Z',\n",
       "     u'eye_color': u'yellow',\n",
       "     u'films': [u'http://swapi.co/api/films/6/',\n",
       "      u'http://swapi.co/api/films/3/',\n",
       "      u'http://swapi.co/api/films/2/',\n",
       "      u'http://swapi.co/api/films/1/'],\n",
       "     u'gender': u'male',\n",
       "     u'hair_color': u'none',\n",
       "     u'height': u'202',\n",
       "     u'homeworld': u'http://swapi.co/api/planets/1/',\n",
       "     u'mass': u'136',\n",
       "     u'name': u'Darth Vader',\n",
       "     u'skin_color': u'white',\n",
       "     u'species': [u'http://swapi.co/api/species/1/'],\n",
       "     u'starships': [u'http://swapi.co/api/starships/13/'],\n",
       "     u'url': u'http://swapi.co/api/people/4/',\n",
       "     u'vehicles': []},\n",
       "    u'_type': u'people'},\n",
       "   {u'_id': u'44',\n",
       "    u'_index': u'sw',\n",
       "    u'_score': 0.62182844,\n",
       "    u'_source': {u'birth_year': u'54BBY',\n",
       "     u'created': u'2014-12-19T18:00:41.929000Z',\n",
       "     u'edited': u'2014-12-20T21:17:50.403000Z',\n",
       "     u'eye_color': u'yellow',\n",
       "     u'films': [u'http://swapi.co/api/films/4/'],\n",
       "     u'gender': u'male',\n",
       "     u'hair_color': u'none',\n",
       "     u'height': u'175',\n",
       "     u'homeworld': u'http://swapi.co/api/planets/36/',\n",
       "     u'mass': u'80',\n",
       "     u'name': u'Darth Maul',\n",
       "     u'skin_color': u'red',\n",
       "     u'species': [u'http://swapi.co/api/species/22/'],\n",
       "     u'starships': [u'http://swapi.co/api/starships/41/'],\n",
       "     u'url': u'http://swapi.co/api/people/44/',\n",
       "     u'vehicles': [u'http://swapi.co/api/vehicles/42/']},\n",
       "    u'_type': u'people'}],\n",
       "  u'max_score': 2.7218676,\n",
       "  u'total': 2},\n",
       " u'timed_out': False,\n",
       " u'took': 56}"
      ]
     },
     "execution_count": 12,
     "metadata": {},
     "output_type": "execute_result"
    }
   ],
   "source": [
    "es.search(index=\"sw\", body={\"query\": {\"match\": {'name':'Darth Vader'}}})"
   ]
  },
  {
   "cell_type": "markdown",
   "metadata": {},
   "source": [
    "### **name 前綴詞有 lu**"
   ]
  },
  {
   "cell_type": "code",
   "execution_count": 15,
   "metadata": {
    "collapsed": false
   },
   "outputs": [
    {
     "data": {
      "text/plain": [
       "{u'_shards': {u'failed': 0, u'successful': 5, u'total': 5},\n",
       " u'hits': {u'hits': [{u'_id': u'1',\n",
       "    u'_index': u'sw',\n",
       "    u'_score': 1.0,\n",
       "    u'_source': {u'birth_year': u'19BBY',\n",
       "     u'created': u'2014-12-09T13:50:51.644000Z',\n",
       "     u'edited': u'2014-12-20T21:17:56.891000Z',\n",
       "     u'eye_color': u'blue',\n",
       "     u'films': [u'http://swapi.co/api/films/6/',\n",
       "      u'http://swapi.co/api/films/3/',\n",
       "      u'http://swapi.co/api/films/2/',\n",
       "      u'http://swapi.co/api/films/1/',\n",
       "      u'http://swapi.co/api/films/7/'],\n",
       "     u'gender': u'male',\n",
       "     u'hair_color': u'blond',\n",
       "     u'height': u'172',\n",
       "     u'homeworld': u'http://swapi.co/api/planets/1/',\n",
       "     u'mass': u'77',\n",
       "     u'name': u'Luke Skywalker',\n",
       "     u'skin_color': u'fair',\n",
       "     u'species': [u'http://swapi.co/api/species/1/'],\n",
       "     u'starships': [u'http://swapi.co/api/starships/12/',\n",
       "      u'http://swapi.co/api/starships/22/'],\n",
       "     u'url': u'http://swapi.co/api/people/1/',\n",
       "     u'vehicles': [u'http://swapi.co/api/vehicles/14/',\n",
       "      u'http://swapi.co/api/vehicles/30/']},\n",
       "    u'_type': u'people'},\n",
       "   {u'_id': u'64',\n",
       "    u'_index': u'sw',\n",
       "    u'_score': 1.0,\n",
       "    u'_source': {u'birth_year': u'58BBY',\n",
       "     u'created': u'2014-12-20T16:45:53.668000Z',\n",
       "     u'edited': u'2014-12-20T21:17:50.455000Z',\n",
       "     u'eye_color': u'blue',\n",
       "     u'films': [u'http://swapi.co/api/films/5/',\n",
       "      u'http://swapi.co/api/films/6/'],\n",
       "     u'gender': u'female',\n",
       "     u'hair_color': u'black',\n",
       "     u'height': u'170',\n",
       "     u'homeworld': u'http://swapi.co/api/planets/51/',\n",
       "     u'mass': u'56.2',\n",
       "     u'name': u'Luminara Unduli',\n",
       "     u'skin_color': u'yellow',\n",
       "     u'species': [u'http://swapi.co/api/species/29/'],\n",
       "     u'starships': [],\n",
       "     u'url': u'http://swapi.co/api/people/64/',\n",
       "     u'vehicles': []},\n",
       "    u'_type': u'people'}],\n",
       "  u'max_score': 1.0,\n",
       "  u'total': 2},\n",
       " u'timed_out': False,\n",
       " u'took': 61}"
      ]
     },
     "execution_count": 15,
     "metadata": {},
     "output_type": "execute_result"
    }
   ],
   "source": [
    "es.search(index=\"sw\", body={\"query\": {\"prefix\" : { \"name\" : \"lu\" }}})"
   ]
  },
  {
   "cell_type": "code",
   "execution_count": null,
   "metadata": {
    "collapsed": true
   },
   "outputs": [],
   "source": []
  }
 ],
 "metadata": {
  "kernelspec": {
   "display_name": "Python 2",
   "language": "python",
   "name": "python2"
  },
  "language_info": {
   "codemirror_mode": {
    "name": "ipython",
    "version": 2
   },
   "file_extension": ".py",
   "mimetype": "text/x-python",
   "name": "python",
   "nbconvert_exporter": "python",
   "pygments_lexer": "ipython2",
   "version": "2.7.11"
  }
 },
 "nbformat": 4,
 "nbformat_minor": 0
}
