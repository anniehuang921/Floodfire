{
 "cells": [
  {
   "cell_type": "code",
   "execution_count": 2,
   "metadata": {
    "collapsed": false
   },
   "outputs": [],
   "source": [
    "import csv\n",
    "import sys\n",
    "import os\n",
    "import logging\n",
    "import datetime \n",
    "from elasticsearch import Elasticsearch\n",
    "from elasticsearch import helpers"
   ]
  },
  {
   "cell_type": "code",
   "execution_count": 3,
   "metadata": {
    "collapsed": true
   },
   "outputs": [],
   "source": [
    "reload(sys)  \n",
    "sys.setdefaultencoding('utf-8')\n",
    "logging.basicConfig()\n",
    "es = Elasticsearch()"
   ]
  },
  {
   "cell_type": "code",
   "execution_count": 4,
   "metadata": {
    "collapsed": true
   },
   "outputs": [],
   "source": [
    "def importCSV(indexName,typeName,fileName):\n",
    "    if not os.path.exists(fileName):\n",
    "        print \"file not found\"\n",
    "        return\n",
    "    actions=[]\n",
    "    if not es.indices.exists(index=indexName,allow_no_indices=True):\n",
    "        #print \"not found index\"\n",
    "        es.indices.create(index=indexName,body={},ignore=400)\n",
    "    for item in csv.DictReader(open(fileName, 'rb')):  \n",
    "        actions.append({\"_index\":indexName,\"_type\":typeName,\"_source\":encoding(item)})\n",
    "    res = helpers.bulk(es,actions,chunk_size=100)\n",
    "    es.indices.flush(index=[indexName])\n",
    "    return len(actions)"
   ]
  },
  {
   "cell_type": "code",
   "execution_count": 5,
   "metadata": {
    "collapsed": true
   },
   "outputs": [],
   "source": [
    "def encoding(item):\n",
    "    for i in item:\n",
    "        item[i]=str(item[i]).encode('utf-8')\n",
    "    return item"
   ]
  },
  {
   "cell_type": "code",
   "execution_count": 6,
   "metadata": {
    "collapsed": true
   },
   "outputs": [],
   "source": [
    "if __name__==\"__main__\":\n",
    "    starttime = datetime.datetime.now()\n",
    "    result=importCSV(\"class1\",\"student\",\"bat.csv\")\n",
    "    print \"import size = \"+str(result)\n",
    "    endtime = datetime.datetime.now()\n",
    "    print \"import cost = \"+str(endtime - starttime)"
   ]
  },
  {
   "cell_type": "code",
   "execution_count": null,
   "metadata": {
    "collapsed": true
   },
   "outputs": [],
   "source": []
  }
 ],
 "metadata": {
  "kernelspec": {
   "display_name": "Python 2",
   "language": "python",
   "name": "python2"
  },
  "language_info": {
   "codemirror_mode": {
    "name": "ipython",
    "version": 2
   },
   "file_extension": ".py",
   "mimetype": "text/x-python",
   "name": "python",
   "nbconvert_exporter": "python",
   "pygments_lexer": "ipython2",
   "version": "2.7.11"
  }
 },
 "nbformat": 4,
 "nbformat_minor": 0
}
