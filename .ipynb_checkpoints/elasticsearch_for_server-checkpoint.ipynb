{
 "cells": [
  {
   "cell_type": "markdown",
   "metadata": {},
   "source": [
    "## 開啟 elasticsearch\n",
    "有在 cash_profile 先設好\n",
    "```\n",
    "$ elasticsearch\n",
    "```\n",
    "開啟 kibana\n",
    "\n",
    "先進入該位置, 再執行\n",
    "```\n",
    "$ cd /Users/huangming-yi/kibana-4.3.1-darwin-x64\n",
    "$./bin/kibana\n",
    "```\n",
    "\n",
    "## elasticsearch port\n",
    "elasticsearch http://localhost:9200/ \n",
    "head plugin (可看現有資料狀況) http://localhost:9200/_plugin/head/\n",
    "kibana http://localhost:5601/"
   ]
  },
  {
   "cell_type": "code",
   "execution_count": 1,
   "metadata": {
    "collapsed": true
   },
   "outputs": [],
   "source": [
    "import csv\n",
    "import os\n",
    "from elasticsearch import Elasticsearch\n",
    "from elasticsearch import helpers\n",
    "from elasticsearch.client import IndicesClient"
   ]
  },
  {
   "cell_type": "code",
   "execution_count": 2,
   "metadata": {
    "collapsed": true
   },
   "outputs": [],
   "source": [
    "es = Elasticsearch()\n",
    "es_index=IndicesClient(es)"
   ]
  },
  {
   "cell_type": "markdown",
   "metadata": {},
   "source": [
    "## 建 index\n",
    "使用 smartcn 分詞器\n",
    "#### mapping \n",
    "參照此表 https://goo.gl/5iPf53\n",
    "\n",
    "<!-- \n",
    "es mapping intro https://www.elastic.co/guide/en/elasticsearch/reference/current/mapping.html \n",
    "date type https://goo.gl/fVsyNk\n",
    "number type https://www.elastic.co/guide/en/elasticsearch/reference/1.4/mapping-core-types.html\n",
    "array type https://www.elastic.co/guide/en/elasticsearch/reference/1.4/mapping-array-type.html\n",
    "geo type https://www.elastic.co/guide/en/elasticsearch/reference/1.4/mapping-geo-point-type.html\n",
    "-->"
   ]
  },
  {
   "cell_type": "code",
   "execution_count": 12,
   "metadata": {
    "collapsed": true
   },
   "outputs": [],
   "source": [
    "properties={\n",
    "'_id':{ 'type': 'string'  },\n",
    "'platform':{ 'type': 'string'  },\n",
    "'content':{ 'type': 'string'  },\n",
    "'uri':{ 'type': 'string'  },\n",
    "'time':{'type':   'date',\n",
    "        'format': 'yyyy-MM-dd||yyyy-MM-dd\"T\"HH:mm:SSZZ||epoch_millis'  },\n",
    "'content_language':{ 'type': 'string'  },\n",
    "'comments_count':{ 'type': 'integer'  },\n",
    "'event':{ 'type': 'string'  },\n",
    "'favorite_count':{ 'type': 'integer'  },\n",
    "'from_parent_id':{ 'type': 'string'  },## 用 string 即可(原設計 array)，參考 https://goo.gl/xw89hR\n",
    "'media_id':{ 'type': 'string'  },\n",
    "'media_name':{ 'type': 'string'  },\n",
    "'media_like_count':{ 'type': 'integer'  },\n",
    "'from_user_category':{ 'type': 'string'  },\n",
    "'from_user_id':{ 'type': 'string'  },\n",
    "'from_user_like_count':{ 'type': 'integer'  },\n",
    "'from_user_language':{ 'type': 'string'  },\n",
    "'from_user_location':{ 'type': 'string'  },\n",
    "'from_user_name':{ 'type': 'string'  },\n",
    "'from_user_nick':{ 'type': 'string'  },\n",
    "'from_user_realname':{ 'type': 'string'  },\n",
    "'geo':{ 'type': 'geo_point'  },\n",
    "'twi_hashtags':{ 'type': 'string'  },# array\n",
    "'fb_hashtags':{ 'type': 'string'  },# array\n",
    "'like_count':{ 'type': 'integer'  },\n",
    "'post_type':{ 'type': 'string'  },\n",
    "'share_target_uri':{ 'type': 'string'  },# array\n",
    "'share_target_title':{ 'type': 'string'  },# array\n",
    "'shared_domain':{ 'type': 'string'  },\n",
    "'shared_initial_uri':{ 'type': 'string'  },\n",
    "'shared_title':{ 'type': 'string'  },# array\n",
    "'shared_uri':{ 'type': 'string'  },# array\n",
    "'shares_count':{ 'type': 'integer'  },\n",
    "'status_type':{ 'type': 'string'  },\n",
    "'story_tag':{ 'type': 'string'  },#\n",
    "'tags_id':{ 'type': 'string'  },#\n",
    "'tags_name':{ 'type': 'string'  },#\n",
    "'title':{ 'type': 'string'  },\n",
    "'update_time':{'type':   'date',\n",
    "               'format': 'yyyy-MM-dd||yyyy-MM-dd\"T\"HH:mm:SSZZ||epoch_millis'  }\n",
    "                }"
   ]
  },
  {
   "cell_type": "code",
   "execution_count": 11,
   "metadata": {
    "collapsed": false
   },
   "outputs": [
    {
     "data": {
      "text/plain": [
       "{'acknowledged': True}"
      ]
     },
     "execution_count": 11,
     "metadata": {},
     "output_type": "execute_result"
    }
   ],
   "source": [
    "es.indices.create(\n",
    "    index=\"platform\",\n",
    "    body={\n",
    "      'settings': {\n",
    "        'number_of_shards': 5,\n",
    "        'number_of_replicas': 1,\n",
    "        'analysis': {\n",
    "          \"analyzer\":{\"default\":{\"type\": \"smartcn\"}}\n",
    "          }\n",
    "        },\n",
    "      'mappings':{\n",
    "         'facebook':{\n",
    "            'properties':properties\n",
    "            }   \n",
    "        }  \n",
    "      },\n",
    "    ignore=400\n",
    ")"
   ]
  },
  {
   "cell_type": "markdown",
   "metadata": {},
   "source": [
    "## 看到所有欄位 還有狀態"
   ]
  },
  {
   "cell_type": "code",
   "execution_count": 4,
   "metadata": {
    "collapsed": false
   },
   "outputs": [
    {
     "data": {
      "text/plain": [
       "{'platform': {'mappings': {'facebook': {'properties': {'': {'type': 'string'},\n",
       "     'From': {'type': 'string'},\n",
       "     'Unnamed: 15': {'type': 'string'},\n",
       "     'created_time': {'format': 'yyyy/MM/dd HH:mm:ss||yyyy/MM/dd||epoch_millis',\n",
       "      'type': 'date'},\n",
       "     'link': {'type': 'string'},\n",
       "     'postID': {'type': 'string'},\n",
       "     'post_message': {'type': 'string'},\n",
       "     'post_type': {'type': 'string'},\n",
       "     'post_url': {'type': 'string'},\n",
       "     'status_type': {'type': 'string'},\n",
       "     'update_time': {'type': 'string'},\n",
       "     '分享數': {'type': 'string'},\n",
       "     '大類別': {'type': 'string'},\n",
       "     '按讚數': {'type': 'string'},\n",
       "     '流水號': {'type': 'string'},\n",
       "     '留言數': {'type': 'integer'},\n",
       "     '轉貼標題(name)': {'type': 'string'}}}}}}"
      ]
     },
     "execution_count": 4,
     "metadata": {},
     "output_type": "execute_result"
    }
   ],
   "source": [
    "es_index.get_mapping(index=\"platform\",doc_type=\"facebook\")"
   ]
  },
  {
   "cell_type": "markdown",
   "metadata": {},
   "source": [
    "## 把 index 清掉"
   ]
  },
  {
   "cell_type": "code",
   "execution_count": 9,
   "metadata": {
    "collapsed": false
   },
   "outputs": [
    {
     "data": {
      "text/plain": [
       "{'acknowledged': True}"
      ]
     },
     "execution_count": 9,
     "metadata": {},
     "output_type": "execute_result"
    }
   ],
   "source": [
    "es.indices.delete(index=\"platform\",ignore=[400,404])"
   ]
  },
  {
   "cell_type": "code",
   "execution_count": null,
   "metadata": {
    "collapsed": true
   },
   "outputs": [],
   "source": []
  }
 ],
 "metadata": {
  "kernelspec": {
   "display_name": "Python 3",
   "language": "python",
   "name": "python3"
  },
  "language_info": {
   "codemirror_mode": {
    "name": "ipython",
    "version": 3
   },
   "file_extension": ".py",
   "mimetype": "text/x-python",
   "name": "python",
   "nbconvert_exporter": "python",
   "pygments_lexer": "ipython3",
   "version": "3.4.3"
  }
 },
 "nbformat": 4,
 "nbformat_minor": 0
}
