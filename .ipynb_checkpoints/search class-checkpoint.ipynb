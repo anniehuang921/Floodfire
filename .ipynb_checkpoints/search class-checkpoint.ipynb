{
 "cells": [
  {
   "cell_type": "code",
   "execution_count": 1,
   "metadata": {
    "collapsed": false
   },
   "outputs": [],
   "source": [
    "from elasticsearch import Elasticsearch\n",
    "from elasticsearch.client import IndicesClient\n",
    "\n",
    "class esf:\n",
    "    es = Elasticsearch([{'host': 'localhost', 'port': 9200}])\n",
    "    es_index=IndicesClient(es)\n",
    "    index = \"platform\"\n",
    "    def __init__(self,doc_type):\n",
    "        self.index = self.index\n",
    "        self.doc_type = doc_type\n",
    "    def must(self,must_cond):\n",
    "        query = []\n",
    "        for cond in must_cond:\n",
    "            query.append({\"match_phrase\":{\"_all\":cond}},)\n",
    "        return query\n",
    "\n",
    "    def should(self,should_cond):\n",
    "        query = []\n",
    "        for cond in should_cond:\n",
    "            query.append({\"match_phrase\":{\"_all\":cond}},)\n",
    "        return query\n",
    "\n",
    "    def must_not(self,mustnot_cond):\n",
    "        query = []\n",
    "        for cond in mustnot_cond:\n",
    "            query.append({\"match_phrase\":{\"_all\":cond}},)\n",
    "        return query\n",
    "\n",
    "class esc(esf):\n",
    "    es = esf.es\n",
    "    es_index = esf.es_index\n",
    "    \n",
    "    def __init__(self,doc_type,must_cond,should_cond,mustnot_cond,time_sort):\n",
    "        super().__init__(doc_type)\n",
    "        self.index = esf.index\n",
    "        self.time_sort = self.time_sort\n",
    "        self.booling={\"filtered\": {\n",
    "            \"filter\": {\"bool\":{\n",
    "            \"must\":esf.must(self,must_cond),\n",
    "            \"should\":esf.should(self,should_cond),\n",
    "            \"must_not\":esf.must_not(self,mustnot_cond)\n",
    "                    }}}}\n",
    "    def result(self,size):\n",
    "        if self.time == True:            \n",
    "            conclution = self.es.search(index=self.index,doc_type=self.doc_type,\n",
    "            body={\"size\":size,\"query\":self.booling,\"sort\": {\"time\": { \"order\": \"desc\" }}})\n",
    "        else:\n",
    "            conclution = self.es.search(index=self.index,doc_type=self.doc_type,\n",
    "            body={\"size\":size,\"query\":self.booling})\n",
    "        return conclution['hits']['hits']\n",
    "\n",
    "    def count(self):\n",
    "        if self.time == True:\n",
    "            conclution = self.es.count(index=self.index,doc_type=self.doc_type,\n",
    "            body={\"query\":self.booling})\n",
    "        \n",
    "        else:\n",
    "            conclution = self.es.count(index=self.index,doc_type=self.doc_type,\n",
    "            body={\"query\":self.booling})\n",
    "        return conclution['count']\n",
    "\n",
    "    def search(self):\n",
    "        if self.time == True:\n",
    "            conclution = self.es.search(index=self.index,doc_type=self.doc_type,\n",
    "            body={\"size\":10000000,\"query\":self.booling})\n",
    "        else:\n",
    "            conclution = self.es.search(index=self.index,doc_type=self.doc_type,\n",
    "            body={\"size\":10000000,\"query\":self.booling})\n",
    "        return conclution['hits']['hits']\n"
   ]
  },
  {
   "cell_type": "code",
   "execution_count": 12,
   "metadata": {
    "collapsed": false
   },
   "outputs": [],
   "source": [
    "ES = esf([\"ptt\",\"facebook\"])    "
   ]
  },
  {
   "cell_type": "code",
   "execution_count": 13,
   "metadata": {
    "collapsed": false
   },
   "outputs": [],
   "source": [
    "doc_type=ES.doc_type"
   ]
  },
  {
   "cell_type": "code",
   "execution_count": 14,
   "metadata": {
    "collapsed": false
   },
   "outputs": [],
   "source": [
    "QU=esc(doc_type ,must_cond=[\"柯\",\"p\"],mustnot_cond=\"連\",should_cond=\"小英\")"
   ]
  },
  {
   "cell_type": "code",
   "execution_count": 15,
   "metadata": {
    "collapsed": false
   },
   "outputs": [
    {
     "data": {
      "text/plain": [
       "84"
      ]
     },
     "execution_count": 15,
     "metadata": {},
     "output_type": "execute_result"
    }
   ],
   "source": [
    "QU.count()"
   ]
  },
  {
   "cell_type": "code",
   "execution_count": 17,
   "metadata": {
    "collapsed": false
   },
   "outputs": [
    {
     "data": {
      "text/plain": [
       "[{'_id': 'AVMcjoTpuidTCCE7SowK',\n",
       "  '_index': 'platform',\n",
       "  '_score': 1.0,\n",
       "  '_source': {'': '13',\n",
       "   'content': '※ 引述《generally (每個女人心中都有公主夢)》之銘言：\\n: 賴清德自擔任台南市長後\\n: 被封為賴神,他的粉絲以綠吱吱居多\\n: 而柯p有廣大柯粉護駕,支持者不只是花果山的綠吱\\n: 還有淺藍淺綠人士,以及中間選民\\n: 遍佈天下的粉絲可說比賴神還廣\\n: 柯粉護駕功力比綠吱還要強大\\n: 為什麼柯粉沒有稱柯p為柯神?\\n: 有掛?\\n柯文哲的崛起，\\n只是因為公民勢力出頭，\\n而民進黨願意與其合作，\\n所產生的結果。\\n\\n但粉絲基礎不穩固，\\n來得快散得也快，\\n跟阿扁比起來差很多。\\n\\n國民黨以外的人，\\n如果可以得到台北市長的位子，\\n那只是因為站在浪頭上，\\n而拿到一張門票。\\n至於能否建立民意基礎，\\n就看他做的怎麼樣。\\n\\n如果民進黨2018不推自己人，\\n柯文哲應該是不會再當選了，\\n而位子會被國民黨拿回去。\\n\\n柯文哲跟馬英九一樣愛鎂光燈，\\n所以常常餵新聞給記者，\\n如果對外發言內容又和政治承諾有關，\\n卻都沒有跟內部溝通過；\\n那麼，內部豈不是抱頭鼠竄？\\n\\n他在選前因為有幕僚包裝，\\n所以他可能在就任後幾個月內，\\n還記得幕僚包裝的他，是什麼樣子，\\n隨著時間過去，就不記得了。\\n\\n--',\n",
       "   'from_user_name': 'kim',\n",
       "   'from_user_nick': '＠＠＠＠＠＠＠',\n",
       "   'media_name': 'HatePolitics',\n",
       "   'platform': 'ptt',\n",
       "   'time': '2016-02-09T18:12:02+08:00',\n",
       "   'title': 'Re: [討論] 為什麼柯p沒有被稱柯神?'},\n",
       "  '_type': 'ptt'},\n",
       " {'_id': 'AVMcjoTpuidTCCE7Sowo',\n",
       "  '_index': 'platform',\n",
       "  '_score': 1.0,\n",
       "  '_source': {'': '43',\n",
       "   'content': '※ 引述《TsukimiyaAyu (ㄎㄎㄎㄎㄎㄎㄎㄎㄎㄎㄎ)》之銘言：\\n: 拎杯出生以來有記憶\\n: 這條橋肯定走過上千次 真心不騙\\n: 從小就覺得這是低能設計\\n: 早上尖峰時刻有興趣的可以去看\\n: 不過現在看不到了\\n: 一堆人會從西寧下忠孝橋 然後在從上去引道\\n: 不直接從忠孝橋接引道 因為上面塞歪\\n: 一般汽車+公車 早上浪費最多時間就是在引道跟台北車站之間\\n: 早該拆了幹\\n: 不過也真是有感情惹 那天一下飛機就去見引道最後一面\\n: 幫QQ\\n\\n聽老爸以前講這一段似乎曾經是平交道,\\n引道的設計本來是要方便駕駛人,\\n不要讓一堆車子塞在柵欄前動彈不得這樣.\\n\\n換言之,\\n忠孝橋引道在當時其實是不得不為,\\n比較大的問題在於為什麼鐵路地下化後,\\n這條會拖上這麼久才功成身退吧?\\n\\n--',\n",
       "   'from_user_name': 'jackys313',\n",
       "   'from_user_nick': 'BenZoby',\n",
       "   'media_name': 'Gossiping',\n",
       "   'platform': 'ptt',\n",
       "   'time': '2016-02-08T14:39:31+08:00',\n",
       "   'title': 'Re: [新聞] 柯P：忠孝橋引道拆除作業\\u3000可能提早完成'},\n",
       "  '_type': 'ptt'},\n",
       " {'_id': 'AVMcjoTpuidTCCE7Soww',\n",
       "  '_index': 'platform',\n",
       "  '_score': 1.0,\n",
       "  '_source': {'': '51',\n",
       "   'content': '拎杯出生以來有記憶\\n\\n這條橋肯定走過上千次 真心不騙\\n\\n從小就覺得這是低能設計\\n\\n早上尖峰時刻有興趣的可以去看\\n\\n不過現在看不到了\\n\\n一堆人會從西寧下忠孝橋 然後在從上去引道\\n\\n不直接從忠孝橋接引道 因為上面塞歪\\n\\n一般汽車+公車 早上浪費最多時間就是在引道跟台北車站之間\\n\\n早該拆了幹\\n\\n不過也真是有感情惹 那天一下飛機就去見引道最後一面\\n\\n幫QQ\\n\\n--',\n",
       "   'from_user_name': 'TsukimiyaAyu',\n",
       "   'from_user_nick': 'ㄎㄎㄎㄎㄎㄎㄎㄎㄎㄎ',\n",
       "   'media_name': 'Gossiping',\n",
       "   'platform': 'ptt',\n",
       "   'time': '2016-02-08T11:25:09+08:00',\n",
       "   'title': 'Re: [新聞] 柯P：忠孝橋引道拆除作業\\u3000可能提早完成'},\n",
       "  '_type': 'ptt'}]"
      ]
     },
     "execution_count": 17,
     "metadata": {},
     "output_type": "execute_result"
    }
   ],
   "source": [
    "QU.result(3)"
   ]
  },
  {
   "cell_type": "code",
   "execution_count": 2,
   "metadata": {
    "collapsed": false
   },
   "outputs": [
    {
     "name": "stdout",
     "output_type": "stream",
     "text": [
      "The following commands were written to file `esuse.py`:\n",
      "from elasticsearch import Elasticsearch\n",
      "from elasticsearch.client import IndicesClient\n",
      "\n",
      "class esf:\n",
      "    es = Elasticsearch([{'host': 'localhost', 'port': 9200}])\n",
      "    es_index=IndicesClient(es)\n",
      "    index = \"platform\"\n",
      "    def __init__(self,doc_type):\n",
      "        self.index = self.index\n",
      "        self.doc_type = doc_type\n",
      "    def must(self,must_cond):\n",
      "        query = []\n",
      "        for cond in must_cond:\n",
      "            query.append({\"match_phrase\":{\"_all\":cond}},)\n",
      "        return query\n",
      "\n",
      "    def should(self,should_cond):\n",
      "        query = []\n",
      "        for cond in should_cond:\n",
      "            query.append({\"match_phrase\":{\"_all\":cond}},)\n",
      "        return query\n",
      "\n",
      "    def must_not(self,mustnot_cond):\n",
      "        query = []\n",
      "        for cond in mustnot_cond:\n",
      "            query.append({\"match_phrase\":{\"_all\":cond}},)\n",
      "        return query\n",
      "\n",
      "class esc(esf):\n",
      "    es = esf.es\n",
      "    es_index = esf.es_index\n",
      "    \n",
      "    def __init__(self,doc_type,must_cond,should_cond,mustnot_cond):\n",
      "        super().__init__(doc_type)\n",
      "        self.index = esf.index\n",
      "        self.booling={\"filtered\": {\n",
      "            \"filter\": {\"bool\":{\n",
      "            \"must\":esf.must(self,must_cond),\n",
      "            \"should\":esf.should(self,should_cond),\n",
      "            \"must_not\":esf.must_not(self,mustnot_cond)\n",
      "        }}}}\n",
      "    def result(self,size):\n",
      "        conclution = self.es.search(index=self.index,doc_type=self.doc_type,\n",
      "        body={\"size\":size,\"query\":self.booling})\n",
      "        return conclution['hits']['hits']\n",
      "\n",
      "    def count(self):\n",
      "        conclution = self.es.count(index=self.index,doc_type=self.doc_type,\n",
      "        body={\"query\":self.booling})\n",
      "        return conclution['count']\n",
      "\n",
      "    def search(self):\n",
      "        conclution = self.es.search(index=self.index,doc_type=self.doc_type,\n",
      "        body={\"size\":10000000,\"query\":self.booling})\n",
      "        return conclution['hits']['hits']\n"
     ]
    }
   ],
   "source": [
    "%save esuse.py 1 "
   ]
  },
  {
   "cell_type": "code",
   "execution_count": null,
   "metadata": {
    "collapsed": true
   },
   "outputs": [],
   "source": [
    "\"sort\": {\"time\": { \"order\": \"desc\" }"
   ]
  }
 ],
 "metadata": {
  "kernelspec": {
   "display_name": "Python 3",
   "language": "python",
   "name": "python3"
  },
  "language_info": {
   "codemirror_mode": {
    "name": "ipython",
    "version": 3
   },
   "file_extension": ".py",
   "mimetype": "text/x-python",
   "name": "python",
   "nbconvert_exporter": "python",
   "pygments_lexer": "ipython3",
   "version": "3.4.3"
  }
 },
 "nbformat": 4,
 "nbformat_minor": 0
}
