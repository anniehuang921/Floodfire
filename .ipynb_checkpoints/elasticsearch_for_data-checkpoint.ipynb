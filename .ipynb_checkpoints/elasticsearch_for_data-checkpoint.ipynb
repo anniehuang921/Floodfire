{
 "cells": [
  {
   "cell_type": "markdown",
   "metadata": {},
   "source": [
    "# 使用 pandas 來更改\n",
    "改 columns name 欄位名稱"
   ]
  },
  {
   "cell_type": "code",
   "execution_count": 3,
   "metadata": {
    "collapsed": true
   },
   "outputs": [],
   "source": [
    "import pandas as pd"
   ]
  },
  {
   "cell_type": "code",
   "execution_count": 4,
   "metadata": {
    "collapsed": false
   },
   "outputs": [],
   "source": [
    "data=pd.read_csv('demo_test.csv',header=0,encoding=\"utf8\")"
   ]
  },
  {
   "cell_type": "code",
   "execution_count": 5,
   "metadata": {
    "collapsed": false
   },
   "outputs": [
    {
     "data": {
      "text/plain": [
       "Index(['Unnamed: 0', '流水號', '大類別', 'From', 'post_url', 'created_time',\n",
       "       'post_type', 'postID', 'post_message', 'status_type', 'link',\n",
       "       '轉貼標題(name)', '留言數', '按讚數', '分享數', 'update_time', 'Unnamed: 15'],\n",
       "      dtype='object')"
      ]
     },
     "execution_count": 5,
     "metadata": {},
     "output_type": "execute_result"
    }
   ],
   "source": [
    "data.columns"
   ]
  },
  {
   "cell_type": "code",
   "execution_count": 7,
   "metadata": {
    "collapsed": false
   },
   "outputs": [],
   "source": [
    "data.columns=['Unnamed: 0', '流水號', 'Postid', 'From', 'post_url', 'created_time',\n",
    "       'post_type', 'postID', 'post_message', 'status_type', 'link',\n",
    "       '轉貼標題(name)', '留言數', '按讚數', '分享數', 'update_time', 'Unnamed: 15']"
   ]
  },
  {
   "cell_type": "code",
   "execution_count": 8,
   "metadata": {
    "collapsed": false
   },
   "outputs": [
    {
     "data": {
      "text/html": [
       "<div>\n",
       "<table border=\"1\" class=\"dataframe\">\n",
       "  <thead>\n",
       "    <tr style=\"text-align: right;\">\n",
       "      <th></th>\n",
       "      <th>Unnamed: 0</th>\n",
       "      <th>流水號</th>\n",
       "      <th>Postid</th>\n",
       "      <th>From</th>\n",
       "      <th>post_url</th>\n",
       "      <th>created_time</th>\n",
       "      <th>post_type</th>\n",
       "      <th>postID</th>\n",
       "      <th>post_message</th>\n",
       "      <th>status_type</th>\n",
       "      <th>link</th>\n",
       "      <th>轉貼標題(name)</th>\n",
       "      <th>留言數</th>\n",
       "      <th>按讚數</th>\n",
       "      <th>分享數</th>\n",
       "      <th>update_time</th>\n",
       "      <th>Unnamed: 15</th>\n",
       "    </tr>\n",
       "  </thead>\n",
       "  <tbody>\n",
       "    <tr>\n",
       "      <th>0</th>\n",
       "      <td>0</td>\n",
       "      <td>1</td>\n",
       "      <td>post</td>\n",
       "      <td>民主進步黨(150336441057)</td>\n",
       "      <td>http://www.facebook.com/150336441057_101531802...</td>\n",
       "      <td>2016/01/19 19:20:06</td>\n",
       "      <td>link</td>\n",
       "      <td>150336441057_10153180273481058</td>\n",
       "      <td>關於「韓聯社」刊載「獨家專訪」新聞 民進黨說明      針對韓國媒體「韓聯社」於今（19）...</td>\n",
       "      <td>shared_story</td>\n",
       "      <td>http://www.dpp.org.tw/news_content.php?sn=8780</td>\n",
       "      <td>關於「韓聯社」刊載「獨家專訪」新聞 民進黨說明</td>\n",
       "      <td>115</td>\n",
       "      <td>1585</td>\n",
       "      <td>23</td>\n",
       "      <td>2016/01/29 10:24:39</td>\n",
       "      <td>NaN</td>\n",
       "    </tr>\n",
       "    <tr>\n",
       "      <th>1</th>\n",
       "      <td>1</td>\n",
       "      <td>1_1</td>\n",
       "      <td>comment</td>\n",
       "      <td>劉明財(194451174225023)</td>\n",
       "      <td></td>\n",
       "      <td>2016/01/19 19:21:00</td>\n",
       "      <td></td>\n",
       "      <td>10153180273481058_10153180274306058</td>\n",
       "      <td>NaN</td>\n",
       "      <td></td>\n",
       "      <td></td>\n",
       "      <td></td>\n",
       "      <td>0</td>\n",
       "      <td>1</td>\n",
       "      <td></td>\n",
       "      <td></td>\n",
       "      <td>NaN</td>\n",
       "    </tr>\n",
       "    <tr>\n",
       "      <th>2</th>\n",
       "      <td>2</td>\n",
       "      <td>1_2</td>\n",
       "      <td>comment</td>\n",
       "      <td>劉明財(194451174225023)</td>\n",
       "      <td></td>\n",
       "      <td>2016/01/19 19:21:06</td>\n",
       "      <td></td>\n",
       "      <td>10153180273481058_10153180274376058</td>\n",
       "      <td>NaN</td>\n",
       "      <td></td>\n",
       "      <td></td>\n",
       "      <td></td>\n",
       "      <td>0</td>\n",
       "      <td>0</td>\n",
       "      <td></td>\n",
       "      <td></td>\n",
       "      <td>NaN</td>\n",
       "    </tr>\n",
       "    <tr>\n",
       "      <th>3</th>\n",
       "      <td>3</td>\n",
       "      <td>1_3</td>\n",
       "      <td>comment</td>\n",
       "      <td>劉明財(194451174225023)</td>\n",
       "      <td></td>\n",
       "      <td>2016/01/19 19:21:19</td>\n",
       "      <td></td>\n",
       "      <td>10153180273481058_10153180274546058</td>\n",
       "      <td>NaN</td>\n",
       "      <td></td>\n",
       "      <td></td>\n",
       "      <td></td>\n",
       "      <td>0</td>\n",
       "      <td>0</td>\n",
       "      <td></td>\n",
       "      <td></td>\n",
       "      <td>NaN</td>\n",
       "    </tr>\n",
       "    <tr>\n",
       "      <th>4</th>\n",
       "      <td>4</td>\n",
       "      <td>1_4</td>\n",
       "      <td>comment</td>\n",
       "      <td>劉明財(194451174225023)</td>\n",
       "      <td></td>\n",
       "      <td>2016/01/19 19:21:30</td>\n",
       "      <td></td>\n",
       "      <td>10153180273481058_10153180274651058</td>\n",
       "      <td>NaN</td>\n",
       "      <td></td>\n",
       "      <td></td>\n",
       "      <td></td>\n",
       "      <td>0</td>\n",
       "      <td>0</td>\n",
       "      <td></td>\n",
       "      <td></td>\n",
       "      <td>NaN</td>\n",
       "    </tr>\n",
       "  </tbody>\n",
       "</table>\n",
       "</div>"
      ],
      "text/plain": [
       "   Unnamed: 0  流水號   Postid                  From  \\\n",
       "0           0    1     post   民主進步黨(150336441057)   \n",
       "1           1  1_1  comment  劉明財(194451174225023)   \n",
       "2           2  1_2  comment  劉明財(194451174225023)   \n",
       "3           3  1_3  comment  劉明財(194451174225023)   \n",
       "4           4  1_4  comment  劉明財(194451174225023)   \n",
       "\n",
       "                                            post_url         created_time  \\\n",
       "0  http://www.facebook.com/150336441057_101531802...  2016/01/19 19:20:06   \n",
       "1                                                     2016/01/19 19:21:00   \n",
       "2                                                     2016/01/19 19:21:06   \n",
       "3                                                     2016/01/19 19:21:19   \n",
       "4                                                     2016/01/19 19:21:30   \n",
       "\n",
       "  post_type                               postID  \\\n",
       "0      link       150336441057_10153180273481058   \n",
       "1            10153180273481058_10153180274306058   \n",
       "2            10153180273481058_10153180274376058   \n",
       "3            10153180273481058_10153180274546058   \n",
       "4            10153180273481058_10153180274651058   \n",
       "\n",
       "                                        post_message   status_type  \\\n",
       "0  關於「韓聯社」刊載「獨家專訪」新聞 民進黨說明      針對韓國媒體「韓聯社」於今（19）...  shared_story   \n",
       "1                                                NaN                 \n",
       "2                                                NaN                 \n",
       "3                                                NaN                 \n",
       "4                                                NaN                 \n",
       "\n",
       "                                             link               轉貼標題(name)  \\\n",
       "0  http://www.dpp.org.tw/news_content.php?sn=8780  關於「韓聯社」刊載「獨家專訪」新聞 民進黨說明   \n",
       "1                                                                            \n",
       "2                                                                            \n",
       "3                                                                            \n",
       "4                                                                            \n",
       "\n",
       "   留言數   按讚數 分享數          update_time  Unnamed: 15  \n",
       "0  115  1585  23  2016/01/29 10:24:39          NaN  \n",
       "1    0     1                                   NaN  \n",
       "2    0     0                                   NaN  \n",
       "3    0     0                                   NaN  \n",
       "4    0     0                                   NaN  "
      ]
     },
     "execution_count": 8,
     "metadata": {},
     "output_type": "execute_result"
    }
   ],
   "source": [
    "data.head()"
   ]
  },
  {
   "cell_type": "code",
   "execution_count": null,
   "metadata": {
    "collapsed": true
   },
   "outputs": [],
   "source": []
  }
 ],
 "metadata": {
  "kernelspec": {
   "display_name": "Python 3",
   "language": "python",
   "name": "python3"
  },
  "language_info": {
   "codemirror_mode": {
    "name": "ipython",
    "version": 3
   },
   "file_extension": ".py",
   "mimetype": "text/x-python",
   "name": "python",
   "nbconvert_exporter": "python",
   "pygments_lexer": "ipython3",
   "version": "3.4.3"
  }
 },
 "nbformat": 4,
 "nbformat_minor": 0
}
