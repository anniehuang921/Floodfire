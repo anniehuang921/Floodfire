{
 "cells": [
  {
   "cell_type": "code",
   "execution_count": 1,
   "metadata": {
    "collapsed": false
   },
   "outputs": [
    {
     "name": "stdout",
     "output_type": "stream",
     "text": [
      "118250504903757_201602010606.csv   demoquery.csv\r\n",
      "150336441057_201602010834.csv      elasticsearch_demo_exercise.ipynb\r\n",
      "150336441057_201602010911.csv      elasticsearch_query_demo.ipynb\r\n",
      "150336441057_201602011119.csv      elasticsearch_query_enwei.ipynb\r\n",
      "182099101856685_201602011104.csv   importcsv.ipynb\r\n",
      "184049368448189_201601061250.csv   importcsv.py\r\n",
      "210970852290222_201602010826.csv   outputcsv.ipynb\r\n",
      "Untitled.ipynb                     outputcsv.py\r\n",
      "another.csv                        save_the_file.json\r\n",
      "biuldindex.ipynb                   shakespeare_data.json\r\n",
      "class1.csv                         test_demo.csv\r\n",
      "demo_test.csv                      testdata.csv\r\n"
     ]
    }
   ],
   "source": [
    "ls"
   ]
  },
  {
   "cell_type": "code",
   "execution_count": 27,
   "metadata": {
    "collapsed": true
   },
   "outputs": [],
   "source": [
    "g= open(\"demo_test.csv\",\"r+\")\n",
    "data=g.readlines()\n",
    "g.close()"
   ]
  },
  {
   "cell_type": "code",
   "execution_count": 28,
   "metadata": {
    "collapsed": false
   },
   "outputs": [
    {
     "data": {
      "text/plain": [
       "'\\xe6\\xb5\\x81\\xe6\\xb0\\xb4\\xe8\\x99\\x9f,\\xe5\\xa4\\xa7\\xe9\\xa1\\x9e\\xe5\\x88\\xa5,From,post_url,created_time,post_type,postID,post_message,status_type,link,\\xe8\\xbd\\x89\\xe8\\xb2\\xbc\\xe6\\xa8\\x99\\xe9\\xa1\\x8c(name),\\xe7\\x95\\x99\\xe8\\xa8\\x80\\xe6\\x95\\xb8,\\xe6\\x8c\\x89\\xe8\\xae\\x9a\\xe6\\x95\\xb8,\\xe5\\x88\\x86\\xe4\\xba\\xab\\xe6\\x95\\xb8,update_time,\\r\\n'"
      ]
     },
     "execution_count": 28,
     "metadata": {},
     "output_type": "execute_result"
    }
   ],
   "source": [
    "data[0]"
   ]
  },
  {
   "cell_type": "code",
   "execution_count": 29,
   "metadata": {
    "collapsed": false
   },
   "outputs": [],
   "source": [
    "rawdata = []\n",
    "for item in data:\n",
    "    sub = item.rstrip(',\\r\\n').split(',')\n",
    "    rawdata.append(sub)"
   ]
  },
  {
   "cell_type": "code",
   "execution_count": 31,
   "metadata": {
    "collapsed": false
   },
   "outputs": [],
   "source": [
    "s = rawdata[0][0]"
   ]
  },
  {
   "cell_type": "code",
   "execution_count": 32,
   "metadata": {
    "collapsed": false
   },
   "outputs": [
    {
     "data": {
      "text/plain": [
       "'\\xe6\\xb5\\x81\\xe6\\xb0\\xb4\\xe8\\x99\\x9f'"
      ]
     },
     "execution_count": 32,
     "metadata": {},
     "output_type": "execute_result"
    }
   ],
   "source": [
    "s"
   ]
  },
  {
   "cell_type": "code",
   "execution_count": 34,
   "metadata": {
    "collapsed": false
   },
   "outputs": [],
   "source": [
    "s1 = s.decode('utf-8')"
   ]
  },
  {
   "cell_type": "code",
   "execution_count": null,
   "metadata": {
    "collapsed": true
   },
   "outputs": [],
   "source": []
  }
 ],
 "metadata": {
  "kernelspec": {
   "display_name": "Python 2",
   "language": "python",
   "name": "python2"
  },
  "language_info": {
   "codemirror_mode": {
    "name": "ipython",
    "version": 2
   },
   "file_extension": ".py",
   "mimetype": "text/x-python",
   "name": "python",
   "nbconvert_exporter": "python",
   "pygments_lexer": "ipython2",
   "version": "2.7.11"
  }
 },
 "nbformat": 4,
 "nbformat_minor": 0
}
