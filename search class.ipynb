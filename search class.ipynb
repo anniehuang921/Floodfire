{
 "cells": [
  {
   "cell_type": "code",
   "execution_count": 1,
   "metadata": {
    "collapsed": false
   },
   "outputs": [],
   "source": [
    "from elasticsearch import Elasticsearch\n",
    "from elasticsearch.client import IndicesClient\n",
    "\n",
    "class esf:\n",
    "    es = Elasticsearch([{'host': 'localhost', 'port': 9200}])\n",
    "    es_index=IndicesClient(es)\n",
    "    index = \"platform\"\n",
    "    def __init__(self,doc_type):\n",
    "        self.index = self.index\n",
    "        self.doc_type = doc_type\n",
    "    def must(self,must_cond,y):\n",
    "        query = []\n",
    "        for cond in must_cond:\n",
    "            query.append({\"match_phrase\":{\"_all\":cond}},)\n",
    "        query.append(y)\n",
    "        return query\n",
    "\n",
    "    def should(self,should_cond):\n",
    "        query = []\n",
    "        for cond in should_cond:\n",
    "            query.append({\"match_phrase\":{\"_all\":cond}},)\n",
    "        return query\n",
    "\n",
    "    def must_not(self,mustnot_cond):\n",
    "        query = []\n",
    "        for cond in mustnot_cond:\n",
    "            query.append({\"match_phrase\":{\"_all\":cond}},)\n",
    "        return query\n",
    "    \n",
    "class esc(esf):\n",
    "    es = esf.es\n",
    "    es_index = esf.es_index\n",
    "    \n",
    "    def __init__(self,doc_type,must_cond,should_cond,mustnot_cond,time_sort,date1,date2):\n",
    "        super().__init__(doc_type)\n",
    "        self.index = esf.index\n",
    "        self.time_sort = time_sort\n",
    "        self.booling={\"filtered\": {\n",
    "            \"filter\": {\"bool\":{\n",
    "            \"must\":esf.must(self,must_cond,{\"range\":{\"time\":{\"gte\": date1 ,\"lte\": date2 }}}),\n",
    "            \"should\":esf.should(self,should_cond),\n",
    "            \"must_not\":esf.must_not(self,mustnot_cond),   \n",
    "                    }}}}\n",
    "        self.sort={\"time\": { \"order\": \"desc\" }}\n",
    "        print (self.booling)\n",
    "\n",
    "    def result(self,size):\n",
    "        if self.time_sort == True:            \n",
    "            conclution = self.es.search(index=self.index,doc_type=self.doc_type,\n",
    "            body={\"size\":size,\"query\":self.booling,\"sort\":self.sort   \n",
    "                  })\n",
    "        else:\n",
    "            conclution = self.es.search(index=self.index,doc_type=self.doc_type,\n",
    "            body={\"size\":size,\"query\":self.booling})\n",
    "        return conclution['hits']['hits']\n",
    "\n",
    "    def count(self):\n",
    "        conclution = self.es.count(index=self.index,doc_type=self.doc_type,\n",
    "        body={\"query\":self.booling})\n",
    "        return conclution[\"count\"]\n",
    "\n",
    "    def search(self):\n",
    "        if self.time_sort == True:\n",
    "            conclution = self.es.search(index=self.index,doc_type=self.doc_type,\n",
    "            body={\"size\":10000000,\"query\":self.booling,\"sort\":self.sort   \n",
    "                  })\n",
    "        else:\n",
    "            conclution = self.es.search(index=self.index,doc_type=self.doc_type,\n",
    "            body={\"size\":10000000,\"query\":self.booling})\n",
    "        return conclution['hits']['hits']"
   ]
  },
  {
   "cell_type": "code",
   "execution_count": 2,
   "metadata": {
    "collapsed": false
   },
   "outputs": [],
   "source": [
    "ES = esf([\"ptt\",\"facebook\"])    "
   ]
  },
  {
   "cell_type": "code",
   "execution_count": 3,
   "metadata": {
    "collapsed": false
   },
   "outputs": [],
   "source": [
    "doc_type=ES.doc_type"
   ]
  },
  {
   "cell_type": "code",
   "execution_count": 4,
   "metadata": {
    "collapsed": false
   },
   "outputs": [
    {
     "name": "stdout",
     "output_type": "stream",
     "text": [
      "{'filtered': {'filter': {'bool': {'must_not': [{'match_phrase': {'_all': '連'}}], 'must': [{'match_phrase': {'_all': '柯'}}, {'match_phrase': {'_all': 'p'}}, {'range': {'time': {'lte': None, 'gte': '2015-01-15'}}}], 'should': [{'match_phrase': {'_all': '小'}}, {'match_phrase': {'_all': '英'}}]}}}}\n"
     ]
    }
   ],
   "source": [
    "QU=esc(\"ptt\",must_cond=[\"柯\",\"p\"],mustnot_cond=\"連\",should_cond=\"小英\",time_sort=True,date1=\"2015-01-15\",date2=None)"
   ]
  },
  {
   "cell_type": "code",
   "execution_count": 5,
   "metadata": {
    "collapsed": false
   },
   "outputs": [
    {
     "data": {
      "text/plain": [
       "<__main__.esc at 0x1052647b8>"
      ]
     },
     "execution_count": 5,
     "metadata": {},
     "output_type": "execute_result"
    }
   ],
   "source": [
    "QU"
   ]
  },
  {
   "cell_type": "code",
   "execution_count": 6,
   "metadata": {
    "collapsed": false
   },
   "outputs": [
    {
     "data": {
      "text/plain": [
       "84"
      ]
     },
     "execution_count": 6,
     "metadata": {},
     "output_type": "execute_result"
    }
   ],
   "source": [
    "QU.count()"
   ]
  },
  {
   "cell_type": "code",
   "execution_count": 8,
   "metadata": {
    "collapsed": false
   },
   "outputs": [
    {
     "name": "stdout",
     "output_type": "stream",
     "text": [
      "{'filtered': {'filter': {'bool': {'must_not': [{'match_phrase': {'_all': '連'}}], 'must': [{'match_phrase': {'_all': '柯'}}, {'match_phrase': {'_all': '北門'}}, {'match_phrase': {'_all': '市'}}, {'range': {'time': {'lte': '2016-06-15', 'gte': '2015-01-15'}}}], 'should': [{'match_phrase': {'_all': '歷史'}}, {'match_phrase': {'_all': '橋'}}]}}}}\n"
     ]
    }
   ],
   "source": [
    "QU = esc(\"ptt\" ,\n",
    "      must_cond = [\"柯\",\"北門\",\"市\"],\n",
    "      mustnot_cond = \"連\",\n",
    "      should_cond = [\"歷史\",\"橋\"],\n",
    "      time_sort = True,\n",
    "      date1 =\"2015-01-15\" , date2 = \"2016-06-15\" ) "
   ]
  },
  {
   "cell_type": "code",
   "execution_count": 9,
   "metadata": {
    "collapsed": false
   },
   "outputs": [
    {
     "data": {
      "text/plain": [
       "[{'_id': 'AVMcjoTpuidTCCE7SoxE',\n",
       "  '_index': 'platform',\n",
       "  '_score': None,\n",
       "  '_source': {'': '71',\n",
       "   'content': 'https://www.facebook.com/DoctorKoWJ/?fref=nf\\n\\n忠孝橋引道從今(7)日凌晨起開始拆除，希望在大年初七(14)日前完成長達750公尺的引道\\n\\n拆除作業。未來配合西區門戶計畫的推動，北門及臺北車站將會有新的風貌呈現在世人面\\n\\n前。\\n\\n為減輕拆橋施工對交通的衝擊，市府把握春節年假的時候，以「全區同步拆除」的方式完\\n\\n成拆橋作業，對市民影響降至最低。感謝市府相關同仁犧牲假期投入拆除工作，臺北市的\\n\\n改造就從這一個關鍵的工程開始，我們一起為臺北市的城市發展寫下新頁。\\n\\n值此同時，臺南還有許多同胞因為震災而受困於災區中，北市消防局搜救隊昨日即刻南下\\n\\n支援，迄今仍在努力中。各縣市紛紛投入搶救，臺灣是生命共同體，北市府已盤點相關人\\n\\n力資源並與台南市政府保持聯繫，全力支援。\\n\\n對於天災，我們永遠只能「勿恃敵之不來，恃吾有以待之」。大家加油，天佑臺灣！\\n\\n施工期間進入臺北市區建議多加利用捷運路網，工程及交通改道相關資訊可透過以下網站\\n查閱：\\n\\n臺北好行 http://its.taipei.gov.tw/1.html\\n臺北市政府 http://www.taipei.gov.tw/\\n臺北市政府交通局 http://www.dot.gov.taipei/\\n臺北市政府工務局新建工程處 http://nco.gov.taipei/\\n\\n詳細公車改道動線可上以下網站查閱：\\n\\n臺北市公共運輸處 http://www.pto.gov.taipei/\\n大臺北公車動態資訊系統 http://ebus.gov.taipei/\\n臺北市政府工務局新建工程處 http://nco.gov.taipei/\\n\\n理性勿戰 不要想說地震不會震到你 要想說如果來了你有什麼準備 不要再噴口水了\\n\\n--\\n史http://imgur.com/U6SagY4 http://imgur.com/sGj9BrV http://imgur.com/tsJDggK\\n上http://imgur.com/RW5jCBP http://imgur.com/TJqYidC http://imgur.com/x4v3fm1\\n最http://imgur.com/c0nTong http://imgur.com/a5Sbeb4 http://imgur.com/0xI1W2S\\n強http://imgur.com/fJBHqT9 http://imgur.com/12Wsdoe http://imgur.com/UwKBG7z\\n結http://imgur.com/gGKwQE9 http://imgur.com/XyvPf4q http://imgur.com/yKWT1wH\\n界http://imgur.com/8WghScz http://imgur.com/be9eZtn http://imgur.com/yvyuyxV\\n\\n--',\n",
       "   'from_user_name': 'iXXXXGAY5566',\n",
       "   'from_user_nick': '5566可以獲得嶄新',\n",
       "   'media_name': 'Gossiping',\n",
       "   'platform': 'ptt',\n",
       "   'time': '2016-02-07T13:47:14+08:00',\n",
       "   'title': '[ＦＢ]柯文哲 勿恃敵之不來，恃吾有以待之 '},\n",
       "  '_type': 'ptt',\n",
       "  'sort': [1454824034000]}]"
      ]
     },
     "execution_count": 9,
     "metadata": {},
     "output_type": "execute_result"
    }
   ],
   "source": [
    "QU.result(1)"
   ]
  },
  {
   "cell_type": "code",
   "execution_count": 16,
   "metadata": {
    "collapsed": false
   },
   "outputs": [
    {
     "data": {
      "text/plain": [
       "'/Users/huangming-yi/Google 雲端硬碟/Team_FloodFire/elasticsearch'"
      ]
     },
     "execution_count": 16,
     "metadata": {},
     "output_type": "execute_result"
    }
   ],
   "source": []
  },
  {
   "cell_type": "code",
   "execution_count": 10,
   "metadata": {
    "collapsed": false
   },
   "outputs": [
    {
     "name": "stdout",
     "output_type": "stream",
     "text": [
      "File `./esclass/esuse.py` exists. Overwrite (y/[N])?  y\n",
      "The following commands were written to file `./esclass/esuse.py`:\n",
      "from elasticsearch import Elasticsearch\n",
      "from elasticsearch.client import IndicesClient\n",
      "\n",
      "class esf:\n",
      "    es = Elasticsearch([{'host': 'localhost', 'port': 9200}])\n",
      "    es_index=IndicesClient(es)\n",
      "    index = \"platform\"\n",
      "    def __init__(self,doc_type):\n",
      "        self.index = self.index\n",
      "        self.doc_type = doc_type\n",
      "    def must(self,must_cond,y):\n",
      "        query = []\n",
      "        for cond in must_cond:\n",
      "            query.append({\"match_phrase\":{\"_all\":cond}},)\n",
      "        query.append(y)\n",
      "        return query\n",
      "\n",
      "    def should(self,should_cond):\n",
      "        query = []\n",
      "        for cond in should_cond:\n",
      "            query.append({\"match_phrase\":{\"_all\":cond}},)\n",
      "        return query\n",
      "\n",
      "    def must_not(self,mustnot_cond):\n",
      "        query = []\n",
      "        for cond in mustnot_cond:\n",
      "            query.append({\"match_phrase\":{\"_all\":cond}},)\n",
      "        return query\n",
      "    \n",
      "class esc(esf):\n",
      "    es = esf.es\n",
      "    es_index = esf.es_index\n",
      "    \n",
      "    def __init__(self,doc_type,must_cond,should_cond,mustnot_cond,time_sort,date1,date2):\n",
      "        super().__init__(doc_type)\n",
      "        self.index = esf.index\n",
      "        self.time_sort = time_sort\n",
      "        self.booling={\"filtered\": {\n",
      "            \"filter\": {\"bool\":{\n",
      "            \"must\":esf.must(self,must_cond,{\"range\":{\"time\":{\"gte\": date1 ,\"lte\": date2 }}}),\n",
      "            \"should\":esf.should(self,should_cond),\n",
      "            \"must_not\":esf.must_not(self,mustnot_cond),   \n",
      "                    }}}}\n",
      "        self.sort={\"time\": { \"order\": \"desc\" }}\n",
      "        print (self.booling)\n",
      "\n",
      "    def result(self,size):\n",
      "        if self.time_sort == True:            \n",
      "            conclution = self.es.search(index=self.index,doc_type=self.doc_type,\n",
      "            body={\"size\":size,\"query\":self.booling,\"sort\":self.sort   \n",
      "                  })\n",
      "        else:\n",
      "            conclution = self.es.search(index=self.index,doc_type=self.doc_type,\n",
      "            body={\"size\":size,\"query\":self.booling})\n",
      "        return conclution['hits']['hits']\n",
      "\n",
      "    def count(self):\n",
      "        conclution = self.es.count(index=self.index,doc_type=self.doc_type,\n",
      "        body={\"query\":self.booling})\n",
      "        return conclution[\"count\"]\n",
      "\n",
      "    def search(self):\n",
      "        if self.time_sort == True:\n",
      "            conclution = self.es.search(index=self.index,doc_type=self.doc_type,\n",
      "            body={\"size\":10000000,\"query\":self.booling,\"sort\":self.sort   \n",
      "                  })\n",
      "        else:\n",
      "            conclution = self.es.search(index=self.index,doc_type=self.doc_type,\n",
      "            body={\"size\":10000000,\"query\":self.booling})\n",
      "        return conclution['hits']['hits']\n"
     ]
    }
   ],
   "source": [
    "%save ./esclass/esuse.py 1 "
   ]
  },
  {
   "cell_type": "code",
   "execution_count": null,
   "metadata": {
    "collapsed": true
   },
   "outputs": [],
   "source": []
  }
 ],
 "metadata": {
  "kernelspec": {
   "display_name": "Python 3",
   "language": "python",
   "name": "python3"
  },
  "language_info": {
   "codemirror_mode": {
    "name": "ipython",
    "version": 3
   },
   "file_extension": ".py",
   "mimetype": "text/x-python",
   "name": "python",
   "nbconvert_exporter": "python",
   "pygments_lexer": "ipython3",
   "version": "3.4.3"
  }
 },
 "nbformat": 4,
 "nbformat_minor": 0
}
