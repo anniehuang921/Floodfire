{
 "cells": [
  {
   "cell_type": "code",
   "execution_count": 1,
   "metadata": {
    "collapsed": true
   },
   "outputs": [],
   "source": [
    "import csv\n",
    "import sys\n",
    "import logging\n",
    "import datetime \n",
    "from elasticsearch import Elasticsearch"
   ]
  },
  {
   "cell_type": "code",
   "execution_count": 2,
   "metadata": {
    "collapsed": true
   },
   "outputs": [],
   "source": [
    "reload(sys)  \n",
    "sys.setdefaultencoding('utf-8')\n",
    "logging.basicConfig()\n",
    "es = Elasticsearch()\n"
   ]
  },
  {
   "cell_type": "code",
   "execution_count": 3,
   "metadata": {
    "collapsed": true
   },
   "outputs": [],
   "source": [
    "def exportCSV(indexName):\n",
    "    count = 0\n",
    "    finish=False\n",
    "    csvfile = file(indexName+'.csv','wb')\n",
    "    writer = csv.writer(csvfile)\n",
    "    starttime = datetime.datetime.now()\n",
    "    searchRes = es.search(index=indexName,size=100,body={\"query\": {\"match_all\": {}}},search_type=\"scan\",scroll=\"60s\")\n",
    "    while True:\n",
    "        scrollRes=es.scroll(scroll_id=searchRes[\"_scroll_id\"],scroll=\"60s\",ignore=[400, 404])\n",
    "        res_list = scrollRes[\"hits\"][\"hits\"]\n",
    "        data=[]\n",
    "        \n",
    "        if not len(res_list) or finish:\n",
    "            break\n",
    "        if count==0:\n",
    "            writer.writerow(tuple(res_list[0][\"_source\"].keys()))\n",
    "        for item in res_list:\n",
    "            #print tuple(item[\"_source\"].values())\n",
    "            data.append(tuple(item[\"_source\"].values()))\n",
    "            count+=1\n",
    "            if count>=100000:\n",
    "                finish=True\n",
    "                break\n",
    "\n",
    "        writer.writerows(data)\n",
    "    csvfile.close()\n",
    "    endtime = datetime.datetime.now()\n",
    "    print \"export size = \"+str(count)\n",
    "    print \"export cost = \"+str(endtime - starttime)"
   ]
  },
  {
   "cell_type": "code",
   "execution_count": 6,
   "metadata": {
    "collapsed": false
   },
   "outputs": [],
   "source": [
    "if __name__==\"__main__\":\n",
    "   exportCSV(\"class1\")"
   ]
  },
  {
   "cell_type": "code",
   "execution_count": null,
   "metadata": {
    "collapsed": true
   },
   "outputs": [],
   "source": []
  }
 ],
 "metadata": {
  "kernelspec": {
   "display_name": "Python 2",
   "language": "python",
   "name": "python2"
  },
  "language_info": {
   "codemirror_mode": {
    "name": "ipython",
    "version": 2
   },
   "file_extension": ".py",
   "mimetype": "text/x-python",
   "name": "python",
   "nbconvert_exporter": "python",
   "pygments_lexer": "ipython2",
   "version": "2.7.11"
  }
 },
 "nbformat": 4,
 "nbformat_minor": 0
}
