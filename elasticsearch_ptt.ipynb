{
 "cells": [
  {
   "cell_type": "code",
   "execution_count": 60,
   "metadata": {
    "collapsed": true
   },
   "outputs": [],
   "source": [
    "import pandas as pd\n",
    "import numpy as np"
   ]
  },
  {
   "cell_type": "code",
   "execution_count": 2,
   "metadata": {
    "collapsed": false
   },
   "outputs": [
    {
     "name": "stdout",
     "output_type": "stream",
     "text": [
      "_locate_stream(Workbook): seen\n",
      "    0  5 4 4 4 4 4 4 4 4 4 4 4 4 4 4 4 4 4 4 4 \n",
      "   20  4 4 4 4 4 4 4 4 4 4 4 4 4 4 4 4 4 4 4 4 \n",
      " 1640= 4 4 4 4 4 4 4 4 4 4 4 4 4 4 4 4 4 4 4 4 \n",
      " 1660  4 4 4 4 4 4 4 4 4 4 4 4 4 4 4 3 2 2 2 2 \n",
      " 1680  2 2 2 2 2 2 2 2 2 2 \n"
     ]
    },
    {
     "ename": "CompDocError",
     "evalue": "Workbook corruption: seen[2] == 4",
     "output_type": "error",
     "traceback": [
      "\u001b[0;31m---------------------------------------------------------------------------\u001b[0m",
      "\u001b[0;31mCompDocError\u001b[0m                              Traceback (most recent call last)",
      "\u001b[0;32m<ipython-input-2-812a76191dda>\u001b[0m in \u001b[0;36m<module>\u001b[0;34m()\u001b[0m\n\u001b[0;32m----> 1\u001b[0;31m \u001b[0mdf\u001b[0m \u001b[0;34m=\u001b[0m \u001b[0mpd\u001b[0m\u001b[0;34m.\u001b[0m\u001b[0mread_excel\u001b[0m\u001b[0;34m(\u001b[0m\u001b[0;34m'data/export.xls'\u001b[0m\u001b[0;34m,\u001b[0m\u001b[0mheader\u001b[0m\u001b[0;34m=\u001b[0m\u001b[0;36m0\u001b[0m\u001b[0;34m,\u001b[0m\u001b[0mencoding\u001b[0m\u001b[0;34m=\u001b[0m\u001b[0;34m\"utf8\"\u001b[0m\u001b[0;34m)\u001b[0m\u001b[0;34m\u001b[0m\u001b[0m\n\u001b[0m",
      "\u001b[0;32m//anaconda/envs/py34/lib/python3.4/site-packages/pandas/io/excel.py\u001b[0m in \u001b[0;36mread_excel\u001b[0;34m(io, sheetname, header, skiprows, skip_footer, index_col, parse_cols, parse_dates, date_parser, na_values, thousands, convert_float, has_index_names, converters, engine, **kwds)\u001b[0m\n\u001b[1;32m    161\u001b[0m \u001b[0;34m\u001b[0m\u001b[0m\n\u001b[1;32m    162\u001b[0m     \u001b[0;32mif\u001b[0m \u001b[0;32mnot\u001b[0m \u001b[0misinstance\u001b[0m\u001b[0;34m(\u001b[0m\u001b[0mio\u001b[0m\u001b[0;34m,\u001b[0m \u001b[0mExcelFile\u001b[0m\u001b[0;34m)\u001b[0m\u001b[0;34m:\u001b[0m\u001b[0;34m\u001b[0m\u001b[0m\n\u001b[0;32m--> 163\u001b[0;31m         \u001b[0mio\u001b[0m \u001b[0;34m=\u001b[0m \u001b[0mExcelFile\u001b[0m\u001b[0;34m(\u001b[0m\u001b[0mio\u001b[0m\u001b[0;34m,\u001b[0m \u001b[0mengine\u001b[0m\u001b[0;34m=\u001b[0m\u001b[0mengine\u001b[0m\u001b[0;34m)\u001b[0m\u001b[0;34m\u001b[0m\u001b[0m\n\u001b[0m\u001b[1;32m    164\u001b[0m \u001b[0;34m\u001b[0m\u001b[0m\n\u001b[1;32m    165\u001b[0m     return io._parse_excel(\n",
      "\u001b[0;32m//anaconda/envs/py34/lib/python3.4/site-packages/pandas/io/excel.py\u001b[0m in \u001b[0;36m__init__\u001b[0;34m(self, io, **kwds)\u001b[0m\n\u001b[1;32m    204\u001b[0m                 \u001b[0mself\u001b[0m\u001b[0;34m.\u001b[0m\u001b[0mbook\u001b[0m \u001b[0;34m=\u001b[0m \u001b[0mxlrd\u001b[0m\u001b[0;34m.\u001b[0m\u001b[0mopen_workbook\u001b[0m\u001b[0;34m(\u001b[0m\u001b[0mfile_contents\u001b[0m\u001b[0;34m=\u001b[0m\u001b[0mdata\u001b[0m\u001b[0;34m)\u001b[0m\u001b[0;34m\u001b[0m\u001b[0m\n\u001b[1;32m    205\u001b[0m             \u001b[0;32melse\u001b[0m\u001b[0;34m:\u001b[0m\u001b[0;34m\u001b[0m\u001b[0m\n\u001b[0;32m--> 206\u001b[0;31m                 \u001b[0mself\u001b[0m\u001b[0;34m.\u001b[0m\u001b[0mbook\u001b[0m \u001b[0;34m=\u001b[0m \u001b[0mxlrd\u001b[0m\u001b[0;34m.\u001b[0m\u001b[0mopen_workbook\u001b[0m\u001b[0;34m(\u001b[0m\u001b[0mio\u001b[0m\u001b[0;34m)\u001b[0m\u001b[0;34m\u001b[0m\u001b[0m\n\u001b[0m\u001b[1;32m    207\u001b[0m         \u001b[0;32melif\u001b[0m \u001b[0mengine\u001b[0m \u001b[0;34m==\u001b[0m \u001b[0;34m'xlrd'\u001b[0m \u001b[0;32mand\u001b[0m \u001b[0misinstance\u001b[0m\u001b[0;34m(\u001b[0m\u001b[0mio\u001b[0m\u001b[0;34m,\u001b[0m \u001b[0mxlrd\u001b[0m\u001b[0;34m.\u001b[0m\u001b[0mBook\u001b[0m\u001b[0;34m)\u001b[0m\u001b[0;34m:\u001b[0m\u001b[0;34m\u001b[0m\u001b[0m\n\u001b[1;32m    208\u001b[0m             \u001b[0mself\u001b[0m\u001b[0;34m.\u001b[0m\u001b[0mbook\u001b[0m \u001b[0;34m=\u001b[0m \u001b[0mio\u001b[0m\u001b[0;34m\u001b[0m\u001b[0m\n",
      "\u001b[0;32m//anaconda/envs/py34/lib/python3.4/site-packages/xlrd/__init__.py\u001b[0m in \u001b[0;36mopen_workbook\u001b[0;34m(filename, logfile, verbosity, use_mmap, file_contents, encoding_override, formatting_info, on_demand, ragged_rows)\u001b[0m\n\u001b[1;32m    439\u001b[0m         \u001b[0mformatting_info\u001b[0m\u001b[0;34m=\u001b[0m\u001b[0mformatting_info\u001b[0m\u001b[0;34m,\u001b[0m\u001b[0;34m\u001b[0m\u001b[0m\n\u001b[1;32m    440\u001b[0m         \u001b[0mon_demand\u001b[0m\u001b[0;34m=\u001b[0m\u001b[0mon_demand\u001b[0m\u001b[0;34m,\u001b[0m\u001b[0;34m\u001b[0m\u001b[0m\n\u001b[0;32m--> 441\u001b[0;31m         \u001b[0mragged_rows\u001b[0m\u001b[0;34m=\u001b[0m\u001b[0mragged_rows\u001b[0m\u001b[0;34m,\u001b[0m\u001b[0;34m\u001b[0m\u001b[0m\n\u001b[0m\u001b[1;32m    442\u001b[0m         )\n\u001b[1;32m    443\u001b[0m     \u001b[0;32mreturn\u001b[0m \u001b[0mbk\u001b[0m\u001b[0;34m\u001b[0m\u001b[0m\n",
      "\u001b[0;32m//anaconda/envs/py34/lib/python3.4/site-packages/xlrd/book.py\u001b[0m in \u001b[0;36mopen_workbook_xls\u001b[0;34m(filename, logfile, verbosity, use_mmap, file_contents, encoding_override, formatting_info, on_demand, ragged_rows)\u001b[0m\n\u001b[1;32m     85\u001b[0m             \u001b[0mformatting_info\u001b[0m\u001b[0;34m=\u001b[0m\u001b[0mformatting_info\u001b[0m\u001b[0;34m,\u001b[0m\u001b[0;34m\u001b[0m\u001b[0m\n\u001b[1;32m     86\u001b[0m             \u001b[0mon_demand\u001b[0m\u001b[0;34m=\u001b[0m\u001b[0mon_demand\u001b[0m\u001b[0;34m,\u001b[0m\u001b[0;34m\u001b[0m\u001b[0m\n\u001b[0;32m---> 87\u001b[0;31m             \u001b[0mragged_rows\u001b[0m\u001b[0;34m=\u001b[0m\u001b[0mragged_rows\u001b[0m\u001b[0;34m,\u001b[0m\u001b[0;34m\u001b[0m\u001b[0m\n\u001b[0m\u001b[1;32m     88\u001b[0m             )\n\u001b[1;32m     89\u001b[0m         \u001b[0mt1\u001b[0m \u001b[0;34m=\u001b[0m \u001b[0mtime\u001b[0m\u001b[0;34m.\u001b[0m\u001b[0mclock\u001b[0m\u001b[0;34m(\u001b[0m\u001b[0;34m)\u001b[0m\u001b[0;34m\u001b[0m\u001b[0m\n",
      "\u001b[0;32m//anaconda/envs/py34/lib/python3.4/site-packages/xlrd/book.py\u001b[0m in \u001b[0;36mbiff2_8_load\u001b[0;34m(self, filename, file_contents, logfile, verbosity, use_mmap, encoding_override, formatting_info, on_demand, ragged_rows)\u001b[0m\n\u001b[1;32m    590\u001b[0m                 \u001b[0;32mfor\u001b[0m \u001b[0mqname\u001b[0m \u001b[0;32min\u001b[0m \u001b[0;34m[\u001b[0m\u001b[0;34m'Workbook'\u001b[0m\u001b[0;34m,\u001b[0m \u001b[0;34m'Book'\u001b[0m\u001b[0;34m]\u001b[0m\u001b[0;34m:\u001b[0m\u001b[0;34m\u001b[0m\u001b[0m\n\u001b[1;32m    591\u001b[0m                     \u001b[0mself\u001b[0m\u001b[0;34m.\u001b[0m\u001b[0mmem\u001b[0m\u001b[0;34m,\u001b[0m \u001b[0mself\u001b[0m\u001b[0;34m.\u001b[0m\u001b[0mbase\u001b[0m\u001b[0;34m,\u001b[0m \u001b[0mself\u001b[0m\u001b[0;34m.\u001b[0m\u001b[0mstream_len\u001b[0m \u001b[0;34m=\u001b[0m\u001b[0;31m \u001b[0m\u001b[0;31m\\\u001b[0m\u001b[0;34m\u001b[0m\u001b[0m\n\u001b[0;32m--> 592\u001b[0;31m                                 \u001b[0mcd\u001b[0m\u001b[0;34m.\u001b[0m\u001b[0mlocate_named_stream\u001b[0m\u001b[0;34m(\u001b[0m\u001b[0mUNICODE_LITERAL\u001b[0m\u001b[0;34m(\u001b[0m\u001b[0mqname\u001b[0m\u001b[0;34m)\u001b[0m\u001b[0;34m)\u001b[0m\u001b[0;34m\u001b[0m\u001b[0m\n\u001b[0m\u001b[1;32m    593\u001b[0m                     \u001b[0;32mif\u001b[0m \u001b[0mself\u001b[0m\u001b[0;34m.\u001b[0m\u001b[0mmem\u001b[0m\u001b[0;34m:\u001b[0m \u001b[0;32mbreak\u001b[0m\u001b[0;34m\u001b[0m\u001b[0m\n\u001b[1;32m    594\u001b[0m                 \u001b[0;32melse\u001b[0m\u001b[0;34m:\u001b[0m\u001b[0;34m\u001b[0m\u001b[0m\n",
      "\u001b[0;32m//anaconda/envs/py34/lib/python3.4/site-packages/xlrd/compdoc.py\u001b[0m in \u001b[0;36mlocate_named_stream\u001b[0;34m(self, qname)\u001b[0m\n\u001b[1;32m    388\u001b[0m             result = self._locate_stream(\n\u001b[1;32m    389\u001b[0m                 \u001b[0mself\u001b[0m\u001b[0;34m.\u001b[0m\u001b[0mmem\u001b[0m\u001b[0;34m,\u001b[0m \u001b[0;36m512\u001b[0m\u001b[0;34m,\u001b[0m \u001b[0mself\u001b[0m\u001b[0;34m.\u001b[0m\u001b[0mSAT\u001b[0m\u001b[0;34m,\u001b[0m \u001b[0mself\u001b[0m\u001b[0;34m.\u001b[0m\u001b[0msec_size\u001b[0m\u001b[0;34m,\u001b[0m \u001b[0md\u001b[0m\u001b[0;34m.\u001b[0m\u001b[0mfirst_SID\u001b[0m\u001b[0;34m,\u001b[0m\u001b[0;34m\u001b[0m\u001b[0m\n\u001b[0;32m--> 390\u001b[0;31m                 d.tot_size, qname, d.DID+6)\n\u001b[0m\u001b[1;32m    391\u001b[0m             \u001b[0;32mif\u001b[0m \u001b[0mself\u001b[0m\u001b[0;34m.\u001b[0m\u001b[0mDEBUG\u001b[0m\u001b[0;34m:\u001b[0m\u001b[0;34m\u001b[0m\u001b[0m\n\u001b[1;32m    392\u001b[0m                 \u001b[0mprint\u001b[0m\u001b[0;34m(\u001b[0m\u001b[0;34m\"\\nseen\"\u001b[0m\u001b[0;34m,\u001b[0m \u001b[0mfile\u001b[0m\u001b[0;34m=\u001b[0m\u001b[0mself\u001b[0m\u001b[0;34m.\u001b[0m\u001b[0mlogfile\u001b[0m\u001b[0;34m)\u001b[0m\u001b[0;34m\u001b[0m\u001b[0m\n",
      "\u001b[0;32m//anaconda/envs/py34/lib/python3.4/site-packages/xlrd/compdoc.py\u001b[0m in \u001b[0;36m_locate_stream\u001b[0;34m(self, mem, base, sat, sec_size, start_sid, expected_stream_size, qname, seen_id)\u001b[0m\n\u001b[1;32m    416\u001b[0m             \u001b[0;32mif\u001b[0m \u001b[0mself\u001b[0m\u001b[0;34m.\u001b[0m\u001b[0mseen\u001b[0m\u001b[0;34m[\u001b[0m\u001b[0ms\u001b[0m\u001b[0;34m]\u001b[0m\u001b[0;34m:\u001b[0m\u001b[0;34m\u001b[0m\u001b[0m\n\u001b[1;32m    417\u001b[0m                 \u001b[0mprint\u001b[0m\u001b[0;34m(\u001b[0m\u001b[0;34m\"_locate_stream(%s): seen\"\u001b[0m \u001b[0;34m%\u001b[0m \u001b[0mqname\u001b[0m\u001b[0;34m,\u001b[0m \u001b[0mfile\u001b[0m\u001b[0;34m=\u001b[0m\u001b[0mself\u001b[0m\u001b[0;34m.\u001b[0m\u001b[0mlogfile\u001b[0m\u001b[0;34m)\u001b[0m\u001b[0;34m;\u001b[0m \u001b[0mdump_list\u001b[0m\u001b[0;34m(\u001b[0m\u001b[0mself\u001b[0m\u001b[0;34m.\u001b[0m\u001b[0mseen\u001b[0m\u001b[0;34m,\u001b[0m \u001b[0;36m20\u001b[0m\u001b[0;34m,\u001b[0m \u001b[0mself\u001b[0m\u001b[0;34m.\u001b[0m\u001b[0mlogfile\u001b[0m\u001b[0;34m)\u001b[0m\u001b[0;34m\u001b[0m\u001b[0m\n\u001b[0;32m--> 418\u001b[0;31m                 \u001b[0;32mraise\u001b[0m \u001b[0mCompDocError\u001b[0m\u001b[0;34m(\u001b[0m\u001b[0;34m\"%s corruption: seen[%d] == %d\"\u001b[0m \u001b[0;34m%\u001b[0m \u001b[0;34m(\u001b[0m\u001b[0mqname\u001b[0m\u001b[0;34m,\u001b[0m \u001b[0ms\u001b[0m\u001b[0;34m,\u001b[0m \u001b[0mself\u001b[0m\u001b[0;34m.\u001b[0m\u001b[0mseen\u001b[0m\u001b[0;34m[\u001b[0m\u001b[0ms\u001b[0m\u001b[0;34m]\u001b[0m\u001b[0;34m)\u001b[0m\u001b[0;34m)\u001b[0m\u001b[0;34m\u001b[0m\u001b[0m\n\u001b[0m\u001b[1;32m    419\u001b[0m             \u001b[0mself\u001b[0m\u001b[0;34m.\u001b[0m\u001b[0mseen\u001b[0m\u001b[0;34m[\u001b[0m\u001b[0ms\u001b[0m\u001b[0;34m]\u001b[0m \u001b[0;34m=\u001b[0m \u001b[0mseen_id\u001b[0m\u001b[0;34m\u001b[0m\u001b[0m\n\u001b[1;32m    420\u001b[0m             \u001b[0mtot_found\u001b[0m \u001b[0;34m+=\u001b[0m \u001b[0;36m1\u001b[0m\u001b[0;34m\u001b[0m\u001b[0m\n",
      "\u001b[0;31mCompDocError\u001b[0m: Workbook corruption: seen[2] == 4"
     ]
    }
   ],
   "source": [
    "df = pd.read_excel('data/export.xls',header=0,encoding=\"utf8\")"
   ]
  },
  {
   "cell_type": "markdown",
   "metadata": {},
   "source": [
    "### 因為上述無法直接讀取 excel --->\n",
    "## 直接在 Numbers(Excel) 輸出成 csv"
   ]
  },
  {
   "cell_type": "code",
   "execution_count": 3,
   "metadata": {
    "collapsed": false
   },
   "outputs": [],
   "source": [
    "df = pd.read_csv('data/export.csv')"
   ]
  },
  {
   "cell_type": "code",
   "execution_count": 4,
   "metadata": {
    "collapsed": false
   },
   "outputs": [
    {
     "data": {
      "text/html": [
       "<div>\n",
       "<table border=\"1\" class=\"dataframe\">\n",
       "  <thead>\n",
       "    <tr style=\"text-align: right;\">\n",
       "      <th></th>\n",
       "      <th>id</th>\n",
       "      <th>forum</th>\n",
       "      <th>author</th>\n",
       "      <th>nick</th>\n",
       "      <th>title</th>\n",
       "      <th>content</th>\n",
       "      <th>created_time</th>\n",
       "      <th>ts</th>\n",
       "    </tr>\n",
       "  </thead>\n",
       "  <tbody>\n",
       "    <tr>\n",
       "      <th>0</th>\n",
       "      <td>M.1455032826.A.035</td>\n",
       "      <td>HatePolitics</td>\n",
       "      <td>sunyeah</td>\n",
       "      <td>湯元嗎</td>\n",
       "      <td>[黑特] lbj在節目說柯文哲不敢公布</td>\n",
       "      <td>土壤液化區，標題直接打柯文哲不敢公布的秘密\\n\\n結果報告說2002年就完成了，結果抹201...</td>\n",
       "      <td>2016-02-12 02:00:57</td>\n",
       "      <td>2016-02-09 23:47:04</td>\n",
       "    </tr>\n",
       "    <tr>\n",
       "      <th>1</th>\n",
       "      <td>M.1455031945.A.3AD</td>\n",
       "      <td>HatePolitics</td>\n",
       "      <td>chataulait</td>\n",
       "      <td>牛奶貓</td>\n",
       "      <td>Re: [新聞] 希拉蕊民調慘輸 柯林頓爆氣開嗆</td>\n",
       "      <td>: 推 CavendishJr: 希拉蕊選不上了嗎QAQ                  ...</td>\n",
       "      <td>2016-02-12 02:00:52</td>\n",
       "      <td>2016-02-09 23:32:22</td>\n",
       "    </tr>\n",
       "    <tr>\n",
       "      <th>2</th>\n",
       "      <td>M.1455030945.A.EE0</td>\n",
       "      <td>HatePolitics</td>\n",
       "      <td>aitt</td>\n",
       "      <td>喜歡美食與運動(M)</td>\n",
       "      <td>Re: [新聞] 滿意度剩47％ 柯文哲神回:塞車跟總統大選</td>\n",
       "      <td>\\n\\n假若這是旺旺中時做的民調,敢問可信度有多高?\\n你去想想吧,旺旺中時多麼擁馬,挺國民...</td>\n",
       "      <td>2016-02-12 02:00:43</td>\n",
       "      <td>2016-02-09 23:15:41</td>\n",
       "    </tr>\n",
       "    <tr>\n",
       "      <th>3</th>\n",
       "      <td>M.1455029364.A.8A3</td>\n",
       "      <td>HatePolitics</td>\n",
       "      <td>hong1126</td>\n",
       "      <td>小紅哥</td>\n",
       "      <td>[討論] 請問柯黑到底要崩潰到啥時候</td>\n",
       "      <td>\\n\\n怎麼有人從前年的1129崩潰到現在阿\\n\\n實在令人佩服耶~ 都快破崩潰世界紀錄了\\...</td>\n",
       "      <td>2016-02-12 02:01:20</td>\n",
       "      <td>2016-02-09 22:49:21</td>\n",
       "    </tr>\n",
       "    <tr>\n",
       "      <th>4</th>\n",
       "      <td>M.1455028837.A.5CF</td>\n",
       "      <td>HatePolitics</td>\n",
       "      <td>sunyeah</td>\n",
       "      <td>湯元嗎</td>\n",
       "      <td>Re: [討論] 為什麼柯p沒有被稱柯神?</td>\n",
       "      <td>\\n→ kim: 基本上  柯P話少一半  就可以維持形象又沒得黑02/09 22:16\\n...</td>\n",
       "      <td>2016-02-12 02:01:19</td>\n",
       "      <td>2016-02-09 22:40:34</td>\n",
       "    </tr>\n",
       "  </tbody>\n",
       "</table>\n",
       "</div>"
      ],
      "text/plain": [
       "                   id         forum      author        nick  \\\n",
       "0  M.1455032826.A.035  HatePolitics     sunyeah         湯元嗎   \n",
       "1  M.1455031945.A.3AD  HatePolitics  chataulait         牛奶貓   \n",
       "2  M.1455030945.A.EE0  HatePolitics        aitt  喜歡美食與運動(M)   \n",
       "3  M.1455029364.A.8A3  HatePolitics    hong1126         小紅哥   \n",
       "4  M.1455028837.A.5CF  HatePolitics     sunyeah         湯元嗎   \n",
       "\n",
       "                            title  \\\n",
       "0             [黑特] lbj在節目說柯文哲不敢公布   \n",
       "1        Re: [新聞] 希拉蕊民調慘輸 柯林頓爆氣開嗆   \n",
       "2  Re: [新聞] 滿意度剩47％ 柯文哲神回:塞車跟總統大選   \n",
       "3              [討論] 請問柯黑到底要崩潰到啥時候   \n",
       "4           Re: [討論] 為什麼柯p沒有被稱柯神?   \n",
       "\n",
       "                                             content         created_time  \\\n",
       "0  土壤液化區，標題直接打柯文哲不敢公布的秘密\\n\\n結果報告說2002年就完成了，結果抹201...  2016-02-12 02:00:57   \n",
       "1  : 推 CavendishJr: 希拉蕊選不上了嗎QAQ                  ...  2016-02-12 02:00:52   \n",
       "2  \\n\\n假若這是旺旺中時做的民調,敢問可信度有多高?\\n你去想想吧,旺旺中時多麼擁馬,挺國民...  2016-02-12 02:00:43   \n",
       "3  \\n\\n怎麼有人從前年的1129崩潰到現在阿\\n\\n實在令人佩服耶~ 都快破崩潰世界紀錄了\\...  2016-02-12 02:01:20   \n",
       "4  \\n→ kim: 基本上  柯P話少一半  就可以維持形象又沒得黑02/09 22:16\\n...  2016-02-12 02:01:19   \n",
       "\n",
       "                    ts  \n",
       "0  2016-02-09 23:47:04  \n",
       "1  2016-02-09 23:32:22  \n",
       "2  2016-02-09 23:15:41  \n",
       "3  2016-02-09 22:49:21  \n",
       "4  2016-02-09 22:40:34  "
      ]
     },
     "execution_count": 4,
     "metadata": {},
     "output_type": "execute_result"
    }
   ],
   "source": [
    "df.head()"
   ]
  },
  {
   "cell_type": "code",
   "execution_count": 5,
   "metadata": {
    "collapsed": false
   },
   "outputs": [],
   "source": [
    "inital_columns=df.columns"
   ]
  },
  {
   "cell_type": "code",
   "execution_count": 6,
   "metadata": {
    "collapsed": false
   },
   "outputs": [
    {
     "data": {
      "text/plain": [
       "Index(['id', 'forum', 'author', 'nick', 'title', 'content', 'created_time',\n",
       "       'ts'],\n",
       "      dtype='object')"
      ]
     },
     "execution_count": 6,
     "metadata": {},
     "output_type": "execute_result"
    }
   ],
   "source": [
    "inital_columns"
   ]
  },
  {
   "cell_type": "markdown",
   "metadata": {},
   "source": [
    ">'id(非文章代碼)', 'forum（板名）', 'author', 'nick（暱稱）', 'title', 'content', 'created_time'(收集時間),'ts（發文時間）'"
   ]
  },
  {
   "cell_type": "markdown",
   "metadata": {},
   "source": [
    "### df1 是取需要存入的資料"
   ]
  },
  {
   "cell_type": "code",
   "execution_count": 7,
   "metadata": {
    "collapsed": false
   },
   "outputs": [],
   "source": [
    "df1=df[['forum','author', 'nick', 'title', 'content', 'ts']]"
   ]
  },
  {
   "cell_type": "code",
   "execution_count": 8,
   "metadata": {
    "collapsed": false
   },
   "outputs": [
    {
     "data": {
      "text/html": [
       "<div>\n",
       "<table border=\"1\" class=\"dataframe\">\n",
       "  <thead>\n",
       "    <tr style=\"text-align: right;\">\n",
       "      <th></th>\n",
       "      <th>forum</th>\n",
       "      <th>author</th>\n",
       "      <th>nick</th>\n",
       "      <th>title</th>\n",
       "      <th>content</th>\n",
       "      <th>ts</th>\n",
       "    </tr>\n",
       "  </thead>\n",
       "  <tbody>\n",
       "    <tr>\n",
       "      <th>0</th>\n",
       "      <td>HatePolitics</td>\n",
       "      <td>sunyeah</td>\n",
       "      <td>湯元嗎</td>\n",
       "      <td>[黑特] lbj在節目說柯文哲不敢公布</td>\n",
       "      <td>土壤液化區，標題直接打柯文哲不敢公布的秘密\\n\\n結果報告說2002年就完成了，結果抹201...</td>\n",
       "      <td>2016-02-09 23:47:04</td>\n",
       "    </tr>\n",
       "    <tr>\n",
       "      <th>1</th>\n",
       "      <td>HatePolitics</td>\n",
       "      <td>chataulait</td>\n",
       "      <td>牛奶貓</td>\n",
       "      <td>Re: [新聞] 希拉蕊民調慘輸 柯林頓爆氣開嗆</td>\n",
       "      <td>: 推 CavendishJr: 希拉蕊選不上了嗎QAQ                  ...</td>\n",
       "      <td>2016-02-09 23:32:22</td>\n",
       "    </tr>\n",
       "    <tr>\n",
       "      <th>2</th>\n",
       "      <td>HatePolitics</td>\n",
       "      <td>aitt</td>\n",
       "      <td>喜歡美食與運動(M)</td>\n",
       "      <td>Re: [新聞] 滿意度剩47％ 柯文哲神回:塞車跟總統大選</td>\n",
       "      <td>\\n\\n假若這是旺旺中時做的民調,敢問可信度有多高?\\n你去想想吧,旺旺中時多麼擁馬,挺國民...</td>\n",
       "      <td>2016-02-09 23:15:41</td>\n",
       "    </tr>\n",
       "    <tr>\n",
       "      <th>3</th>\n",
       "      <td>HatePolitics</td>\n",
       "      <td>hong1126</td>\n",
       "      <td>小紅哥</td>\n",
       "      <td>[討論] 請問柯黑到底要崩潰到啥時候</td>\n",
       "      <td>\\n\\n怎麼有人從前年的1129崩潰到現在阿\\n\\n實在令人佩服耶~ 都快破崩潰世界紀錄了\\...</td>\n",
       "      <td>2016-02-09 22:49:21</td>\n",
       "    </tr>\n",
       "    <tr>\n",
       "      <th>4</th>\n",
       "      <td>HatePolitics</td>\n",
       "      <td>sunyeah</td>\n",
       "      <td>湯元嗎</td>\n",
       "      <td>Re: [討論] 為什麼柯p沒有被稱柯神?</td>\n",
       "      <td>\\n→ kim: 基本上  柯P話少一半  就可以維持形象又沒得黑02/09 22:16\\n...</td>\n",
       "      <td>2016-02-09 22:40:34</td>\n",
       "    </tr>\n",
       "  </tbody>\n",
       "</table>\n",
       "</div>"
      ],
      "text/plain": [
       "          forum      author        nick                           title  \\\n",
       "0  HatePolitics     sunyeah         湯元嗎             [黑特] lbj在節目說柯文哲不敢公布   \n",
       "1  HatePolitics  chataulait         牛奶貓        Re: [新聞] 希拉蕊民調慘輸 柯林頓爆氣開嗆   \n",
       "2  HatePolitics        aitt  喜歡美食與運動(M)  Re: [新聞] 滿意度剩47％ 柯文哲神回:塞車跟總統大選   \n",
       "3  HatePolitics    hong1126         小紅哥              [討論] 請問柯黑到底要崩潰到啥時候   \n",
       "4  HatePolitics     sunyeah         湯元嗎           Re: [討論] 為什麼柯p沒有被稱柯神?   \n",
       "\n",
       "                                             content                   ts  \n",
       "0  土壤液化區，標題直接打柯文哲不敢公布的秘密\\n\\n結果報告說2002年就完成了，結果抹201...  2016-02-09 23:47:04  \n",
       "1  : 推 CavendishJr: 希拉蕊選不上了嗎QAQ                  ...  2016-02-09 23:32:22  \n",
       "2  \\n\\n假若這是旺旺中時做的民調,敢問可信度有多高?\\n你去想想吧,旺旺中時多麼擁馬,挺國民...  2016-02-09 23:15:41  \n",
       "3  \\n\\n怎麼有人從前年的1129崩潰到現在阿\\n\\n實在令人佩服耶~ 都快破崩潰世界紀錄了\\...  2016-02-09 22:49:21  \n",
       "4  \\n→ kim: 基本上  柯P話少一半  就可以維持形象又沒得黑02/09 22:16\\n...  2016-02-09 22:40:34  "
      ]
     },
     "execution_count": 8,
     "metadata": {},
     "output_type": "execute_result"
    }
   ],
   "source": [
    "df1.head()"
   ]
  },
  {
   "cell_type": "markdown",
   "metadata": {},
   "source": [
    "## 增加 platform 欄位 "
   ]
  },
  {
   "cell_type": "code",
   "execution_count": 9,
   "metadata": {
    "collapsed": false
   },
   "outputs": [
    {
     "name": "stderr",
     "output_type": "stream",
     "text": [
      "//anaconda/envs/py34/lib/python3.4/site-packages/ipykernel/__main__.py:1: SettingWithCopyWarning: \n",
      "A value is trying to be set on a copy of a slice from a DataFrame.\n",
      "Try using .loc[row_indexer,col_indexer] = value instead\n",
      "\n",
      "See the caveats in the documentation: http://pandas.pydata.org/pandas-docs/stable/indexing.html#indexing-view-versus-copy\n",
      "  if __name__ == '__main__':\n"
     ]
    }
   ],
   "source": [
    "df1['platform']='ptt'"
   ]
  },
  {
   "cell_type": "code",
   "execution_count": 10,
   "metadata": {
    "collapsed": false
   },
   "outputs": [
    {
     "data": {
      "text/plain": [
       "Index(['forum', 'author', 'nick', 'title', 'content', 'ts', 'platform'], dtype='object')"
      ]
     },
     "execution_count": 10,
     "metadata": {},
     "output_type": "execute_result"
    }
   ],
   "source": [
    "df1.columns"
   ]
  },
  {
   "cell_type": "code",
   "execution_count": 11,
   "metadata": {
    "collapsed": true
   },
   "outputs": [],
   "source": [
    "df1.columns=['media_name', 'from_user_name', 'from_user_nick', 'title', 'content', 'time', 'platform']"
   ]
  },
  {
   "cell_type": "code",
   "execution_count": 13,
   "metadata": {
    "collapsed": false
   },
   "outputs": [
    {
     "data": {
      "text/html": [
       "<div>\n",
       "<table border=\"1\" class=\"dataframe\">\n",
       "  <thead>\n",
       "    <tr style=\"text-align: right;\">\n",
       "      <th></th>\n",
       "      <th>media_name</th>\n",
       "      <th>from_user_name</th>\n",
       "      <th>from_user_nick</th>\n",
       "      <th>title</th>\n",
       "      <th>content</th>\n",
       "      <th>time</th>\n",
       "      <th>platform</th>\n",
       "    </tr>\n",
       "  </thead>\n",
       "  <tbody>\n",
       "    <tr>\n",
       "      <th>0</th>\n",
       "      <td>HatePolitics</td>\n",
       "      <td>sunyeah</td>\n",
       "      <td>湯元嗎</td>\n",
       "      <td>[黑特] lbj在節目說柯文哲不敢公布</td>\n",
       "      <td>土壤液化區，標題直接打柯文哲不敢公布的秘密\\n\\n結果報告說2002年就完成了，結果抹201...</td>\n",
       "      <td>2016-02-09 23:47:04</td>\n",
       "      <td>ptt</td>\n",
       "    </tr>\n",
       "    <tr>\n",
       "      <th>1</th>\n",
       "      <td>HatePolitics</td>\n",
       "      <td>chataulait</td>\n",
       "      <td>牛奶貓</td>\n",
       "      <td>Re: [新聞] 希拉蕊民調慘輸 柯林頓爆氣開嗆</td>\n",
       "      <td>: 推 CavendishJr: 希拉蕊選不上了嗎QAQ                  ...</td>\n",
       "      <td>2016-02-09 23:32:22</td>\n",
       "      <td>ptt</td>\n",
       "    </tr>\n",
       "    <tr>\n",
       "      <th>2</th>\n",
       "      <td>HatePolitics</td>\n",
       "      <td>aitt</td>\n",
       "      <td>喜歡美食與運動(M)</td>\n",
       "      <td>Re: [新聞] 滿意度剩47％ 柯文哲神回:塞車跟總統大選</td>\n",
       "      <td>\\n\\n假若這是旺旺中時做的民調,敢問可信度有多高?\\n你去想想吧,旺旺中時多麼擁馬,挺國民...</td>\n",
       "      <td>2016-02-09 23:15:41</td>\n",
       "      <td>ptt</td>\n",
       "    </tr>\n",
       "    <tr>\n",
       "      <th>3</th>\n",
       "      <td>HatePolitics</td>\n",
       "      <td>hong1126</td>\n",
       "      <td>小紅哥</td>\n",
       "      <td>[討論] 請問柯黑到底要崩潰到啥時候</td>\n",
       "      <td>\\n\\n怎麼有人從前年的1129崩潰到現在阿\\n\\n實在令人佩服耶~ 都快破崩潰世界紀錄了\\...</td>\n",
       "      <td>2016-02-09 22:49:21</td>\n",
       "      <td>ptt</td>\n",
       "    </tr>\n",
       "    <tr>\n",
       "      <th>4</th>\n",
       "      <td>HatePolitics</td>\n",
       "      <td>sunyeah</td>\n",
       "      <td>湯元嗎</td>\n",
       "      <td>Re: [討論] 為什麼柯p沒有被稱柯神?</td>\n",
       "      <td>\\n→ kim: 基本上  柯P話少一半  就可以維持形象又沒得黑02/09 22:16\\n...</td>\n",
       "      <td>2016-02-09 22:40:34</td>\n",
       "      <td>ptt</td>\n",
       "    </tr>\n",
       "  </tbody>\n",
       "</table>\n",
       "</div>"
      ],
      "text/plain": [
       "     media_name from_user_name from_user_nick                           title  \\\n",
       "0  HatePolitics        sunyeah            湯元嗎             [黑特] lbj在節目說柯文哲不敢公布   \n",
       "1  HatePolitics     chataulait            牛奶貓        Re: [新聞] 希拉蕊民調慘輸 柯林頓爆氣開嗆   \n",
       "2  HatePolitics           aitt     喜歡美食與運動(M)  Re: [新聞] 滿意度剩47％ 柯文哲神回:塞車跟總統大選   \n",
       "3  HatePolitics       hong1126            小紅哥              [討論] 請問柯黑到底要崩潰到啥時候   \n",
       "4  HatePolitics        sunyeah            湯元嗎           Re: [討論] 為什麼柯p沒有被稱柯神?   \n",
       "\n",
       "                                             content                 time  \\\n",
       "0  土壤液化區，標題直接打柯文哲不敢公布的秘密\\n\\n結果報告說2002年就完成了，結果抹201...  2016-02-09 23:47:04   \n",
       "1  : 推 CavendishJr: 希拉蕊選不上了嗎QAQ                  ...  2016-02-09 23:32:22   \n",
       "2  \\n\\n假若這是旺旺中時做的民調,敢問可信度有多高?\\n你去想想吧,旺旺中時多麼擁馬,挺國民...  2016-02-09 23:15:41   \n",
       "3  \\n\\n怎麼有人從前年的1129崩潰到現在阿\\n\\n實在令人佩服耶~ 都快破崩潰世界紀錄了\\...  2016-02-09 22:49:21   \n",
       "4  \\n→ kim: 基本上  柯P話少一半  就可以維持形象又沒得黑02/09 22:16\\n...  2016-02-09 22:40:34   \n",
       "\n",
       "  platform  \n",
       "0      ptt  \n",
       "1      ptt  \n",
       "2      ptt  \n",
       "3      ptt  \n",
       "4      ptt  "
      ]
     },
     "execution_count": 13,
     "metadata": {},
     "output_type": "execute_result"
    }
   ],
   "source": [
    "df1.head()"
   ]
  },
  {
   "cell_type": "markdown",
   "metadata": {},
   "source": [
    "## 看目前欄位 type"
   ]
  },
  {
   "cell_type": "code",
   "execution_count": 14,
   "metadata": {
    "collapsed": false
   },
   "outputs": [
    {
     "data": {
      "text/plain": [
       "media_name        object\n",
       "from_user_name    object\n",
       "from_user_nick    object\n",
       "title             object\n",
       "content           object\n",
       "time              object\n",
       "platform          object\n",
       "dtype: object"
      ]
     },
     "execution_count": 14,
     "metadata": {},
     "output_type": "execute_result"
    }
   ],
   "source": [
    "df1.dtypes"
   ]
  },
  {
   "cell_type": "markdown",
   "metadata": {},
   "source": [
    "## 轉換時間\n",
    "轉成iso 8601, isoformat"
   ]
  },
  {
   "cell_type": "markdown",
   "metadata": {},
   "source": [
    ">from datetime import datetime"
   ]
  },
  {
   "cell_type": "markdown",
   "metadata": {},
   "source": [
    ">df1.loc[1,'time']"
   ]
  },
  {
   "cell_type": "markdown",
   "metadata": {},
   "source": [
    "先轉成時間格式"
   ]
  },
  {
   "cell_type": "markdown",
   "metadata": {},
   "source": [
    ">datetime.strptime('2016-02-09 23:32:22',\"%Y-%m-%d %H:%M:%S\")"
   ]
  },
  {
   "cell_type": "markdown",
   "metadata": {},
   "source": [
    ">date = datetime.strptime('2016-02-09 23:32:22',\"%Y-%m-%d %H:%M:%S\")"
   ]
  },
  {
   "cell_type": "markdown",
   "metadata": {},
   "source": [
    ">datetime.isoformat(date)+'+0800'"
   ]
  },
  {
   "cell_type": "markdown",
   "metadata": {},
   "source": [
    "直接整排轉換"
   ]
  },
  {
   "cell_type": "code",
   "execution_count": 15,
   "metadata": {
    "collapsed": false
   },
   "outputs": [],
   "source": [
    "time=[]\n",
    "from datetime import datetime\n",
    "for i in df1.loc[:,'time']:\n",
    "    date = datetime.strptime(i,\"%Y-%m-%d %H:%M:%S\")\n",
    "    time.append(datetime.isoformat(date)+'+08:00')"
   ]
  },
  {
   "cell_type": "code",
   "execution_count": 16,
   "metadata": {
    "collapsed": false
   },
   "outputs": [
    {
     "name": "stderr",
     "output_type": "stream",
     "text": [
      "//anaconda/envs/py34/lib/python3.4/site-packages/ipykernel/__main__.py:1: SettingWithCopyWarning: \n",
      "A value is trying to be set on a copy of a slice from a DataFrame.\n",
      "Try using .loc[row_indexer,col_indexer] = value instead\n",
      "\n",
      "See the caveats in the documentation: http://pandas.pydata.org/pandas-docs/stable/indexing.html#indexing-view-versus-copy\n",
      "  if __name__ == '__main__':\n"
     ]
    }
   ],
   "source": [
    "df1['time']= time"
   ]
  },
  {
   "cell_type": "code",
   "execution_count": 17,
   "metadata": {
    "collapsed": false
   },
   "outputs": [
    {
     "name": "stdout",
     "output_type": "stream",
     "text": [
      "/Users/huangming-yi/Google 雲端硬碟/Team_FloodFire/elasticsearch/data\n"
     ]
    }
   ],
   "source": [
    "cd data"
   ]
  },
  {
   "cell_type": "code",
   "execution_count": 18,
   "metadata": {
    "collapsed": false
   },
   "outputs": [
    {
     "data": {
      "text/html": [
       "<div>\n",
       "<table border=\"1\" class=\"dataframe\">\n",
       "  <thead>\n",
       "    <tr style=\"text-align: right;\">\n",
       "      <th></th>\n",
       "      <th>media_name</th>\n",
       "      <th>from_user_name</th>\n",
       "      <th>from_user_nick</th>\n",
       "      <th>title</th>\n",
       "      <th>content</th>\n",
       "      <th>time</th>\n",
       "      <th>platform</th>\n",
       "    </tr>\n",
       "  </thead>\n",
       "  <tbody>\n",
       "    <tr>\n",
       "      <th>0</th>\n",
       "      <td>HatePolitics</td>\n",
       "      <td>sunyeah</td>\n",
       "      <td>湯元嗎</td>\n",
       "      <td>[黑特] lbj在節目說柯文哲不敢公布</td>\n",
       "      <td>土壤液化區，標題直接打柯文哲不敢公布的秘密\\n\\n結果報告說2002年就完成了，結果抹201...</td>\n",
       "      <td>2016-02-09T23:47:04+08:00</td>\n",
       "      <td>ptt</td>\n",
       "    </tr>\n",
       "    <tr>\n",
       "      <th>1</th>\n",
       "      <td>HatePolitics</td>\n",
       "      <td>chataulait</td>\n",
       "      <td>牛奶貓</td>\n",
       "      <td>Re: [新聞] 希拉蕊民調慘輸 柯林頓爆氣開嗆</td>\n",
       "      <td>: 推 CavendishJr: 希拉蕊選不上了嗎QAQ                  ...</td>\n",
       "      <td>2016-02-09T23:32:22+08:00</td>\n",
       "      <td>ptt</td>\n",
       "    </tr>\n",
       "    <tr>\n",
       "      <th>2</th>\n",
       "      <td>HatePolitics</td>\n",
       "      <td>aitt</td>\n",
       "      <td>喜歡美食與運動(M)</td>\n",
       "      <td>Re: [新聞] 滿意度剩47％ 柯文哲神回:塞車跟總統大選</td>\n",
       "      <td>\\n\\n假若這是旺旺中時做的民調,敢問可信度有多高?\\n你去想想吧,旺旺中時多麼擁馬,挺國民...</td>\n",
       "      <td>2016-02-09T23:15:41+08:00</td>\n",
       "      <td>ptt</td>\n",
       "    </tr>\n",
       "    <tr>\n",
       "      <th>3</th>\n",
       "      <td>HatePolitics</td>\n",
       "      <td>hong1126</td>\n",
       "      <td>小紅哥</td>\n",
       "      <td>[討論] 請問柯黑到底要崩潰到啥時候</td>\n",
       "      <td>\\n\\n怎麼有人從前年的1129崩潰到現在阿\\n\\n實在令人佩服耶~ 都快破崩潰世界紀錄了\\...</td>\n",
       "      <td>2016-02-09T22:49:21+08:00</td>\n",
       "      <td>ptt</td>\n",
       "    </tr>\n",
       "    <tr>\n",
       "      <th>4</th>\n",
       "      <td>HatePolitics</td>\n",
       "      <td>sunyeah</td>\n",
       "      <td>湯元嗎</td>\n",
       "      <td>Re: [討論] 為什麼柯p沒有被稱柯神?</td>\n",
       "      <td>\\n→ kim: 基本上  柯P話少一半  就可以維持形象又沒得黑02/09 22:16\\n...</td>\n",
       "      <td>2016-02-09T22:40:34+08:00</td>\n",
       "      <td>ptt</td>\n",
       "    </tr>\n",
       "  </tbody>\n",
       "</table>\n",
       "</div>"
      ],
      "text/plain": [
       "     media_name from_user_name from_user_nick                           title  \\\n",
       "0  HatePolitics        sunyeah            湯元嗎             [黑特] lbj在節目說柯文哲不敢公布   \n",
       "1  HatePolitics     chataulait            牛奶貓        Re: [新聞] 希拉蕊民調慘輸 柯林頓爆氣開嗆   \n",
       "2  HatePolitics           aitt     喜歡美食與運動(M)  Re: [新聞] 滿意度剩47％ 柯文哲神回:塞車跟總統大選   \n",
       "3  HatePolitics       hong1126            小紅哥              [討論] 請問柯黑到底要崩潰到啥時候   \n",
       "4  HatePolitics        sunyeah            湯元嗎           Re: [討論] 為什麼柯p沒有被稱柯神?   \n",
       "\n",
       "                                             content  \\\n",
       "0  土壤液化區，標題直接打柯文哲不敢公布的秘密\\n\\n結果報告說2002年就完成了，結果抹201...   \n",
       "1  : 推 CavendishJr: 希拉蕊選不上了嗎QAQ                  ...   \n",
       "2  \\n\\n假若這是旺旺中時做的民調,敢問可信度有多高?\\n你去想想吧,旺旺中時多麼擁馬,挺國民...   \n",
       "3  \\n\\n怎麼有人從前年的1129崩潰到現在阿\\n\\n實在令人佩服耶~ 都快破崩潰世界紀錄了\\...   \n",
       "4  \\n→ kim: 基本上  柯P話少一半  就可以維持形象又沒得黑02/09 22:16\\n...   \n",
       "\n",
       "                        time platform  \n",
       "0  2016-02-09T23:47:04+08:00      ptt  \n",
       "1  2016-02-09T23:32:22+08:00      ptt  \n",
       "2  2016-02-09T23:15:41+08:00      ptt  \n",
       "3  2016-02-09T22:49:21+08:00      ptt  \n",
       "4  2016-02-09T22:40:34+08:00      ptt  "
      ]
     },
     "execution_count": 18,
     "metadata": {},
     "output_type": "execute_result"
    }
   ],
   "source": [
    "df1.head()"
   ]
  },
  {
   "cell_type": "code",
   "execution_count": 19,
   "metadata": {
    "collapsed": false
   },
   "outputs": [
    {
     "data": {
      "text/plain": [
       "Index(['media_name', 'from_user_name', 'from_user_nick', 'title', 'content',\n",
       "       'time', 'platform'],\n",
       "      dtype='object')"
      ]
     },
     "execution_count": 19,
     "metadata": {},
     "output_type": "execute_result"
    }
   ],
   "source": [
    "df1.columns"
   ]
  },
  {
   "cell_type": "code",
   "execution_count": 20,
   "metadata": {
    "collapsed": false
   },
   "outputs": [
    {
     "data": {
      "text/html": [
       "<div>\n",
       "<table border=\"1\" class=\"dataframe\">\n",
       "  <thead>\n",
       "    <tr style=\"text-align: right;\">\n",
       "      <th></th>\n",
       "      <th>media_name</th>\n",
       "      <th>from_user_name</th>\n",
       "      <th>from_user_nick</th>\n",
       "      <th>title</th>\n",
       "      <th>content</th>\n",
       "      <th>time</th>\n",
       "    </tr>\n",
       "  </thead>\n",
       "  <tbody>\n",
       "    <tr>\n",
       "      <th>0</th>\n",
       "      <td>HatePolitics</td>\n",
       "      <td>sunyeah</td>\n",
       "      <td>湯元嗎</td>\n",
       "      <td>[黑特] lbj在節目說柯文哲不敢公布</td>\n",
       "      <td>土壤液化區，標題直接打柯文哲不敢公布的秘密\\n\\n結果報告說2002年就完成了，結果抹201...</td>\n",
       "      <td>2016-02-09T23:47:04+08:00</td>\n",
       "    </tr>\n",
       "    <tr>\n",
       "      <th>1</th>\n",
       "      <td>HatePolitics</td>\n",
       "      <td>chataulait</td>\n",
       "      <td>牛奶貓</td>\n",
       "      <td>Re: [新聞] 希拉蕊民調慘輸 柯林頓爆氣開嗆</td>\n",
       "      <td>: 推 CavendishJr: 希拉蕊選不上了嗎QAQ                  ...</td>\n",
       "      <td>2016-02-09T23:32:22+08:00</td>\n",
       "    </tr>\n",
       "    <tr>\n",
       "      <th>2</th>\n",
       "      <td>HatePolitics</td>\n",
       "      <td>aitt</td>\n",
       "      <td>喜歡美食與運動(M)</td>\n",
       "      <td>Re: [新聞] 滿意度剩47％ 柯文哲神回:塞車跟總統大選</td>\n",
       "      <td>\\n\\n假若這是旺旺中時做的民調,敢問可信度有多高?\\n你去想想吧,旺旺中時多麼擁馬,挺國民...</td>\n",
       "      <td>2016-02-09T23:15:41+08:00</td>\n",
       "    </tr>\n",
       "    <tr>\n",
       "      <th>3</th>\n",
       "      <td>HatePolitics</td>\n",
       "      <td>hong1126</td>\n",
       "      <td>小紅哥</td>\n",
       "      <td>[討論] 請問柯黑到底要崩潰到啥時候</td>\n",
       "      <td>\\n\\n怎麼有人從前年的1129崩潰到現在阿\\n\\n實在令人佩服耶~ 都快破崩潰世界紀錄了\\...</td>\n",
       "      <td>2016-02-09T22:49:21+08:00</td>\n",
       "    </tr>\n",
       "    <tr>\n",
       "      <th>4</th>\n",
       "      <td>HatePolitics</td>\n",
       "      <td>sunyeah</td>\n",
       "      <td>湯元嗎</td>\n",
       "      <td>Re: [討論] 為什麼柯p沒有被稱柯神?</td>\n",
       "      <td>\\n→ kim: 基本上  柯P話少一半  就可以維持形象又沒得黑02/09 22:16\\n...</td>\n",
       "      <td>2016-02-09T22:40:34+08:00</td>\n",
       "    </tr>\n",
       "  </tbody>\n",
       "</table>\n",
       "</div>"
      ],
      "text/plain": [
       "     media_name from_user_name from_user_nick                           title  \\\n",
       "0  HatePolitics        sunyeah            湯元嗎             [黑特] lbj在節目說柯文哲不敢公布   \n",
       "1  HatePolitics     chataulait            牛奶貓        Re: [新聞] 希拉蕊民調慘輸 柯林頓爆氣開嗆   \n",
       "2  HatePolitics           aitt     喜歡美食與運動(M)  Re: [新聞] 滿意度剩47％ 柯文哲神回:塞車跟總統大選   \n",
       "3  HatePolitics       hong1126            小紅哥              [討論] 請問柯黑到底要崩潰到啥時候   \n",
       "4  HatePolitics        sunyeah            湯元嗎           Re: [討論] 為什麼柯p沒有被稱柯神?   \n",
       "\n",
       "                                             content  \\\n",
       "0  土壤液化區，標題直接打柯文哲不敢公布的秘密\\n\\n結果報告說2002年就完成了，結果抹201...   \n",
       "1  : 推 CavendishJr: 希拉蕊選不上了嗎QAQ                  ...   \n",
       "2  \\n\\n假若這是旺旺中時做的民調,敢問可信度有多高?\\n你去想想吧,旺旺中時多麼擁馬,挺國民...   \n",
       "3  \\n\\n怎麼有人從前年的1129崩潰到現在阿\\n\\n實在令人佩服耶~ 都快破崩潰世界紀錄了\\...   \n",
       "4  \\n→ kim: 基本上  柯P話少一半  就可以維持形象又沒得黑02/09 22:16\\n...   \n",
       "\n",
       "                        time  \n",
       "0  2016-02-09T23:47:04+08:00  \n",
       "1  2016-02-09T23:32:22+08:00  \n",
       "2  2016-02-09T23:15:41+08:00  \n",
       "3  2016-02-09T22:49:21+08:00  \n",
       "4  2016-02-09T22:40:34+08:00  "
      ]
     },
     "execution_count": 20,
     "metadata": {},
     "output_type": "execute_result"
    }
   ],
   "source": [
    "df1.loc[:,['media_name', 'from_user_name', 'from_user_nick', 'title', 'content',\n",
    "       'time']].head()"
   ]
  },
  {
   "cell_type": "code",
   "execution_count": 21,
   "metadata": {
    "collapsed": false
   },
   "outputs": [],
   "source": [
    "df1.to_csv('ptt_data.csv',encoding=\"utf8\")"
   ]
  },
  {
   "cell_type": "code",
   "execution_count": 24,
   "metadata": {
    "collapsed": false
   },
   "outputs": [
    {
     "name": "stdout",
     "output_type": "stream",
     "text": [
      "/Users/huangming-yi/Google 雲端硬碟/Team_FloodFire/elasticsearch\n"
     ]
    }
   ],
   "source": [
    "cd .."
   ]
  },
  {
   "cell_type": "markdown",
   "metadata": {},
   "source": [
    "# 資料匯入 elasticsearch"
   ]
  },
  {
   "cell_type": "code",
   "execution_count": 30,
   "metadata": {
    "collapsed": true
   },
   "outputs": [],
   "source": [
    "import csv\n",
    "import os\n",
    "from elasticsearch import Elasticsearch\n",
    "from elasticsearch import helpers\n",
    "from elasticsearch.client import IndicesClient"
   ]
  },
  {
   "cell_type": "code",
   "execution_count": 31,
   "metadata": {
    "collapsed": false
   },
   "outputs": [],
   "source": [
    "es = Elasticsearch()\n",
    "es_index=IndicesClient(es)"
   ]
  },
  {
   "cell_type": "code",
   "execution_count": 43,
   "metadata": {
    "collapsed": false
   },
   "outputs": [],
   "source": [
    "properties={\n",
    "'_id':{ 'type': 'string'  },\n",
    "'platform':{ 'type': 'string'  },\n",
    "'content':{ 'type': 'string'  },\n",
    "'uri':{ 'type': 'string'  },\n",
    "'time':{'type':   'date',\n",
    "        'format': 'strict_date_optional_time||epoch_millis'},#\"yyyy-MM-dd||yyyy-MM-dd'T'HH:mm:SSZZ||epoch_millis\"  },\n",
    "'content_language':{ 'type': 'string'  },\n",
    "'comments_count':{ 'type': 'integer'  },\n",
    "'event':{ 'type': 'string'  },\n",
    "'favorite_count':{ 'type': 'integer'  },\n",
    "'from_parent_id':{ 'type': 'string'  },## 用 string 即可(原設計 array)，參考 https://goo.gl/xw89hR\n",
    "'media_id':{ 'type': 'string'  },\n",
    "'media_name':{ 'type': 'string'  },\n",
    "'media_like_count':{ 'type': 'integer'  },\n",
    "'from_user_category':{ 'type': 'string'  },\n",
    "'from_user_id':{ 'type': 'string'  },\n",
    "'from_user_like_count':{ 'type': 'integer'  },\n",
    "'from_user_language':{ 'type': 'string'  },\n",
    "'from_user_location':{ 'type': 'string'  },\n",
    "'from_user_name':{ 'type': 'string'  },\n",
    "'from_user_nick':{ 'type': 'string'  },\n",
    "'from_user_realname':{ 'type': 'string'  },\n",
    "'geo':{ 'type': 'geo_point'  },\n",
    "'twi_hashtags':{ 'type': 'string'  },# array\n",
    "'fb_hashtags':{ 'type': 'string'  },# array\n",
    "'like_count':{ 'type': 'integer'  },\n",
    "'post_type':{ 'type': 'string'  },\n",
    "'share_target_uri':{ 'type': 'string'  },# array\n",
    "'share_target_title':{ 'type': 'string'  },# array\n",
    "'shared_domain':{ 'type': 'string'  },\n",
    "'shared_initial_uri':{ 'type': 'string'  },\n",
    "'shared_title':{ 'type': 'string'  },# array\n",
    "'shared_uri':{ 'type': 'string'  },# array\n",
    "'shares_count':{ 'type': 'integer'  },\n",
    "'status_type':{ 'type': 'string'  },\n",
    "'story_tag':{ 'type': 'string'  },#\n",
    "'tags_id':{ 'type': 'string'  },#\n",
    "'tags_name':{ 'type': 'string'  },#\n",
    "'title':{ 'type': 'string'  },\n",
    "'update_time':{'type':   'date',\n",
    "               'format': 'strict_date_optional_time||epoch_millis'  }\n",
    "                }"
   ]
  },
  {
   "cell_type": "code",
   "execution_count": 44,
   "metadata": {
    "collapsed": true
   },
   "outputs": [],
   "source": [
    "def CSVimportES(indexName,typeName,fileName):\n",
    "    if os.path.isfile(fileName) == False:\n",
    "        print (\"The file dose not exist.\")\n",
    "    if es_index.exists(indexName) == False:\n",
    "          es.indices.create(\n",
    "        index=\"platform\",\n",
    "        body={\n",
    "          'settings': {\n",
    "            'number_of_shards': 5,\n",
    "            'number_of_replicas': 1,\n",
    "            'analysis': {\n",
    "              \"analyzer\":{\"default\":{\"type\": \"smartcn\"}}\n",
    "              }\n",
    "            },\n",
    "          'mappings':{\n",
    "             'facebook':{\n",
    "                'properties':properties\n",
    "                }   \n",
    "            }  \n",
    "          },\n",
    "        ignore=400\n",
    "    )\n",
    "    datas=[]\n",
    "    with open(fileName,'r+') as p_file:\n",
    "        raw_data=csv.DictReader(p_file)\n",
    "        for item in raw_data:\n",
    "            datas.append({\"_index\":indexName,\"_type\":typeName,\"_source\":item})\n",
    "    ttest=helpers.bulk(es,datas,chunk_size=100)\n",
    "    return (ttest)"
   ]
  },
  {
   "cell_type": "code",
   "execution_count": 46,
   "metadata": {
    "collapsed": false
   },
   "outputs": [
    {
     "data": {
      "text/plain": [
       "(603, [])"
      ]
     },
     "execution_count": 46,
     "metadata": {},
     "output_type": "execute_result"
    }
   ],
   "source": [
    "CSVimportES('platform','ptt','data/ptt_data.csv')"
   ]
  },
  {
   "cell_type": "code",
   "execution_count": 47,
   "metadata": {
    "collapsed": false
   },
   "outputs": [
    {
     "data": {
      "text/plain": [
       "{'platform': {'mappings': {'ptt': {'properties': {'': {'type': 'string'},\n",
       "     'content': {'type': 'string'},\n",
       "     'from_user_name': {'type': 'string'},\n",
       "     'from_user_nick': {'type': 'string'},\n",
       "     'media_name': {'type': 'string'},\n",
       "     'platform': {'type': 'string'},\n",
       "     'time': {'format': 'strict_date_optional_time||epoch_millis',\n",
       "      'type': 'date'},\n",
       "     'title': {'type': 'string'}}}}}}"
      ]
     },
     "execution_count": 47,
     "metadata": {},
     "output_type": "execute_result"
    }
   ],
   "source": [
    "es_index.get_mapping(index=\"platform\",doc_type=\"ptt\")"
   ]
  },
  {
   "cell_type": "markdown",
   "metadata": {},
   "source": [
    "# 示範查詢"
   ]
  },
  {
   "cell_type": "code",
   "execution_count": 48,
   "metadata": {
    "collapsed": true
   },
   "outputs": [],
   "source": [
    "from elasticsearch import Elasticsearch\n",
    "from elasticsearch.client import IndicesClient\n",
    "es = Elasticsearch([{'host': 'localhost', 'port': 9200}])\n",
    "es_index=IndicesClient(es)"
   ]
  },
  {
   "cell_type": "markdown",
   "metadata": {},
   "source": [
    "## 搜尋後顯示前幾筆"
   ]
  },
  {
   "cell_type": "code",
   "execution_count": 52,
   "metadata": {
    "collapsed": true
   },
   "outputs": [],
   "source": [
    "result= es.search(index=\"platform\",doc_type=\"ptt\",body={\"size\":3,\"query\":{\"match\":{u\"content\":u\"柯\"}}})"
   ]
  },
  {
   "cell_type": "code",
   "execution_count": 53,
   "metadata": {
    "collapsed": false
   },
   "outputs": [
    {
     "data": {
      "text/plain": [
       "{'_shards': {'failed': 0, 'successful': 5, 'total': 5},\n",
       " 'hits': {'hits': [{'_id': 'AVLpYqbcAFzOQVlagT7t',\n",
       "    '_index': 'platform',\n",
       "    '_score': 0.36436754,\n",
       "    '_source': {'': '352',\n",
       "     'content': '1.柯Ｐ當市長\\n  柯Ｐ:我開除幾個局長就可以解決了\\n\\n2.柯Ｐ當校長\\n  柯Ｐ:我開除幾個主任就可以解決了\\n\\n3.柯Ｐ當主任\\n  柯Ｐ:我開除幾個組長就可以解決了\\n\\n4.柯Ｐ當總統\\n  柯Ｐ:我開除幾個縣市長就可以解決了\\n\\n5.柯Ｐ當PTT站長\\n  柯Ｐ:我開除幾個版主就可以解決了\\n\\n                              from《你不可不知的~柯文哲治國良方》\\n\\n\\n--',\n",
       "     'from_user_name': 'iammyfriend',\n",
       "     'from_user_nick': '台中梁朝偉',\n",
       "     'media_name': 'Gossiping',\n",
       "     'platform': 'ptt',\n",
       "     'time': '2016-02-03T11:10:02+08:00',\n",
       "     'title': 'Re: [新聞] 「交通沒救了?」柯文哲:我再開除幾個局長'},\n",
       "    '_type': 'ptt'},\n",
       "   {'_id': 'AVLpYqP7AFzOQVlagT23',\n",
       "    '_index': 'platform',\n",
       "    '_score': 0.35560098,\n",
       "    '_source': {'': '42',\n",
       "     'content': '兩個都有亞斯伯格的比\\n\\n個人感覺陳定南啦\\n當政治人物當到變窮\\n逸事神績一堆、本人也比較低調\\n以一生來看，真的不是在作秀\\n\\n柯柯柯則是目前全台最火政治人物\\n柯柯柯有機會超越總舵主嘛\\n有沒有柯粉、蚵黑來工跨麥？\\n\\n--',\n",
       "     'from_user_name': 'nanami56',\n",
       "     'from_user_nick': 'I 佛 U',\n",
       "     'media_name': 'HatePolitics',\n",
       "     'platform': 'ptt',\n",
       "     'time': '2016-02-08T14:57:33+08:00',\n",
       "     'title': '[討論] 柯柯柯能超越陳定南封神嘛？'},\n",
       "    '_type': 'ptt'},\n",
       "   {'_id': 'AVLpYqglAFzOQVlagT9B',\n",
       "    '_index': 'platform',\n",
       "    '_score': 0.35546473,\n",
       "    '_source': {'': '436',\n",
       "     'content': '柯粉黑B嘴\\n柯黑也B嘴\\n\\n不然你們要讓勝文上？\\n\\n懂？\\n\\n--',\n",
       "     'from_user_name': 'plsmaop',\n",
       "     'from_user_nick': 'plsmaop',\n",
       "     'media_name': 'HatePolitics',\n",
       "     'platform': 'ptt',\n",
       "     'time': '2016-02-02T21:35:32+08:00',\n",
       "     'title': 'Re: [討論] 為何柯粉越來越像9.2'},\n",
       "    '_type': 'ptt'}],\n",
       "  'max_score': 0.36436754,\n",
       "  'total': 507},\n",
       " 'timed_out': False,\n",
       " 'took': 18}"
      ]
     },
     "execution_count": 53,
     "metadata": {},
     "output_type": "execute_result"
    }
   ],
   "source": [
    "result"
   ]
  },
  {
   "cell_type": "markdown",
   "metadata": {},
   "source": [
    "## 看查詢數量\n",
    "依時間排序"
   ]
  },
  {
   "cell_type": "code",
   "execution_count": 56,
   "metadata": {
    "collapsed": false
   },
   "outputs": [
    {
     "data": {
      "text/plain": [
       "{'_shards': {'failed': 0, 'successful': 5, 'total': 5}, 'count': 34}"
      ]
     },
     "execution_count": 56,
     "metadata": {},
     "output_type": "execute_result"
    }
   ],
   "source": [
    "es.count(index='platform',doc_type='ptt', body={\"query\":{\"match_phrase\":{\"_all\":u\"柯市\"}}, \"sort\": {\"time\": { \"order\": \"desc\" }}})"
   ]
  },
  {
   "cell_type": "code",
   "execution_count": 81,
   "metadata": {
    "collapsed": true
   },
   "outputs": [],
   "source": [
    "search_name=\"柯市\""
   ]
  },
  {
   "cell_type": "code",
   "execution_count": 83,
   "metadata": {
    "collapsed": false
   },
   "outputs": [],
   "source": [
    "results = es.search(index='platform',doc_type='ptt', body={\"query\":{\"match_phrase\":{\"_all\":search_name}}, \"sort\": {\"time\": { \"order\": \"desc\" }}})"
   ]
  },
  {
   "cell_type": "code",
   "execution_count": 84,
   "metadata": {
    "collapsed": false
   },
   "outputs": [
    {
     "data": {
      "text/plain": [
       "{'_shards': {'failed': 0, 'successful': 5, 'total': 5},\n",
       " 'hits': {'hits': [{'_id': 'AVLpYqP7AFzOQVlagT2s',\n",
       "    '_index': 'platform',\n",
       "    '_score': None,\n",
       "    '_source': {'': '31',\n",
       "     'content': '※ 引述《StevePerry (StevePerry)》之銘言：\\n: 苦勞網\\n: 柯P別虛偽，落實性交易合法化！\\n: 文／日日春關懷互助協會（蕭怡婷、郭姵妤、陳虹霈、郭子亮）\\n: 日日春近日聲援台北流鶯Miko數次行動，要求柯市長落實性交易合法化，市長卻推給執\\n行\\n: 取締非法流鶯的台北市警察局回應，並表示：「針對性交易合法化，社會需要充分討論\\n，\\n: 而市府對此也沒有明確的想法，目前沒有考慮設置。」讓我們看到號稱「改變台灣，從\\n首\\n: 都開始」的柯P模式，碰上爭議的「性交易地點空間合法化」，卻是虛偽又消極作為，\\n根\\n: 本迴避台北市早已春城無處不飛花的現實。\\n: 性交易全面非法 惡法苦果流鶯吞\\n: 2011年《社會秩序維護法》修法後，台灣早已有性交易合法法源，地方政府卻沒有落實\\n性\\n: 交易地點設置的政策，在沒有合法空間的不良政策結構下，最被剝奪的就是底層性工作\\n者\\n: ——流鶯的站街候客空間。\\n: 《社維法》修法同年，台北縣（現新北市）掃蕩豆干厝私娼寮，部份小姐流轉到萬華站\\n街\\n: ，在流鶯Miko的執業房附近也陸續開設越來越多「掛羊頭賣狗肉」的養生館。加上警察\\n不\\n: 斷取締、小姐增加、站街空間限縮等，都導致競爭更加激烈。為了謀求生路，Miko於去\\n年\\n: （2015）10月在網路論壇刊登服務訊息，卻遭到昆明派出所警員釣魚，以《兒童及少年\\n性\\n: 交易防制條例》第29條起訴，最高可能面臨3年以下徒刑，併科100萬以下罰金。這是從\\n國\\n: 民黨郝龍斌執政再到柯P上任一年來，共同製造出來的惡果！\\n: https://goo.gl/8unWkl\\n別傻了好嗎?\\n就算柯p不虛偽，但這整個國家除了柯p以外，有百分之九十九的人是虛偽的\\n柯p就算再有能耐也對抗不了二千多萬人\\n所以重點不在柯p會不會虛偽，而是整個社會就是虛偽的\\n想解決這個問題就要解決其他百分之九十九的臺灣人\\n不然柯p只會被媒體和柯黑還有議會霸凌罷了\\n\\n\\n--',\n",
       "     'from_user_name': 'mstory',\n",
       "     'from_user_nick': 'm的故事',\n",
       "     'media_name': 'Gossiping',\n",
       "     'platform': 'ptt',\n",
       "     'time': '2016-02-09T08:12:23+08:00',\n",
       "     'title': 'Re: [新聞] 柯P別虛偽，落實性交易合法化！'},\n",
       "    '_type': 'ptt',\n",
       "    'sort': [1454976743000]},\n",
       "   {'_id': 'AVLpYqP7AFzOQVlagT2x',\n",
       "    '_index': 'platform',\n",
       "    '_score': None,\n",
       "    '_source': {'': '36',\n",
       "     'content': '        柯文哲表示:千錯萬錯都不是我的錯\\n\\n        台北市就是從復興南北路施工開始嚴重塞車的\\n        早上七點到九點上班時間塞車  也是因為尾牙的關係嗎?  真是人一綠  腦堪慮\\n\\n1.新聞網址:\\n\\n        http://www.chinatimes.com/newspapers/20160206000196-260102\\n\\n2.新聞來源︰ \\n\\n        中國時報\\n\\n3.新聞內容︰\\n\\n滿意度剩47％ 柯文哲神回：塞車跟總統大選有關\\n2016年02月06日 04:10 陳芃／台北報導\\n\\n根據旺旺中時民調中心最新調查，台北市長柯文哲滿意度跌到47.7％，創上任後新低。柯\\n文哲昨表示，同意民調結果和近期北市交通塞爆有關；他說，要條條列出錯誤，反省施政\\n；但卻又強調，台北會塞車，其實與「總統大選」有關係，因這造成許多公司行號，都將\\n尾牙辦在投票日後，這也是塞車因素。\\n\\n民調結果受交通影響\\n\\n前市長郝龍斌昨批評柯文哲是以「爭功諉過」的態度在治理市政，希望柯市長能「打開耳\\n朵、閉起嘴巴」。對此，柯文哲淡定說：「所有批評，我都會認真地聽。」\\n\\n根據旺旺中時民調中心的民調結果，柯文哲的不滿意度上升到3成左右，更有高達6成民眾\\n認為台北市塞車問題嚴重。柯近日在電視節目專訪，為「三橫三縱」自行車道同時施工影\\n響交通道歉，似和交通局長鍾慧諭認為施工非塞車主因的態度不同。\\n\\n郝龍斌盼柯閉起嘴巴\\n\\n對此，柯文哲昨天出席恩友教會圍爐活動時回應，任何事件都不太可能受單一因素影響，\\n塞車從天氣、油價下降，甚至和1月16日的投票日都有關係，因為選舉時間晚，尾牙活動\\n幾乎都是在投票日之後才辦。\\n\\n柯文哲還說，將來面對極端氣候，要有能力應付「突然很多不利因素加起來」的情況；這\\n次是從1月22日忠孝橋車禍後，出現一連串狀況，這也給他很好的反省機會，市府應該在\\n問題發生時，就能啟動一個機制處理。\\n\\n要了解民怨緊急處理\\n\\n面對民調跌落到47％，柯文哲表示跟最近交通還是有關係，面對問題是解決問題的第一步\\n，要了解民怨所在、優先緊急處理。\\n\\n由於柯文哲曾說民調低於65％就會「收斂一點」，接下來是否調整施政節奏？他說會反省\\n，先把這次犯的錯條條列出來，可先解決的先解決，有時候往前衝也要轉過來「收拾善後\\n」。\\n\\n昨開始有民眾返鄉，柯文哲說，交通大概從昨天就會改善，為防止恢復上班出現問題，將\\n成立交通處理小組，針對這次事件作檢討。\\n\\n\\n\\n--\\n他叫以前的警務處處長趙剛\"家屬要求 速辦\" 很快 我弟弟後事辦完十多天就調回來了\\n省長還有打電話來關心 所以 我們很感念省長 只要省長出來選舉 我們家裡一定義不容辭\\n二十年後 我們一家又和省長重逢了 弟弟 安息吧 省長把我們家照顧得很好\\n他答應我們的事 真的說到做到 https://www.youtube.com/watch?v=eWOHbcgFVEI\\n浴火英雄陳俊宏 台灣人不會忘記你 宋省長 我們一家永遠支持你\\n我可以講我的願望嗎? 我希望 明年一月十六 你當總統\\n\\n--',\n",
       "     'from_user_name': 'JamesSoong',\n",
       "     'from_user_nick': 'Von Miller',\n",
       "     'media_name': 'HatePolitics',\n",
       "     'platform': 'ptt',\n",
       "     'time': '2016-02-08T21:38:34+08:00',\n",
       "     'title': '[新聞] 滿意度剩47％ 柯文哲神回:塞車跟總統大選'},\n",
       "    '_type': 'ptt',\n",
       "    'sort': [1454938714000]},\n",
       "   {'_id': 'AVLpYqP7AFzOQVlagT2y',\n",
       "    '_index': 'platform',\n",
       "    '_score': None,\n",
       "    '_source': {'': '37',\n",
       "     'content': '※ 引述《popgsct (超級喜歡撿石頭)》之銘言：\\n: [ETtoday]\\n: 公布北市土壤液化地點？\\u3000柯文哲證實：大約半年到1年\\n: 東森新聞記者陳志文、林彥佑／台北報導\\n: 台北市長柯文哲大年初一（8日）和初二（9日）總共要拜訪22間宮廟，行程也是嗡嗡嗡，\\n: 但由於台南震災，柯文哲取消發送福袋，只有上香祭祀，幫忙祈福；對於過年期間台北市\\n: 重要的拆除忠孝橋工程，柯文哲也信心滿滿地說進度超前了。\\n: 上香祈福，柯文哲因為台南震災，初一初二22個廟宇滿檔行程，全都取消發送福袋。柯文\\n: 哲表示，「除了替南台灣的災民祈福，保佑他們以外，也祈求台北市政市政順利。」\\n: 南部的大地震也引起了危機感，台北市的土壤液化比較嚴重的地點，市府有考慮公布嗎？\\n: 柯文哲表示，「土壤液化本來我們就有一個……當時是有一個全市的調查，因為我們事實\\n: 上過去有各個局的資料，那工務局事實上有一個計畫，把整個台北市土壤液化狀況做個總\\n: 整理，當時工務局給我報告，全部做完，大概是半年或一年，我想正在進行當中。」\\n: 除了地震安全相關議題，台北市在過年期間的大工程，就是忠孝橋拆遷工程，雖然之前因\\n: 為自行車道工程造成北市大塞車，也讓柯市長傷腦筋，但這回的拆除忠孝橋可就顯得比較\\n: 有信心。柯文哲說，「到現在為止，工程還滿順利的，應該會……本來是預計8天，我看\\n: 應該會提早，這樣也好，讓我們有時間去做一下準備，（記者：提早是7天或6天？）這不\\n: 曉得，工程的東西就不要做臆測。」儘管說進度超前，但不願說出時間，新的一年，對於\\n: 交通問題，柯P似乎有把握多了。\\n:  http://www.ettoday.net/news/20160208/645755.htm#ixzz3zZapvEI7\\n: 備註:\\n: 房價要繼續跌惹嗎？\\n\\nhttp://news.tvbs.com.tw/old-news.html?nid=553996\\n\\n加速都更\\u3000連憂北市土地液化地震4千屋倒\\n記者吳茜洋/ 台北報導\\n2014/11/11 21:04(更新時間：2014/11/16 13:06)\\n\\n前內政部長李鴻源，擔任台北市長候選人連勝文的市政顧問，陪同公布都更政策時，\\n\\n李鴻源提到台北市有5個區，因為房屋老舊加上土壤液化，在發生6級地震時，會有4\\n\\n千戶房屋倒塌，引發氣爆，100萬人可能有危險，因此連勝文的防災型都更非常重要。\\n\\n\\n台北市長候選人連勝文：「超過50年的房子最少3萬多戶。」\\n\\n\\n連勝文點出台北市房屋老舊問題，強打自己的防災型都更，他的市政顧問前內政部長\\n\\n李鴻源，一開口更是帶來震撼消息。\\n\\n\\n前內政部長李鴻源：「我們一些比較老的地區，假如一個6級地震，它就是因為土壤\\n\\n液化，它會變成擴大成一個7級地震，我們會倒掉將近4千戶的房子，然後地震就會引\\n\\n起氣爆。」\\n\\n\\n李鴻源說，危險區域在士林、北投、大同、中山、萬華5個區，他估計大概住了100\\n\\n萬人，一度怕引起糾紛，不想點出地點，一度賣關子，要連勝文當選再說，表示自己\\n\\n會擔任監督角色，同時支持連勝文提出的都更大方針。\\n\\n\\n室內一坪換一坪，走樓梯換搭電梯，照顧原屋主，利用公辦方式推動大街廓都更，提\\n\\n高容積，用公共設施增加公營住宅存量，只租不賣，照顧青年，至於釘子戶也有解套\\n\\n方法，原本600坪才能都更的條件，放寬成150坪。\\n\\n\\n連勝文：「不好意思，還好，我以為是我媽(打來)。」\\n\\n\\n就這麼巧，連勝文談都更政策這天，主動提到母親連方瑀，前立委郭正亮說，連勝文\\n\\n想把都更問題解決，得先看看南陽街的都更爭議，有居民抱怨問題卡在地主仁濟院，\\n\\n而連方瑀是仁濟醫院的董事，郭正亮認為連家必須表態。\\n\\n\\n連勝文：「我的母親擔任仁濟醫院的公益董事，這是一個公益的法人慈善機構，我母\\n\\n親的工作就是一年去開2次會，那也沒有領薪水、沒有賺錢，我沒有辦法評論個別的\\n\\n機構(仁濟院)是否要參與都更。」\\n\\n\\n連勝文若當選，是為想都更的民眾，跟單位把平台創好，剩下的他沒辦法評論，但是\\n\\n像南陽街這個例子，是市民跟大地主的矛盾，若真的成了市長，還能置身事外嗎？\\n\\n\\n\\n\\n\\n李鴻源是之前就有講土地液化的問題了\\n\\n士林、北投、大同、中山、萬華這5個區，老房子真的很多\\n\\n真的一震，那不得了啦，一定比台南還嚴重吧\\n\\n--',\n",
       "     'from_user_name': 'YesHi',\n",
       "     'from_user_nick': '',\n",
       "     'media_name': 'Gossiping',\n",
       "     'platform': 'ptt',\n",
       "     'time': '2016-02-08T19:17:36+08:00',\n",
       "     'title': 'Re: [新聞] 公布北市土壤液化地點？\\u3000柯文哲證實：大'},\n",
       "    '_type': 'ptt',\n",
       "    'sort': [1454930256000]},\n",
       "   {'_id': 'AVLpYqP7AFzOQVlagT20',\n",
       "    '_index': 'platform',\n",
       "    '_score': None,\n",
       "    '_source': {'': '39',\n",
       "     'content': '[ETtoday]\\n\\n公布北市土壤液化地點？\\u3000柯文哲證實：大約半年到1年\\n\\n東森新聞記者陳志文、林彥佑／台北報導\\n\\n台北市長柯文哲大年初一（8日）和初二（9日）總共要拜訪22間宮廟，行程也是嗡嗡嗡，\\n但由於台南震災，柯文哲取消發送福袋，只有上香祭祀，幫忙祈福；對於過年期間台北市\\n重要的拆除忠孝橋工程，柯文哲也信心滿滿地說進度超前了。\\n\\n上香祈福，柯文哲因為台南震災，初一初二22個廟宇滿檔行程，全都取消發送福袋。柯文\\n哲表示，「除了替南台灣的災民祈福，保佑他們以外，也祈求台北市政市政順利。」\\n\\n南部的大地震也引起了危機感，台北市的土壤液化比較嚴重的地點，市府有考慮公布嗎？\\n柯文哲表示，「土壤液化本來我們就有一個……當時是有一個全市的調查，因為我們事實\\n上過去有各個局的資料，那工務局事實上有一個計畫，把整個台北市土壤液化狀況做個總\\n整理，當時工務局給我報告，全部做完，大概是半年或一年，我想正在進行當中。」\\n\\n除了地震安全相關議題，台北市在過年期間的大工程，就是忠孝橋拆遷工程，雖然之前因\\n為自行車道工程造成北市大塞車，也讓柯市長傷腦筋，但這回的拆除忠孝橋可就顯得比較\\n有信心。柯文哲說，「到現在為止，工程還滿順利的，應該會……本來是預計8天，我看\\n應該會提早，這樣也好，讓我們有時間去做一下準備，（記者：提早是7天或6天？）這不\\n曉得，工程的東西就不要做臆測。」儘管說進度超前，但不願說出時間，新的一年，對於\\n交通問題，柯P似乎有把握多了。\\n\\n\\n http://www.ettoday.net/news/20160208/645755.htm#ixzz3zZapvEI7\\n\\n備註:\\n\\n房價要繼續跌惹嗎？\\n\\n--',\n",
       "     'from_user_name': 'popgsct',\n",
       "     'from_user_nick': '超級喜歡撿石頭',\n",
       "     'media_name': 'Gossiping',\n",
       "     'platform': 'ptt',\n",
       "     'time': '2016-02-08T19:02:12+08:00',\n",
       "     'title': '[新聞] 公布北市土壤液化地點？\\u3000柯文哲證實：大'},\n",
       "    '_type': 'ptt',\n",
       "    'sort': [1454929332000]},\n",
       "   {'_id': 'AVLpYqP7AFzOQVlagT3Q',\n",
       "    '_index': 'platform',\n",
       "    '_score': None,\n",
       "    '_source': {'': '67',\n",
       "     'content': '柯P上任一年 台北「改變成真」？\\n\\nhttp://www.chinatimes.com/realtimenews/20160207001496-260407\\n\\n台北市長柯文哲上任剛滿一年沒多久，雷厲風行推動了許多政策。去年台北市政府的新年\\n春聯是「改變成真」、「萬象更新」，有網友羅列「市區塞車」、「颱風喝黃泥水」、「\\n河濱公園堆泥巴」，諷刺台北市真的「改變成真」。\\n\\n台北市政府去年將柯文哲競選口號「改變成真」製成春聯，臉書「公民1495行動聯盟」及\\n、「你這麼好騙，你家裡人知道嗎？」粉絲頁，都以春聯「改變成真」、「萬象更新」P\\n圖，諷刺台北市真的「改變成真」。\\n\\n引起民怨的「改變成真」部分有台北市再現大塞車、颱風喝黃泥水、颱風走後路樹、淤泥\\n清運時間拉很長等。北投網友留言「北投市民超有感，從郝會修路市長，變成現在天天時\\n時刻刻每分每秒都在修，我真的不太懂，是颱風吹垮陽明山地基了嗎?」\\n\\n柯文哲上任後推動很多新政策，有的立意良善，也有的讓民眾摸不著頭腦。例如\\n\\n「拆除忠孝西路公車專用道」:柯文哲上任後第一件事就是拆除頻頻引起民怨的「忠孝西\\n路公車專用道」，雷厲風行上任首天12月25日深夜就開拆，網路一片好評，許多人到場朝\\n聖拍照，還撿拆下的石頭回去做紀念。\\n\\n「自己的輓聯自己印」:為了環保，且認為公帑花在印製輓聯、喜幛太浪費。柯P提出「自\\n己的輓聯自己印」，解聘秘書處兩位繕寫輓聯的人員。稱議員有需要，市府可以上網提供\\n制式版本，由索取者自費印製，或採電子輓聯，省錢又環保。此政策有人拍手叫好，也有\\n人覺得不夠溫暖。\\n\\n「行動派出所」:柯P提出若裁撤北市96個派出所，一年可省下4億7000萬元。去年7月「行\\n動派出所」試辦上路，5輛行動派出所警備車，每車投入約百萬元經費改裝。然而因原本\\n受理報案的主要功能，並未達到預期成效，反而成為民眾問路、代保管物品及參觀拍照的\\n景點，警界及民眾普遍認為浪費警力又效率不高。試辦4個月後便走入歷史，改名「機動\\n派出所」。\\n\\n「颱風過後北市喝黃泥水」:去年8月蘇迪勒颱風夾帶豪雨，導致供應大台北地區的水源濁\\n度驟增，颱風過後幾天，北市引以為豪全台水質第一的自來水變黃泥水，賣場出現搶購瓶\\n裝水，一水難求情況，洗水塔業績暴增，為北市首見。市長愛妻陳佩琪在臉書自曝，先生\\n颱風天整天在家吃飯，引發喧然大波，無法置信市長颱風天「躲在豪宅清冰箱」，也讓陳\\n佩琪關臉書至今。\\n\\n「交通塞爆!」:三橫三縱自行車道路網涵蓋市區重要幹道，同時動工讓北市許多主要幹道\\n非尖峰時間都大塞車，有議員憤怒過馬路竟等7個90秒紅燈。北市塞車也讓人氣頗旺的柯\\n文哲滿意度跌到47.7％，創上任後新低。但柯市長對塞車有特殊見解，強調「我犯的錯就\\n是同時動工」後，又提出台北會塞車，其實與「總統大選」有關係，因這造成許多公司行\\n號，都將尾牙辦在投票日後。\\n\\n--',\n",
       "     'from_user_name': 'lovea',\n",
       "     'from_user_nick': 'lovea',\n",
       "     'media_name': 'Gossiping',\n",
       "     'platform': 'ptt',\n",
       "     'time': '2016-02-07T17:28:29+08:00',\n",
       "     'title': '[新聞] 柯P上任一年 台北「改變成真」？'},\n",
       "    '_type': 'ptt',\n",
       "    'sort': [1454837309000]},\n",
       "   {'_id': 'AVLpYqT4AFzOQVlagT3z',\n",
       "    '_index': 'platform',\n",
       "    '_score': None,\n",
       "    '_source': {'': '102',\n",
       "     'content': '如果明天新聞還是柯文哲\\n\\n\\n要煩惱的就是我們了\\n\\n怎麼會有這麼奇扒的新聞媒體\\n\\n--',\n",
       "     'from_user_name': 'l23l23',\n",
       "     'from_user_nick': '喔',\n",
       "     'media_name': 'HatePolitics',\n",
       "     'platform': 'ptt',\n",
       "     'time': '2016-02-06T04:24:06+08:00',\n",
       "     'title': '[黑特] 不用煩惱柯市長了'},\n",
       "    '_type': 'ptt',\n",
       "    'sort': [1454703846000]},\n",
       "   {'_id': 'AVLpYqT4AFzOQVlagT4O',\n",
       "    '_index': 'platform',\n",
       "    '_score': None,\n",
       "    '_source': {'': '129',\n",
       "     'content': '1.媒體來源:\\nUDN\\n\\n2.完整新聞標題:\\n郝批柯：閉起嘴巴 尊重專業\\n\\n3.完整新聞內文:\\n台北市道路交通塞到爆，市府面對問題手足無措，台北市長柯文哲昨天認錯，但把矛頭指\\n向前市長郝龍斌。對此，郝龍斌上午說，柯文哲應該學習偶爾閉起嘴巴，打開耳朵，尊重\\n局處的專業意見，不應用爭功諉過的特質治理市政。\\n\\n郝龍斌並表示，「三橫三縱」造成北市交通大打結，是因為不該全面施工。一年前，他曾\\n說柯文哲最大特質是爭功諉過，柯上任一年多了，還是用這樣的特質治理城市，只要出現\\n的問題，就推給他，好的政績就列為柯文哲新政。\\n\\n郝龍斌說，柯文哲很會行銷，但再會行銷，人民生活的感受，才是真實的。柯文哲應該學\\n習偶爾閉起嘴巴，打開耳朵，尊重居處的專業意見，不要辜負台北市民的期待。\\n\\n郝辦發言人游淑慧說，郝市府八年期間，台北市也一直有捷運施工和人行道拓寬工程，但\\n為何沒有造成最近的交通亂象，就如同柯市長所坦承的錯誤，塞車是同時施工和交管沒做\\n好所造成。\\n\\n游淑慧也說，柯市長上任後，用自己的認知，任意改變警察的勤務，先是學校殺童案件後\\n，恢復護童專案，後來行動派出所，又證明勞民傷財，最近的交通亂像，也一定程度和他\\n改變警察勤務有關。\\n\\n游淑慧進一步指出，三橫三縱政策，不管是否為郝制定的，但郝任內並未施工，柯市長上\\n任後，仍然有很大的政策調整權，且城市推動自行車相關政策，是正確的政策，郝推動的\\nYoubike就很成功，政策方向和執行方式，本來就都需求尊重專業，所有環節都沒辦法憑\\n一個非專業的人自我想像。\\n\\n\\n\\n\\n4.完整新聞連結 (或短網址):\\nhttp://tinyurl.com/zbvy42z\\n\\n5.備註:\\n※ 一個人一天只能張貼一則新聞，被刪或自刪也算額度內，超貼者水桶，請注意\\n\\n--',\n",
       "     'from_user_name': 'Ma19is5566',\n",
       "     'from_user_nick': '',\n",
       "     'media_name': 'Gossiping',\n",
       "     'platform': 'ptt',\n",
       "     'time': '2016-02-05T21:50:35+08:00',\n",
       "     'title': '[新聞] 郝批柯：閉起嘴巴 尊重專業'},\n",
       "    '_type': 'ptt',\n",
       "    'sort': [1454680235000]},\n",
       "   {'_id': 'AVLpYqT4AFzOQVlagT4Q',\n",
       "    '_index': 'platform',\n",
       "    '_score': None,\n",
       "    '_source': {'': '131',\n",
       "     'content': '其實台北公車要不要漲，從來不是柯文哲一個人說了算呀。\\n\\n理由很簡單，大台北市區公車當中，有一些是「新北市」管的，例如八字頭，大部分的七\\n字頭，部分九字頭還有一些顏色系列的捷運接駁公車，這部分其實一般乘客不是那麼清楚\\n。由於新北市長三週前才銷假上班，這部分當然要等他搞清楚狀況，並和柯市長協調後才\\n能定案呀！\\n\\n當然，台北市轄公車如果現在自己宣布漲價也是可以的，不過如果這樣，那些和新北市轄\\n路線有競爭關係的台北市轄路線會受負面影響XD\\n\\n--',\n",
       "     'from_user_name': 'agantw',\n",
       "     'from_user_nick': '←高級鍵盤七逃郎',\n",
       "     'media_name': 'Gossiping',\n",
       "     'platform': 'ptt',\n",
       "     'time': '2016-02-05T21:31:31+08:00',\n",
       "     'title': 'Re: [新聞] 柯拍板公車票緩漲 司機釀停駛'},\n",
       "    '_type': 'ptt',\n",
       "    'sort': [1454679091000]},\n",
       "   {'_id': 'AVLpYqT4AFzOQVlagT4X',\n",
       "    '_index': 'platform',\n",
       "    '_score': None,\n",
       "    '_source': {'': '138',\n",
       "     'content': '郝龍斌批柯文哲：爭功諉過 應學會閉嘴\\n\\n聯合晚報 記者程平╱即時報導\\n\\n台北市塞到爆，民怨重創柯市府。台北市長柯文哲昨天在接受電子媒體專訪認錯，但也把\\n矛頭指向前市長郝龍斌，指最初的計畫是在郝龍斌時代所訂定。郝龍斌今天在受訪時說，\\n柯文哲用「爭功諉過」的特質治理市政，但應該學習偶爾閉起嘴巴，打開耳朵，尊重局處\\n的專業意見。\\n\\n郝龍斌認為，「三橫三縱」造成北市交通大打結，主要是因為不該全面施工。郝龍斌說，\\n一年前，他曾說柯市長最大的特質就是「爭功諉過」，柯上任已經一年多了，還是用這樣\\n的特質在治理城市，只要出現的問題，就推給他，而好的政績就列為柯P新政。\\n\\n郝龍斌並說，他知道柯市長很會行銷，但再會行銷，人民生活的感受，才是真實的。郝龍\\n斌建議，柯市長應該學習偶爾閉起嘴巴，打開耳朵，尊重局處的專業意見，不要辜負台北\\n市民的期待。\\n\\nhttp://udn.com/news/story/1/1489356\\n\\n\\n郝冰冰說話啦！但您也勸勸郝杯杯吧！\\n要不然如果跑去選議員，郝杯杯又放砲\\n連議員都落選就哭哭囉 ><\\n\\n--',\n",
       "     'from_user_name': 'girl10319',\n",
       "     'from_user_nick': '凱莉',\n",
       "     'media_name': 'HatePolitics',\n",
       "     'platform': 'ptt',\n",
       "     'time': '2016-02-05T19:46:13+08:00',\n",
       "     'title': '[新聞] 郝龍斌批柯文哲：爭功諉過 應學會閉嘴'},\n",
       "    '_type': 'ptt',\n",
       "    'sort': [1454672773000]},\n",
       "   {'_id': 'AVLpYqT4AFzOQVlagT4d',\n",
       "    '_index': 'platform',\n",
       "    '_score': None,\n",
       "    '_source': {'': '144',\n",
       "     'content': '1.媒體來源\\n\\nyahoo\\n\\n2.完整新聞標題:\\n\\n\\n網友看柯文哲 35%非常負面\\n\\n\\n\\n\\n\\n3.完整新聞內文:\\n\\n\\n台北市連日大塞車，「三橫三縱」自行車道工程被控是元凶，台北市長柯文哲坦承「同時\\n動工犯了錯」，「只要開除幾個局長就可以解決」的言論，更引發爭議。Yahoo奇摩新聞\\n網路調查「請問你對柯文哲的印象？」總計有58%網友對他評價為「負面」，包括35%回答\\n「非常負面」。\\n\\nYahoo奇摩新聞4日起調查網友對柯文哲的印象，截至今日（5日）中午12點，共有49,912\\n人投票，其中58%網友對柯文哲的印象為負面，正面評價的則為34%，包括「非常正面」佔\\n16%。\\n\\n不認同柯文哲言論的網友，多認為他非常「自大傲慢」。平平直言，堂堂一個市長在廣播\\n節目中公開叫人家去死一死，「很沒家教！」網友Felix Lee則表示，柯文哲就是下一個\\n李遠哲，「一個領域的專才，並不代表就是其他領域的專家」。\\n\\n也有網友針對「三橫三縱」發表意見，網友蔡信誼認為，任何政策的改革都有其專業性，\\n並不是換掉局長換掉就可以解決的；另有網友表示，若「三橫三縱」勢在必行，建議單車\\n道可以窄一點，或平日讓機車也可以通行。\\n\\n至於挺柯的網友，則認為他雖然講話很直接，但至少有在做事、正直清廉，「講話直白總\\n比說假話的政客好吧！」阿牛則希望柯市長未來能考慮周詳，三思而後行，這樣投給他的\\n票才會更有意義。\\n\\n\\n4.完整新聞連結 (或短網址):\\n\\n\\nhttp://tinyurl.com/j7e2duw\\n5.備註:\\n\\n以下開放全台各地臺北市民後悔投柯P\\n\\n--',\n",
       "     'from_user_name': 'b08297',\n",
       "     'from_user_nick': '聖蚊',\n",
       "     'media_name': 'Gossiping',\n",
       "     'platform': 'ptt',\n",
       "     'time': '2016-02-05T18:27:59+08:00',\n",
       "     'title': '[新聞] 網友看柯文哲 35%非常負面'},\n",
       "    '_type': 'ptt',\n",
       "    'sort': [1454668079000]}],\n",
       "  'max_score': None,\n",
       "  'total': 34},\n",
       " 'timed_out': False,\n",
       " 'took': 36}"
      ]
     },
     "execution_count": 84,
     "metadata": {},
     "output_type": "execute_result"
    }
   ],
   "source": [
    "results"
   ]
  },
  {
   "cell_type": "markdown",
   "metadata": {},
   "source": [
    "## 處理成可閱讀的樣子"
   ]
  },
  {
   "cell_type": "code",
   "execution_count": 73,
   "metadata": {
    "collapsed": false
   },
   "outputs": [],
   "source": [
    "def finaldata(results):\n",
    "    data=[]\n",
    "    for i in pd.DataFrame(results['hits']['hits'])['_source']:\n",
    "        data.append(i)\n",
    "    return pd.DataFrame(data)"
   ]
  },
  {
   "cell_type": "code",
   "execution_count": 74,
   "metadata": {
    "collapsed": false
   },
   "outputs": [
    {
     "data": {
      "text/html": [
       "<div>\n",
       "<table border=\"1\" class=\"dataframe\">\n",
       "  <thead>\n",
       "    <tr style=\"text-align: right;\">\n",
       "      <th></th>\n",
       "      <th></th>\n",
       "      <th>content</th>\n",
       "      <th>from_user_name</th>\n",
       "      <th>from_user_nick</th>\n",
       "      <th>media_name</th>\n",
       "      <th>platform</th>\n",
       "      <th>time</th>\n",
       "      <th>title</th>\n",
       "    </tr>\n",
       "  </thead>\n",
       "  <tbody>\n",
       "    <tr>\n",
       "      <th>0</th>\n",
       "      <td>31</td>\n",
       "      <td>※ 引述《StevePerry (StevePerry)》之銘言：\\n: 苦勞網\\n: 柯P...</td>\n",
       "      <td>mstory</td>\n",
       "      <td>m的故事</td>\n",
       "      <td>Gossiping</td>\n",
       "      <td>ptt</td>\n",
       "      <td>2016-02-09T08:12:23+08:00</td>\n",
       "      <td>Re: [新聞] 柯P別虛偽，落實性交易合法化！</td>\n",
       "    </tr>\n",
       "    <tr>\n",
       "      <th>1</th>\n",
       "      <td>36</td>\n",
       "      <td>柯文哲表示:千錯萬錯都不是我的錯\\n\\n        台北市就是從復興南北...</td>\n",
       "      <td>JamesSoong</td>\n",
       "      <td>Von Miller</td>\n",
       "      <td>HatePolitics</td>\n",
       "      <td>ptt</td>\n",
       "      <td>2016-02-08T21:38:34+08:00</td>\n",
       "      <td>[新聞] 滿意度剩47％ 柯文哲神回:塞車跟總統大選</td>\n",
       "    </tr>\n",
       "    <tr>\n",
       "      <th>2</th>\n",
       "      <td>37</td>\n",
       "      <td>※ 引述《popgsct (超級喜歡撿石頭)》之銘言：\\n: [ETtoday]\\n: 公布...</td>\n",
       "      <td>YesHi</td>\n",
       "      <td></td>\n",
       "      <td>Gossiping</td>\n",
       "      <td>ptt</td>\n",
       "      <td>2016-02-08T19:17:36+08:00</td>\n",
       "      <td>Re: [新聞] 公布北市土壤液化地點？　柯文哲證實：大</td>\n",
       "    </tr>\n",
       "    <tr>\n",
       "      <th>3</th>\n",
       "      <td>39</td>\n",
       "      <td>[ETtoday]\\n\\n公布北市土壤液化地點？　柯文哲證實：大約半年到1年\\n\\n東森新聞...</td>\n",
       "      <td>popgsct</td>\n",
       "      <td>超級喜歡撿石頭</td>\n",
       "      <td>Gossiping</td>\n",
       "      <td>ptt</td>\n",
       "      <td>2016-02-08T19:02:12+08:00</td>\n",
       "      <td>[新聞] 公布北市土壤液化地點？　柯文哲證實：大</td>\n",
       "    </tr>\n",
       "    <tr>\n",
       "      <th>4</th>\n",
       "      <td>67</td>\n",
       "      <td>柯P上任一年 台北「改變成真」？\\n\\nhttp://www.chinatimes.com/...</td>\n",
       "      <td>lovea</td>\n",
       "      <td>lovea</td>\n",
       "      <td>Gossiping</td>\n",
       "      <td>ptt</td>\n",
       "      <td>2016-02-07T17:28:29+08:00</td>\n",
       "      <td>[新聞] 柯P上任一年 台北「改變成真」？</td>\n",
       "    </tr>\n",
       "    <tr>\n",
       "      <th>5</th>\n",
       "      <td>102</td>\n",
       "      <td>如果明天新聞還是柯文哲\\n\\n\\n要煩惱的就是我們了\\n\\n怎麼會有這麼奇扒的新聞媒體\\n\\n--</td>\n",
       "      <td>l23l23</td>\n",
       "      <td>喔</td>\n",
       "      <td>HatePolitics</td>\n",
       "      <td>ptt</td>\n",
       "      <td>2016-02-06T04:24:06+08:00</td>\n",
       "      <td>[黑特] 不用煩惱柯市長了</td>\n",
       "    </tr>\n",
       "    <tr>\n",
       "      <th>6</th>\n",
       "      <td>129</td>\n",
       "      <td>1.媒體來源:\\nUDN\\n\\n2.完整新聞標題:\\n郝批柯：閉起嘴巴 尊重專業\\n\\n3....</td>\n",
       "      <td>Ma19is5566</td>\n",
       "      <td></td>\n",
       "      <td>Gossiping</td>\n",
       "      <td>ptt</td>\n",
       "      <td>2016-02-05T21:50:35+08:00</td>\n",
       "      <td>[新聞] 郝批柯：閉起嘴巴 尊重專業</td>\n",
       "    </tr>\n",
       "    <tr>\n",
       "      <th>7</th>\n",
       "      <td>131</td>\n",
       "      <td>其實台北公車要不要漲，從來不是柯文哲一個人說了算呀。\\n\\n理由很簡單，大台北市區公車當中，...</td>\n",
       "      <td>agantw</td>\n",
       "      <td>←高級鍵盤七逃郎</td>\n",
       "      <td>Gossiping</td>\n",
       "      <td>ptt</td>\n",
       "      <td>2016-02-05T21:31:31+08:00</td>\n",
       "      <td>Re: [新聞] 柯拍板公車票緩漲 司機釀停駛</td>\n",
       "    </tr>\n",
       "    <tr>\n",
       "      <th>8</th>\n",
       "      <td>138</td>\n",
       "      <td>郝龍斌批柯文哲：爭功諉過 應學會閉嘴\\n\\n聯合晚報 記者程平╱即時報導\\n\\n台北市塞到爆...</td>\n",
       "      <td>girl10319</td>\n",
       "      <td>凱莉</td>\n",
       "      <td>HatePolitics</td>\n",
       "      <td>ptt</td>\n",
       "      <td>2016-02-05T19:46:13+08:00</td>\n",
       "      <td>[新聞] 郝龍斌批柯文哲：爭功諉過 應學會閉嘴</td>\n",
       "    </tr>\n",
       "    <tr>\n",
       "      <th>9</th>\n",
       "      <td>144</td>\n",
       "      <td>1.媒體來源\\n\\nyahoo\\n\\n2.完整新聞標題:\\n\\n\\n網友看柯文哲 35%非常...</td>\n",
       "      <td>b08297</td>\n",
       "      <td>聖蚊</td>\n",
       "      <td>Gossiping</td>\n",
       "      <td>ptt</td>\n",
       "      <td>2016-02-05T18:27:59+08:00</td>\n",
       "      <td>[新聞] 網友看柯文哲 35%非常負面</td>\n",
       "    </tr>\n",
       "  </tbody>\n",
       "</table>\n",
       "</div>"
      ],
      "text/plain": [
       "                                                  content from_user_name  \\\n",
       "0   31  ※ 引述《StevePerry (StevePerry)》之銘言：\\n: 苦勞網\\n: 柯P...         mstory   \n",
       "1   36          柯文哲表示:千錯萬錯都不是我的錯\\n\\n        台北市就是從復興南北...     JamesSoong   \n",
       "2   37  ※ 引述《popgsct (超級喜歡撿石頭)》之銘言：\\n: [ETtoday]\\n: 公布...          YesHi   \n",
       "3   39  [ETtoday]\\n\\n公布北市土壤液化地點？　柯文哲證實：大約半年到1年\\n\\n東森新聞...        popgsct   \n",
       "4   67  柯P上任一年 台北「改變成真」？\\n\\nhttp://www.chinatimes.com/...          lovea   \n",
       "5  102  如果明天新聞還是柯文哲\\n\\n\\n要煩惱的就是我們了\\n\\n怎麼會有這麼奇扒的新聞媒體\\n\\n--         l23l23   \n",
       "6  129  1.媒體來源:\\nUDN\\n\\n2.完整新聞標題:\\n郝批柯：閉起嘴巴 尊重專業\\n\\n3....     Ma19is5566   \n",
       "7  131  其實台北公車要不要漲，從來不是柯文哲一個人說了算呀。\\n\\n理由很簡單，大台北市區公車當中，...         agantw   \n",
       "8  138  郝龍斌批柯文哲：爭功諉過 應學會閉嘴\\n\\n聯合晚報 記者程平╱即時報導\\n\\n台北市塞到爆...      girl10319   \n",
       "9  144  1.媒體來源\\n\\nyahoo\\n\\n2.完整新聞標題:\\n\\n\\n網友看柯文哲 35%非常...         b08297   \n",
       "\n",
       "  from_user_nick    media_name platform                       time  \\\n",
       "0           m的故事     Gossiping      ptt  2016-02-09T08:12:23+08:00   \n",
       "1     Von Miller  HatePolitics      ptt  2016-02-08T21:38:34+08:00   \n",
       "2                    Gossiping      ptt  2016-02-08T19:17:36+08:00   \n",
       "3        超級喜歡撿石頭     Gossiping      ptt  2016-02-08T19:02:12+08:00   \n",
       "4          lovea     Gossiping      ptt  2016-02-07T17:28:29+08:00   \n",
       "5              喔  HatePolitics      ptt  2016-02-06T04:24:06+08:00   \n",
       "6                    Gossiping      ptt  2016-02-05T21:50:35+08:00   \n",
       "7       ←高級鍵盤七逃郎     Gossiping      ptt  2016-02-05T21:31:31+08:00   \n",
       "8             凱莉  HatePolitics      ptt  2016-02-05T19:46:13+08:00   \n",
       "9             聖蚊     Gossiping      ptt  2016-02-05T18:27:59+08:00   \n",
       "\n",
       "                          title  \n",
       "0      Re: [新聞] 柯P別虛偽，落實性交易合法化！  \n",
       "1    [新聞] 滿意度剩47％ 柯文哲神回:塞車跟總統大選  \n",
       "2  Re: [新聞] 公布北市土壤液化地點？　柯文哲證實：大  \n",
       "3      [新聞] 公布北市土壤液化地點？　柯文哲證實：大  \n",
       "4         [新聞] 柯P上任一年 台北「改變成真」？  \n",
       "5                 [黑特] 不用煩惱柯市長了  \n",
       "6            [新聞] 郝批柯：閉起嘴巴 尊重專業  \n",
       "7       Re: [新聞] 柯拍板公車票緩漲 司機釀停駛  \n",
       "8       [新聞] 郝龍斌批柯文哲：爭功諉過 應學會閉嘴  \n",
       "9           [新聞] 網友看柯文哲 35%非常負面  "
      ]
     },
     "execution_count": 74,
     "metadata": {},
     "output_type": "execute_result"
    }
   ],
   "source": [
    "finaldata(results)"
   ]
  },
  {
   "cell_type": "code",
   "execution_count": 71,
   "metadata": {
    "collapsed": false
   },
   "outputs": [
    {
     "name": "stdout",
     "output_type": "stream",
     "text": [
      "※ 引述《StevePerry (StevePerry)》之銘言：\n",
      ": 苦勞網\n",
      ": 柯P別虛偽，落實性交易合法化！\n",
      ": 文／日日春關懷互助協會（蕭怡婷、郭姵妤、陳虹霈、郭子亮）\n",
      ": 日日春近日聲援台北流鶯Miko數次行動，要求柯市長落實性交易合法化，市長卻推給執\n",
      "行\n",
      ": 取締非法流鶯的台北市警察局回應，並表示：「針對性交易合法化，社會需要充分討論\n",
      "，\n",
      ": 而市府對此也沒有明確的想法，目前沒有考慮設置。」讓我們看到號稱「改變台灣，從\n",
      "首\n",
      ": 都開始」的柯P模式，碰上爭議的「性交易地點空間合法化」，卻是虛偽又消極作為，\n",
      "根\n",
      ": 本迴避台北市早已春城無處不飛花的現實。\n",
      ": 性交易全面非法 惡法苦果流鶯吞\n",
      ": 2011年《社會秩序維護法》修法後，台灣早已有性交易合法法源，地方政府卻沒有落實\n",
      "性\n",
      ": 交易地點設置的政策，在沒有合法空間的不良政策結構下，最被剝奪的就是底層性工作\n",
      "者\n",
      ": ——流鶯的站街候客空間。\n",
      ": 《社維法》修法同年，台北縣（現新北市）掃蕩豆干厝私娼寮，部份小姐流轉到萬華站\n",
      "街\n",
      ": ，在流鶯Miko的執業房附近也陸續開設越來越多「掛羊頭賣狗肉」的養生館。加上警察\n",
      "不\n",
      ": 斷取締、小姐增加、站街空間限縮等，都導致競爭更加激烈。為了謀求生路，Miko於去\n",
      "年\n",
      ": （2015）10月在網路論壇刊登服務訊息，卻遭到昆明派出所警員釣魚，以《兒童及少年\n",
      "性\n",
      ": 交易防制條例》第29條起訴，最高可能面臨3年以下徒刑，併科100萬以下罰金。這是從\n",
      "國\n",
      ": 民黨郝龍斌執政再到柯P上任一年來，共同製造出來的惡果！\n",
      ": https://goo.gl/8unWkl\n",
      "別傻了好嗎?\n",
      "就算柯p不虛偽，但這整個國家除了柯p以外，有百分之九十九的人是虛偽的\n",
      "柯p就算再有能耐也對抗不了二千多萬人\n",
      "所以重點不在柯p會不會虛偽，而是整個社會就是虛偽的\n",
      "想解決這個問題就要解決其他百分之九十九的臺灣人\n",
      "不然柯p只會被媒體和柯黑還有議會霸凌罷了\n",
      "\n",
      "\n",
      "--\n",
      "        柯文哲表示:千錯萬錯都不是我的錯\n",
      "\n",
      "        台北市就是從復興南北路施工開始嚴重塞車的\n",
      "        早上七點到九點上班時間塞車  也是因為尾牙的關係嗎?  真是人一綠  腦堪慮\n",
      "\n",
      "1.新聞網址:\n",
      "\n",
      "        http://www.chinatimes.com/newspapers/20160206000196-260102\n",
      "\n",
      "2.新聞來源︰ \n",
      "\n",
      "        中國時報\n",
      "\n",
      "3.新聞內容︰\n",
      "\n",
      "滿意度剩47％ 柯文哲神回：塞車跟總統大選有關\n",
      "2016年02月06日 04:10 陳芃／台北報導\n",
      "\n",
      "根據旺旺中時民調中心最新調查，台北市長柯文哲滿意度跌到47.7％，創上任後新低。柯\n",
      "文哲昨表示，同意民調結果和近期北市交通塞爆有關；他說，要條條列出錯誤，反省施政\n",
      "；但卻又強調，台北會塞車，其實與「總統大選」有關係，因這造成許多公司行號，都將\n",
      "尾牙辦在投票日後，這也是塞車因素。\n",
      "\n",
      "民調結果受交通影響\n",
      "\n",
      "前市長郝龍斌昨批評柯文哲是以「爭功諉過」的態度在治理市政，希望柯市長能「打開耳\n",
      "朵、閉起嘴巴」。對此，柯文哲淡定說：「所有批評，我都會認真地聽。」\n",
      "\n",
      "根據旺旺中時民調中心的民調結果，柯文哲的不滿意度上升到3成左右，更有高達6成民眾\n",
      "認為台北市塞車問題嚴重。柯近日在電視節目專訪，為「三橫三縱」自行車道同時施工影\n",
      "響交通道歉，似和交通局長鍾慧諭認為施工非塞車主因的態度不同。\n",
      "\n",
      "郝龍斌盼柯閉起嘴巴\n",
      "\n",
      "對此，柯文哲昨天出席恩友教會圍爐活動時回應，任何事件都不太可能受單一因素影響，\n",
      "塞車從天氣、油價下降，甚至和1月16日的投票日都有關係，因為選舉時間晚，尾牙活動\n",
      "幾乎都是在投票日之後才辦。\n",
      "\n",
      "柯文哲還說，將來面對極端氣候，要有能力應付「突然很多不利因素加起來」的情況；這\n",
      "次是從1月22日忠孝橋車禍後，出現一連串狀況，這也給他很好的反省機會，市府應該在\n",
      "問題發生時，就能啟動一個機制處理。\n",
      "\n",
      "要了解民怨緊急處理\n",
      "\n",
      "面對民調跌落到47％，柯文哲表示跟最近交通還是有關係，面對問題是解決問題的第一步\n",
      "，要了解民怨所在、優先緊急處理。\n",
      "\n",
      "由於柯文哲曾說民調低於65％就會「收斂一點」，接下來是否調整施政節奏？他說會反省\n",
      "，先把這次犯的錯條條列出來，可先解決的先解決，有時候往前衝也要轉過來「收拾善後\n",
      "」。\n",
      "\n",
      "昨開始有民眾返鄉，柯文哲說，交通大概從昨天就會改善，為防止恢復上班出現問題，將\n",
      "成立交通處理小組，針對這次事件作檢討。\n",
      "\n",
      "\n",
      "\n",
      "--\n",
      "他叫以前的警務處處長趙剛\"家屬要求 速辦\" 很快 我弟弟後事辦完十多天就調回來了\n",
      "省長還有打電話來關心 所以 我們很感念省長 只要省長出來選舉 我們家裡一定義不容辭\n",
      "二十年後 我們一家又和省長重逢了 弟弟 安息吧 省長把我們家照顧得很好\n",
      "他答應我們的事 真的說到做到 https://www.youtube.com/watch?v=eWOHbcgFVEI\n",
      "浴火英雄陳俊宏 台灣人不會忘記你 宋省長 我們一家永遠支持你\n",
      "我可以講我的願望嗎? 我希望 明年一月十六 你當總統\n",
      "\n",
      "--\n",
      "※ 引述《popgsct (超級喜歡撿石頭)》之銘言：\n",
      ": [ETtoday]\n",
      ": 公布北市土壤液化地點？　柯文哲證實：大約半年到1年\n",
      ": 東森新聞記者陳志文、林彥佑／台北報導\n",
      ": 台北市長柯文哲大年初一（8日）和初二（9日）總共要拜訪22間宮廟，行程也是嗡嗡嗡，\n",
      ": 但由於台南震災，柯文哲取消發送福袋，只有上香祭祀，幫忙祈福；對於過年期間台北市\n",
      ": 重要的拆除忠孝橋工程，柯文哲也信心滿滿地說進度超前了。\n",
      ": 上香祈福，柯文哲因為台南震災，初一初二22個廟宇滿檔行程，全都取消發送福袋。柯文\n",
      ": 哲表示，「除了替南台灣的災民祈福，保佑他們以外，也祈求台北市政市政順利。」\n",
      ": 南部的大地震也引起了危機感，台北市的土壤液化比較嚴重的地點，市府有考慮公布嗎？\n",
      ": 柯文哲表示，「土壤液化本來我們就有一個……當時是有一個全市的調查，因為我們事實\n",
      ": 上過去有各個局的資料，那工務局事實上有一個計畫，把整個台北市土壤液化狀況做個總\n",
      ": 整理，當時工務局給我報告，全部做完，大概是半年或一年，我想正在進行當中。」\n",
      ": 除了地震安全相關議題，台北市在過年期間的大工程，就是忠孝橋拆遷工程，雖然之前因\n",
      ": 為自行車道工程造成北市大塞車，也讓柯市長傷腦筋，但這回的拆除忠孝橋可就顯得比較\n",
      ": 有信心。柯文哲說，「到現在為止，工程還滿順利的，應該會……本來是預計8天，我看\n",
      ": 應該會提早，這樣也好，讓我們有時間去做一下準備，（記者：提早是7天或6天？）這不\n",
      ": 曉得，工程的東西就不要做臆測。」儘管說進度超前，但不願說出時間，新的一年，對於\n",
      ": 交通問題，柯P似乎有把握多了。\n",
      ":  http://www.ettoday.net/news/20160208/645755.htm#ixzz3zZapvEI7\n",
      ": 備註:\n",
      ": 房價要繼續跌惹嗎？\n",
      "\n",
      "http://news.tvbs.com.tw/old-news.html?nid=553996\n",
      "\n",
      "加速都更　連憂北市土地液化地震4千屋倒\n",
      "記者吳茜洋/ 台北報導\n",
      "2014/11/11 21:04(更新時間：2014/11/16 13:06)\n",
      "\n",
      "前內政部長李鴻源，擔任台北市長候選人連勝文的市政顧問，陪同公布都更政策時，\n",
      "\n",
      "李鴻源提到台北市有5個區，因為房屋老舊加上土壤液化，在發生6級地震時，會有4\n",
      "\n",
      "千戶房屋倒塌，引發氣爆，100萬人可能有危險，因此連勝文的防災型都更非常重要。\n",
      "\n",
      "\n",
      "台北市長候選人連勝文：「超過50年的房子最少3萬多戶。」\n",
      "\n",
      "\n",
      "連勝文點出台北市房屋老舊問題，強打自己的防災型都更，他的市政顧問前內政部長\n",
      "\n",
      "李鴻源，一開口更是帶來震撼消息。\n",
      "\n",
      "\n",
      "前內政部長李鴻源：「我們一些比較老的地區，假如一個6級地震，它就是因為土壤\n",
      "\n",
      "液化，它會變成擴大成一個7級地震，我們會倒掉將近4千戶的房子，然後地震就會引\n",
      "\n",
      "起氣爆。」\n",
      "\n",
      "\n",
      "李鴻源說，危險區域在士林、北投、大同、中山、萬華5個區，他估計大概住了100\n",
      "\n",
      "萬人，一度怕引起糾紛，不想點出地點，一度賣關子，要連勝文當選再說，表示自己\n",
      "\n",
      "會擔任監督角色，同時支持連勝文提出的都更大方針。\n",
      "\n",
      "\n",
      "室內一坪換一坪，走樓梯換搭電梯，照顧原屋主，利用公辦方式推動大街廓都更，提\n",
      "\n",
      "高容積，用公共設施增加公營住宅存量，只租不賣，照顧青年，至於釘子戶也有解套\n",
      "\n",
      "方法，原本600坪才能都更的條件，放寬成150坪。\n",
      "\n",
      "\n",
      "連勝文：「不好意思，還好，我以為是我媽(打來)。」\n",
      "\n",
      "\n",
      "就這麼巧，連勝文談都更政策這天，主動提到母親連方瑀，前立委郭正亮說，連勝文\n",
      "\n",
      "想把都更問題解決，得先看看南陽街的都更爭議，有居民抱怨問題卡在地主仁濟院，\n",
      "\n",
      "而連方瑀是仁濟醫院的董事，郭正亮認為連家必須表態。\n",
      "\n",
      "\n",
      "連勝文：「我的母親擔任仁濟醫院的公益董事，這是一個公益的法人慈善機構，我母\n",
      "\n",
      "親的工作就是一年去開2次會，那也沒有領薪水、沒有賺錢，我沒有辦法評論個別的\n",
      "\n",
      "機構(仁濟院)是否要參與都更。」\n",
      "\n",
      "\n",
      "連勝文若當選，是為想都更的民眾，跟單位把平台創好，剩下的他沒辦法評論，但是\n",
      "\n",
      "像南陽街這個例子，是市民跟大地主的矛盾，若真的成了市長，還能置身事外嗎？\n",
      "\n",
      "\n",
      "\n",
      "\n",
      "\n",
      "李鴻源是之前就有講土地液化的問題了\n",
      "\n",
      "士林、北投、大同、中山、萬華這5個區，老房子真的很多\n",
      "\n",
      "真的一震，那不得了啦，一定比台南還嚴重吧\n",
      "\n",
      "--\n",
      "[ETtoday]\n",
      "\n",
      "公布北市土壤液化地點？　柯文哲證實：大約半年到1年\n",
      "\n",
      "東森新聞記者陳志文、林彥佑／台北報導\n",
      "\n",
      "台北市長柯文哲大年初一（8日）和初二（9日）總共要拜訪22間宮廟，行程也是嗡嗡嗡，\n",
      "但由於台南震災，柯文哲取消發送福袋，只有上香祭祀，幫忙祈福；對於過年期間台北市\n",
      "重要的拆除忠孝橋工程，柯文哲也信心滿滿地說進度超前了。\n",
      "\n",
      "上香祈福，柯文哲因為台南震災，初一初二22個廟宇滿檔行程，全都取消發送福袋。柯文\n",
      "哲表示，「除了替南台灣的災民祈福，保佑他們以外，也祈求台北市政市政順利。」\n",
      "\n",
      "南部的大地震也引起了危機感，台北市的土壤液化比較嚴重的地點，市府有考慮公布嗎？\n",
      "柯文哲表示，「土壤液化本來我們就有一個……當時是有一個全市的調查，因為我們事實\n",
      "上過去有各個局的資料，那工務局事實上有一個計畫，把整個台北市土壤液化狀況做個總\n",
      "整理，當時工務局給我報告，全部做完，大概是半年或一年，我想正在進行當中。」\n",
      "\n",
      "除了地震安全相關議題，台北市在過年期間的大工程，就是忠孝橋拆遷工程，雖然之前因\n",
      "為自行車道工程造成北市大塞車，也讓柯市長傷腦筋，但這回的拆除忠孝橋可就顯得比較\n",
      "有信心。柯文哲說，「到現在為止，工程還滿順利的，應該會……本來是預計8天，我看\n",
      "應該會提早，這樣也好，讓我們有時間去做一下準備，（記者：提早是7天或6天？）這不\n",
      "曉得，工程的東西就不要做臆測。」儘管說進度超前，但不願說出時間，新的一年，對於\n",
      "交通問題，柯P似乎有把握多了。\n",
      "\n",
      "\n",
      " http://www.ettoday.net/news/20160208/645755.htm#ixzz3zZapvEI7\n",
      "\n",
      "備註:\n",
      "\n",
      "房價要繼續跌惹嗎？\n",
      "\n",
      "--\n",
      "柯P上任一年 台北「改變成真」？\n",
      "\n",
      "http://www.chinatimes.com/realtimenews/20160207001496-260407\n",
      "\n",
      "台北市長柯文哲上任剛滿一年沒多久，雷厲風行推動了許多政策。去年台北市政府的新年\n",
      "春聯是「改變成真」、「萬象更新」，有網友羅列「市區塞車」、「颱風喝黃泥水」、「\n",
      "河濱公園堆泥巴」，諷刺台北市真的「改變成真」。\n",
      "\n",
      "台北市政府去年將柯文哲競選口號「改變成真」製成春聯，臉書「公民1495行動聯盟」及\n",
      "、「你這麼好騙，你家裡人知道嗎？」粉絲頁，都以春聯「改變成真」、「萬象更新」P\n",
      "圖，諷刺台北市真的「改變成真」。\n",
      "\n",
      "引起民怨的「改變成真」部分有台北市再現大塞車、颱風喝黃泥水、颱風走後路樹、淤泥\n",
      "清運時間拉很長等。北投網友留言「北投市民超有感，從郝會修路市長，變成現在天天時\n",
      "時刻刻每分每秒都在修，我真的不太懂，是颱風吹垮陽明山地基了嗎?」\n",
      "\n",
      "柯文哲上任後推動很多新政策，有的立意良善，也有的讓民眾摸不著頭腦。例如\n",
      "\n",
      "「拆除忠孝西路公車專用道」:柯文哲上任後第一件事就是拆除頻頻引起民怨的「忠孝西\n",
      "路公車專用道」，雷厲風行上任首天12月25日深夜就開拆，網路一片好評，許多人到場朝\n",
      "聖拍照，還撿拆下的石頭回去做紀念。\n",
      "\n",
      "「自己的輓聯自己印」:為了環保，且認為公帑花在印製輓聯、喜幛太浪費。柯P提出「自\n",
      "己的輓聯自己印」，解聘秘書處兩位繕寫輓聯的人員。稱議員有需要，市府可以上網提供\n",
      "制式版本，由索取者自費印製，或採電子輓聯，省錢又環保。此政策有人拍手叫好，也有\n",
      "人覺得不夠溫暖。\n",
      "\n",
      "「行動派出所」:柯P提出若裁撤北市96個派出所，一年可省下4億7000萬元。去年7月「行\n",
      "動派出所」試辦上路，5輛行動派出所警備車，每車投入約百萬元經費改裝。然而因原本\n",
      "受理報案的主要功能，並未達到預期成效，反而成為民眾問路、代保管物品及參觀拍照的\n",
      "景點，警界及民眾普遍認為浪費警力又效率不高。試辦4個月後便走入歷史，改名「機動\n",
      "派出所」。\n",
      "\n",
      "「颱風過後北市喝黃泥水」:去年8月蘇迪勒颱風夾帶豪雨，導致供應大台北地區的水源濁\n",
      "度驟增，颱風過後幾天，北市引以為豪全台水質第一的自來水變黃泥水，賣場出現搶購瓶\n",
      "裝水，一水難求情況，洗水塔業績暴增，為北市首見。市長愛妻陳佩琪在臉書自曝，先生\n",
      "颱風天整天在家吃飯，引發喧然大波，無法置信市長颱風天「躲在豪宅清冰箱」，也讓陳\n",
      "佩琪關臉書至今。\n",
      "\n",
      "「交通塞爆!」:三橫三縱自行車道路網涵蓋市區重要幹道，同時動工讓北市許多主要幹道\n",
      "非尖峰時間都大塞車，有議員憤怒過馬路竟等7個90秒紅燈。北市塞車也讓人氣頗旺的柯\n",
      "文哲滿意度跌到47.7％，創上任後新低。但柯市長對塞車有特殊見解，強調「我犯的錯就\n",
      "是同時動工」後，又提出台北會塞車，其實與「總統大選」有關係，因這造成許多公司行\n",
      "號，都將尾牙辦在投票日後。\n",
      "\n",
      "--\n",
      "如果明天新聞還是柯文哲\n",
      "\n",
      "\n",
      "要煩惱的就是我們了\n",
      "\n",
      "怎麼會有這麼奇扒的新聞媒體\n",
      "\n",
      "--\n",
      "1.媒體來源:\n",
      "UDN\n",
      "\n",
      "2.完整新聞標題:\n",
      "郝批柯：閉起嘴巴 尊重專業\n",
      "\n",
      "3.完整新聞內文:\n",
      "台北市道路交通塞到爆，市府面對問題手足無措，台北市長柯文哲昨天認錯，但把矛頭指\n",
      "向前市長郝龍斌。對此，郝龍斌上午說，柯文哲應該學習偶爾閉起嘴巴，打開耳朵，尊重\n",
      "局處的專業意見，不應用爭功諉過的特質治理市政。\n",
      "\n",
      "郝龍斌並表示，「三橫三縱」造成北市交通大打結，是因為不該全面施工。一年前，他曾\n",
      "說柯文哲最大特質是爭功諉過，柯上任一年多了，還是用這樣的特質治理城市，只要出現\n",
      "的問題，就推給他，好的政績就列為柯文哲新政。\n",
      "\n",
      "郝龍斌說，柯文哲很會行銷，但再會行銷，人民生活的感受，才是真實的。柯文哲應該學\n",
      "習偶爾閉起嘴巴，打開耳朵，尊重居處的專業意見，不要辜負台北市民的期待。\n",
      "\n",
      "郝辦發言人游淑慧說，郝市府八年期間，台北市也一直有捷運施工和人行道拓寬工程，但\n",
      "為何沒有造成最近的交通亂象，就如同柯市長所坦承的錯誤，塞車是同時施工和交管沒做\n",
      "好所造成。\n",
      "\n",
      "游淑慧也說，柯市長上任後，用自己的認知，任意改變警察的勤務，先是學校殺童案件後\n",
      "，恢復護童專案，後來行動派出所，又證明勞民傷財，最近的交通亂像，也一定程度和他\n",
      "改變警察勤務有關。\n",
      "\n",
      "游淑慧進一步指出，三橫三縱政策，不管是否為郝制定的，但郝任內並未施工，柯市長上\n",
      "任後，仍然有很大的政策調整權，且城市推動自行車相關政策，是正確的政策，郝推動的\n",
      "Youbike就很成功，政策方向和執行方式，本來就都需求尊重專業，所有環節都沒辦法憑\n",
      "一個非專業的人自我想像。\n",
      "\n",
      "\n",
      "\n",
      "\n",
      "4.完整新聞連結 (或短網址):\n",
      "http://tinyurl.com/zbvy42z\n",
      "\n",
      "5.備註:\n",
      "※ 一個人一天只能張貼一則新聞，被刪或自刪也算額度內，超貼者水桶，請注意\n",
      "\n",
      "--\n",
      "其實台北公車要不要漲，從來不是柯文哲一個人說了算呀。\n",
      "\n",
      "理由很簡單，大台北市區公車當中，有一些是「新北市」管的，例如八字頭，大部分的七\n",
      "字頭，部分九字頭還有一些顏色系列的捷運接駁公車，這部分其實一般乘客不是那麼清楚\n",
      "。由於新北市長三週前才銷假上班，這部分當然要等他搞清楚狀況，並和柯市長協調後才\n",
      "能定案呀！\n",
      "\n",
      "當然，台北市轄公車如果現在自己宣布漲價也是可以的，不過如果這樣，那些和新北市轄\n",
      "路線有競爭關係的台北市轄路線會受負面影響XD\n",
      "\n",
      "--\n",
      "郝龍斌批柯文哲：爭功諉過 應學會閉嘴\n",
      "\n",
      "聯合晚報 記者程平╱即時報導\n",
      "\n",
      "台北市塞到爆，民怨重創柯市府。台北市長柯文哲昨天在接受電子媒體專訪認錯，但也把\n",
      "矛頭指向前市長郝龍斌，指最初的計畫是在郝龍斌時代所訂定。郝龍斌今天在受訪時說，\n",
      "柯文哲用「爭功諉過」的特質治理市政，但應該學習偶爾閉起嘴巴，打開耳朵，尊重局處\n",
      "的專業意見。\n",
      "\n",
      "郝龍斌認為，「三橫三縱」造成北市交通大打結，主要是因為不該全面施工。郝龍斌說，\n",
      "一年前，他曾說柯市長最大的特質就是「爭功諉過」，柯上任已經一年多了，還是用這樣\n",
      "的特質在治理城市，只要出現的問題，就推給他，而好的政績就列為柯P新政。\n",
      "\n",
      "郝龍斌並說，他知道柯市長很會行銷，但再會行銷，人民生活的感受，才是真實的。郝龍\n",
      "斌建議，柯市長應該學習偶爾閉起嘴巴，打開耳朵，尊重局處的專業意見，不要辜負台北\n",
      "市民的期待。\n",
      "\n",
      "http://udn.com/news/story/1/1489356\n",
      "\n",
      "\n",
      "郝冰冰說話啦！但您也勸勸郝杯杯吧！\n",
      "要不然如果跑去選議員，郝杯杯又放砲\n",
      "連議員都落選就哭哭囉 ><\n",
      "\n",
      "--\n",
      "1.媒體來源\n",
      "\n",
      "yahoo\n",
      "\n",
      "2.完整新聞標題:\n",
      "\n",
      "\n",
      "網友看柯文哲 35%非常負面\n",
      "\n",
      "\n",
      "\n",
      "\n",
      "\n",
      "3.完整新聞內文:\n",
      "\n",
      "\n",
      "台北市連日大塞車，「三橫三縱」自行車道工程被控是元凶，台北市長柯文哲坦承「同時\n",
      "動工犯了錯」，「只要開除幾個局長就可以解決」的言論，更引發爭議。Yahoo奇摩新聞\n",
      "網路調查「請問你對柯文哲的印象？」總計有58%網友對他評價為「負面」，包括35%回答\n",
      "「非常負面」。\n",
      "\n",
      "Yahoo奇摩新聞4日起調查網友對柯文哲的印象，截至今日（5日）中午12點，共有49,912\n",
      "人投票，其中58%網友對柯文哲的印象為負面，正面評價的則為34%，包括「非常正面」佔\n",
      "16%。\n",
      "\n",
      "不認同柯文哲言論的網友，多認為他非常「自大傲慢」。平平直言，堂堂一個市長在廣播\n",
      "節目中公開叫人家去死一死，「很沒家教！」網友Felix Lee則表示，柯文哲就是下一個\n",
      "李遠哲，「一個領域的專才，並不代表就是其他領域的專家」。\n",
      "\n",
      "也有網友針對「三橫三縱」發表意見，網友蔡信誼認為，任何政策的改革都有其專業性，\n",
      "並不是換掉局長換掉就可以解決的；另有網友表示，若「三橫三縱」勢在必行，建議單車\n",
      "道可以窄一點，或平日讓機車也可以通行。\n",
      "\n",
      "至於挺柯的網友，則認為他雖然講話很直接，但至少有在做事、正直清廉，「講話直白總\n",
      "比說假話的政客好吧！」阿牛則希望柯市長未來能考慮周詳，三思而後行，這樣投給他的\n",
      "票才會更有意義。\n",
      "\n",
      "\n",
      "4.完整新聞連結 (或短網址):\n",
      "\n",
      "\n",
      "http://tinyurl.com/j7e2duw\n",
      "5.備註:\n",
      "\n",
      "以下開放全台各地臺北市民後悔投柯P\n",
      "\n",
      "--\n"
     ]
    }
   ],
   "source": [
    "for i in pd.DataFrame(data)['content']:\n",
    "    print (i)"
   ]
  },
  {
   "cell_type": "markdown",
   "metadata": {},
   "source": [
    "## 存成 csv 檔"
   ]
  },
  {
   "cell_type": "code",
   "execution_count": 78,
   "metadata": {
    "collapsed": true
   },
   "outputs": [],
   "source": [
    "finaldata(results).to_csv('data/test_result.csv',index=False)#index是否記錄列的順序欄位"
   ]
  },
  {
   "cell_type": "markdown",
   "metadata": {},
   "source": [
    "看存的樣子"
   ]
  },
  {
   "cell_type": "code",
   "execution_count": 79,
   "metadata": {
    "collapsed": false
   },
   "outputs": [
    {
     "data": {
      "text/html": [
       "<div>\n",
       "<table border=\"1\" class=\"dataframe\">\n",
       "  <thead>\n",
       "    <tr style=\"text-align: right;\">\n",
       "      <th></th>\n",
       "      <th>Unnamed: 0</th>\n",
       "      <th>content</th>\n",
       "      <th>from_user_name</th>\n",
       "      <th>from_user_nick</th>\n",
       "      <th>media_name</th>\n",
       "      <th>platform</th>\n",
       "      <th>time</th>\n",
       "      <th>title</th>\n",
       "    </tr>\n",
       "  </thead>\n",
       "  <tbody>\n",
       "    <tr>\n",
       "      <th>0</th>\n",
       "      <td>31</td>\n",
       "      <td>※ 引述《StevePerry (StevePerry)》之銘言：\\n: 苦勞網\\n: 柯P...</td>\n",
       "      <td>mstory</td>\n",
       "      <td>m的故事</td>\n",
       "      <td>Gossiping</td>\n",
       "      <td>ptt</td>\n",
       "      <td>2016-02-09T08:12:23+08:00</td>\n",
       "      <td>Re: [新聞] 柯P別虛偽，落實性交易合法化！</td>\n",
       "    </tr>\n",
       "    <tr>\n",
       "      <th>1</th>\n",
       "      <td>36</td>\n",
       "      <td>柯文哲表示:千錯萬錯都不是我的錯\\n\\n        台北市就是從復興南北...</td>\n",
       "      <td>JamesSoong</td>\n",
       "      <td>Von Miller</td>\n",
       "      <td>HatePolitics</td>\n",
       "      <td>ptt</td>\n",
       "      <td>2016-02-08T21:38:34+08:00</td>\n",
       "      <td>[新聞] 滿意度剩47％ 柯文哲神回:塞車跟總統大選</td>\n",
       "    </tr>\n",
       "    <tr>\n",
       "      <th>2</th>\n",
       "      <td>37</td>\n",
       "      <td>※ 引述《popgsct (超級喜歡撿石頭)》之銘言：\\n: [ETtoday]\\n: 公布...</td>\n",
       "      <td>YesHi</td>\n",
       "      <td>NaN</td>\n",
       "      <td>Gossiping</td>\n",
       "      <td>ptt</td>\n",
       "      <td>2016-02-08T19:17:36+08:00</td>\n",
       "      <td>Re: [新聞] 公布北市土壤液化地點？　柯文哲證實：大</td>\n",
       "    </tr>\n",
       "    <tr>\n",
       "      <th>3</th>\n",
       "      <td>39</td>\n",
       "      <td>[ETtoday]\\n\\n公布北市土壤液化地點？　柯文哲證實：大約半年到1年\\n\\n東森新聞...</td>\n",
       "      <td>popgsct</td>\n",
       "      <td>超級喜歡撿石頭</td>\n",
       "      <td>Gossiping</td>\n",
       "      <td>ptt</td>\n",
       "      <td>2016-02-08T19:02:12+08:00</td>\n",
       "      <td>[新聞] 公布北市土壤液化地點？　柯文哲證實：大</td>\n",
       "    </tr>\n",
       "    <tr>\n",
       "      <th>4</th>\n",
       "      <td>67</td>\n",
       "      <td>柯P上任一年 台北「改變成真」？\\n\\nhttp://www.chinatimes.com/...</td>\n",
       "      <td>lovea</td>\n",
       "      <td>lovea</td>\n",
       "      <td>Gossiping</td>\n",
       "      <td>ptt</td>\n",
       "      <td>2016-02-07T17:28:29+08:00</td>\n",
       "      <td>[新聞] 柯P上任一年 台北「改變成真」？</td>\n",
       "    </tr>\n",
       "  </tbody>\n",
       "</table>\n",
       "</div>"
      ],
      "text/plain": [
       "   Unnamed: 0                                            content  \\\n",
       "0          31  ※ 引述《StevePerry (StevePerry)》之銘言：\\n: 苦勞網\\n: 柯P...   \n",
       "1          36          柯文哲表示:千錯萬錯都不是我的錯\\n\\n        台北市就是從復興南北...   \n",
       "2          37  ※ 引述《popgsct (超級喜歡撿石頭)》之銘言：\\n: [ETtoday]\\n: 公布...   \n",
       "3          39  [ETtoday]\\n\\n公布北市土壤液化地點？　柯文哲證實：大約半年到1年\\n\\n東森新聞...   \n",
       "4          67  柯P上任一年 台北「改變成真」？\\n\\nhttp://www.chinatimes.com/...   \n",
       "\n",
       "  from_user_name from_user_nick    media_name platform  \\\n",
       "0         mstory           m的故事     Gossiping      ptt   \n",
       "1     JamesSoong     Von Miller  HatePolitics      ptt   \n",
       "2          YesHi            NaN     Gossiping      ptt   \n",
       "3        popgsct        超級喜歡撿石頭     Gossiping      ptt   \n",
       "4          lovea          lovea     Gossiping      ptt   \n",
       "\n",
       "                        time                         title  \n",
       "0  2016-02-09T08:12:23+08:00      Re: [新聞] 柯P別虛偽，落實性交易合法化！  \n",
       "1  2016-02-08T21:38:34+08:00    [新聞] 滿意度剩47％ 柯文哲神回:塞車跟總統大選  \n",
       "2  2016-02-08T19:17:36+08:00  Re: [新聞] 公布北市土壤液化地點？　柯文哲證實：大  \n",
       "3  2016-02-08T19:02:12+08:00      [新聞] 公布北市土壤液化地點？　柯文哲證實：大  \n",
       "4  2016-02-07T17:28:29+08:00         [新聞] 柯P上任一年 台北「改變成真」？  "
      ]
     },
     "execution_count": 79,
     "metadata": {},
     "output_type": "execute_result"
    }
   ],
   "source": [
    "pd.read_csv('data/test_result.csv').head()"
   ]
  },
  {
   "cell_type": "code",
   "execution_count": null,
   "metadata": {
    "collapsed": true
   },
   "outputs": [],
   "source": []
  }
 ],
 "metadata": {
  "kernelspec": {
   "display_name": "Python 3",
   "language": "python",
   "name": "python3"
  },
  "language_info": {
   "codemirror_mode": {
    "name": "ipython",
    "version": 3
   },
   "file_extension": ".py",
   "mimetype": "text/x-python",
   "name": "python",
   "nbconvert_exporter": "python",
   "pygments_lexer": "ipython3",
   "version": "3.4.3"
  }
 },
 "nbformat": 4,
 "nbformat_minor": 0
}
